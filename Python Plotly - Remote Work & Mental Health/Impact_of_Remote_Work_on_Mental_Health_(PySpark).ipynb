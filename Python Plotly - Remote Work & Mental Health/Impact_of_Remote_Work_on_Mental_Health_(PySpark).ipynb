{
  "nbformat": 4,
  "nbformat_minor": 0,
  "metadata": {
    "colab": {
      "provenance": []
    },
    "kernelspec": {
      "name": "python3",
      "display_name": "Python 3"
    },
    "language_info": {
      "name": "python"
    }
  },
  "cells": [
    {
      "cell_type": "code",
      "execution_count": 1,
      "metadata": {
        "colab": {
          "base_uri": "https://localhost:8080/"
        },
        "id": "8ioK9AuULR1V",
        "outputId": "3718253c-54e9-4fea-afb6-26930145c8ab"
      },
      "outputs": [
        {
          "output_type": "stream",
          "name": "stdout",
          "text": [
            "Requirement already satisfied: pyspark in /usr/local/lib/python3.11/dist-packages (3.5.5)\n",
            "Requirement already satisfied: py4j==0.10.9.7 in /usr/local/lib/python3.11/dist-packages (from pyspark) (0.10.9.7)\n"
          ]
        }
      ],
      "source": [
        "pip install pyspark"
      ]
    },
    {
      "cell_type": "code",
      "source": [
        "import numpy as np\n",
        "import pandas as pd\n",
        "import seaborn as sns\n",
        "import matplotlib as mpl\n",
        "import matplotlib.pyplot as plt"
      ],
      "metadata": {
        "id": "vCotyBIgZLSN"
      },
      "execution_count": 3,
      "outputs": []
    },
    {
      "cell_type": "code",
      "source": [
        "# Mount drive de google\n",
        "from google.colab import drive\n",
        "drive.mount('/content/drive')"
      ],
      "metadata": {
        "colab": {
          "base_uri": "https://localhost:8080/"
        },
        "id": "TLRwxW-TZBJ-",
        "outputId": "b417fa06-a800-47df-81c6-55fe0ae10c3b"
      },
      "execution_count": 2,
      "outputs": [
        {
          "output_type": "stream",
          "name": "stdout",
          "text": [
            "Mounted at /content/drive\n"
          ]
        }
      ]
    },
    {
      "cell_type": "markdown",
      "source": [
        "## Spark Session"
      ],
      "metadata": {
        "id": "aYR6gjizaFZ2"
      }
    },
    {
      "cell_type": "code",
      "source": [
        "from pyspark.sql import SparkSession\n",
        "\n",
        "# Initialize a Spark session\n",
        "spark = SparkSession.builder \\\n",
        "    .appName(\"Mental Health Analysis\") \\\n",
        "    .getOrCreate()"
      ],
      "metadata": {
        "id": "Pk8GyfncZm8L"
      },
      "execution_count": 5,
      "outputs": []
    },
    {
      "cell_type": "markdown",
      "source": [
        "## Load Data"
      ],
      "metadata": {
        "id": "EaZJHGzfaAmE"
      }
    },
    {
      "cell_type": "code",
      "source": [
        "# Load the dataset into a Spark DataFrame\n",
        "data_path = \"/content/drive/MyDrive/4. Projects/Healthcare/Healthcare - Remote Work/Impact_of_Remote_Work_on_Mental_Health.csv\"\n",
        "df = spark.read.option(\"header\", \"true\").csv(data_path)\n",
        "\n",
        "# Show the first few records of the DataFrame\n",
        "df.show(5)"
      ],
      "metadata": {
        "colab": {
          "base_uri": "https://localhost:8080/"
        },
        "id": "D53PerxpZxyy",
        "outputId": "2b8aa36d-8377-4105-eb1f-7d499b7da451"
      },
      "execution_count": 6,
      "outputs": [
        {
          "output_type": "stream",
          "name": "stdout",
          "text": [
            "+-----------+---+----------+-----------------+----------+-------------------+-------------+---------------------+--------------------------+------------------------+------------+-----------------------+---------------------------------+-------------------+-----------------------+-----------------------------+-------------------------------+-----------------+-------------+-------------+\n",
            "|Employee_ID|Age|    Gender|         Job_Role|  Industry|Years_of_Experience|Work_Location|Hours_Worked_Per_Week|Number_of_Virtual_Meetings|Work_Life_Balance_Rating|Stress_Level|Mental_Health_Condition|Access_to_Mental_Health_Resources|Productivity_Change|Social_Isolation_Rating|Satisfaction_with_Remote_Work|Company_Support_for_Remote_Work|Physical_Activity|Sleep_Quality|       Region|\n",
            "+-----------+---+----------+-----------------+----------+-------------------+-------------+---------------------+--------------------------+------------------------+------------+-----------------------+---------------------------------+-------------------+-----------------------+-----------------------------+-------------------------------+-----------------+-------------+-------------+\n",
            "|    EMP0001| 32|Non-binary|               HR|Healthcare|                 13|       Hybrid|                   47|                         7|                       2|      Medium|             Depression|                               No|           Decrease|                      1|                  Unsatisfied|                              1|           Weekly|         Good|       Europe|\n",
            "|    EMP0002| 40|    Female|   Data Scientist|        IT|                  3|       Remote|                   52|                         4|                       1|      Medium|                Anxiety|                               No|           Increase|                      3|                    Satisfied|                              2|           Weekly|         Good|         Asia|\n",
            "|    EMP0003| 59|Non-binary|Software Engineer| Education|                 22|       Hybrid|                   46|                        11|                       5|      Medium|                Anxiety|                               No|          No Change|                      4|                  Unsatisfied|                              5|             None|         Poor|North America|\n",
            "|    EMP0004| 27|      Male|Software Engineer|   Finance|                 20|       Onsite|                   32|                         8|                       4|        High|             Depression|                              Yes|           Increase|                      3|                  Unsatisfied|                              3|             None|         Poor|       Europe|\n",
            "|    EMP0005| 49|      Male|            Sales|Consulting|                 32|       Onsite|                   35|                        12|                       2|        High|                   None|                              Yes|           Decrease|                      3|                  Unsatisfied|                              3|           Weekly|      Average|North America|\n",
            "+-----------+---+----------+-----------------+----------+-------------------+-------------+---------------------+--------------------------+------------------------+------------+-----------------------+---------------------------------+-------------------+-----------------------+-----------------------------+-------------------------------+-----------------+-------------+-------------+\n",
            "only showing top 5 rows\n",
            "\n"
          ]
        }
      ]
    },
    {
      "cell_type": "markdown",
      "source": [
        "## Data processing and cleaning"
      ],
      "metadata": {
        "id": "CPlVBtwgaIxE"
      }
    },
    {
      "cell_type": "code",
      "source": [
        "from pyspark.sql.functions import col"
      ],
      "metadata": {
        "id": "TL0FW3MNaQYd"
      },
      "execution_count": 8,
      "outputs": []
    },
    {
      "cell_type": "code",
      "source": [
        "# Convert appropriate columns to their correct data types\n",
        "df = df.withColumn(\"Age\", col(\"Age\").cast(\"int\")) \\\n",
        "       .withColumn(\"Years_of_Experience\", col(\"Years_of_Experience\").cast(\"int\")) \\\n",
        "       .withColumn(\"Hours_Worked_Per_Week\", col(\"Hours_Worked_Per_Week\").cast(\"int\"))\n",
        "\n"
      ],
      "metadata": {
        "id": "XMh0Ml9zaLs7"
      },
      "execution_count": 9,
      "outputs": []
    },
    {
      "cell_type": "code",
      "source": [
        "# Drop rows with missing values in critical columns (if needed)\n",
        "df = df.dropna(subset=[\"Age\", \"Gender\", \"Industry\", \"Region\"])"
      ],
      "metadata": {
        "id": "XS1iSMgIaSIE"
      },
      "execution_count": 10,
      "outputs": []
    },
    {
      "cell_type": "code",
      "source": [
        "# Show schema to check the changes\n",
        "df.printSchema()"
      ],
      "metadata": {
        "colab": {
          "base_uri": "https://localhost:8080/"
        },
        "id": "iXgnKTJcaSOM",
        "outputId": "e37a918b-409c-4cec-fe71-1ec019713dbf"
      },
      "execution_count": 12,
      "outputs": [
        {
          "output_type": "stream",
          "name": "stdout",
          "text": [
            "root\n",
            " |-- Employee_ID: string (nullable = true)\n",
            " |-- Age: integer (nullable = true)\n",
            " |-- Gender: string (nullable = true)\n",
            " |-- Job_Role: string (nullable = true)\n",
            " |-- Industry: string (nullable = true)\n",
            " |-- Years_of_Experience: integer (nullable = true)\n",
            " |-- Work_Location: string (nullable = true)\n",
            " |-- Hours_Worked_Per_Week: integer (nullable = true)\n",
            " |-- Number_of_Virtual_Meetings: string (nullable = true)\n",
            " |-- Work_Life_Balance_Rating: string (nullable = true)\n",
            " |-- Stress_Level: string (nullable = true)\n",
            " |-- Mental_Health_Condition: string (nullable = true)\n",
            " |-- Access_to_Mental_Health_Resources: string (nullable = true)\n",
            " |-- Productivity_Change: string (nullable = true)\n",
            " |-- Social_Isolation_Rating: string (nullable = true)\n",
            " |-- Satisfaction_with_Remote_Work: string (nullable = true)\n",
            " |-- Company_Support_for_Remote_Work: string (nullable = true)\n",
            " |-- Physical_Activity: string (nullable = true)\n",
            " |-- Sleep_Quality: string (nullable = true)\n",
            " |-- Region: string (nullable = true)\n",
            "\n"
          ]
        }
      ]
    },
    {
      "cell_type": "code",
      "source": [
        "# Display the cleaned data\n",
        "df.show(5)"
      ],
      "metadata": {
        "colab": {
          "base_uri": "https://localhost:8080/"
        },
        "id": "g4Q_IeaRaa07",
        "outputId": "d16aa9f0-5a51-44be-e3e6-ef6fa607e9e8"
      },
      "execution_count": 13,
      "outputs": [
        {
          "output_type": "stream",
          "name": "stdout",
          "text": [
            "+-----------+---+----------+-----------------+----------+-------------------+-------------+---------------------+--------------------------+------------------------+------------+-----------------------+---------------------------------+-------------------+-----------------------+-----------------------------+-------------------------------+-----------------+-------------+-------------+\n",
            "|Employee_ID|Age|    Gender|         Job_Role|  Industry|Years_of_Experience|Work_Location|Hours_Worked_Per_Week|Number_of_Virtual_Meetings|Work_Life_Balance_Rating|Stress_Level|Mental_Health_Condition|Access_to_Mental_Health_Resources|Productivity_Change|Social_Isolation_Rating|Satisfaction_with_Remote_Work|Company_Support_for_Remote_Work|Physical_Activity|Sleep_Quality|       Region|\n",
            "+-----------+---+----------+-----------------+----------+-------------------+-------------+---------------------+--------------------------+------------------------+------------+-----------------------+---------------------------------+-------------------+-----------------------+-----------------------------+-------------------------------+-----------------+-------------+-------------+\n",
            "|    EMP0001| 32|Non-binary|               HR|Healthcare|                 13|       Hybrid|                   47|                         7|                       2|      Medium|             Depression|                               No|           Decrease|                      1|                  Unsatisfied|                              1|           Weekly|         Good|       Europe|\n",
            "|    EMP0002| 40|    Female|   Data Scientist|        IT|                  3|       Remote|                   52|                         4|                       1|      Medium|                Anxiety|                               No|           Increase|                      3|                    Satisfied|                              2|           Weekly|         Good|         Asia|\n",
            "|    EMP0003| 59|Non-binary|Software Engineer| Education|                 22|       Hybrid|                   46|                        11|                       5|      Medium|                Anxiety|                               No|          No Change|                      4|                  Unsatisfied|                              5|             None|         Poor|North America|\n",
            "|    EMP0004| 27|      Male|Software Engineer|   Finance|                 20|       Onsite|                   32|                         8|                       4|        High|             Depression|                              Yes|           Increase|                      3|                  Unsatisfied|                              3|             None|         Poor|       Europe|\n",
            "|    EMP0005| 49|      Male|            Sales|Consulting|                 32|       Onsite|                   35|                        12|                       2|        High|                   None|                              Yes|           Decrease|                      3|                  Unsatisfied|                              3|           Weekly|      Average|North America|\n",
            "+-----------+---+----------+-----------------+----------+-------------------+-------------+---------------------+--------------------------+------------------------+------------+-----------------------+---------------------------------+-------------------+-----------------------+-----------------------------+-------------------------------+-----------------+-------------+-------------+\n",
            "only showing top 5 rows\n",
            "\n"
          ]
        }
      ]
    },
    {
      "cell_type": "markdown",
      "source": [
        "### Data Aggregation"
      ],
      "metadata": {
        "id": "scsUzqWybLPf"
      }
    },
    {
      "cell_type": "code",
      "source": [
        "# Group by Region and calculate average Age, Years_of_Experience and \"Hours_Worked_Per_Week\"\n",
        "df.groupBy(\"Region\").agg(\n",
        "    {\"Age\": \"avg\", \"Years_of_Experience\": \"avg\", \"Hours_Worked_Per_Week\":\"avg\"}\n",
        ").show()"
      ],
      "metadata": {
        "colab": {
          "base_uri": "https://localhost:8080/"
        },
        "id": "BrP9xuTHbVm6",
        "outputId": "6048f997-ee1d-43e9-e8e2-420504799bc1"
      },
      "execution_count": 19,
      "outputs": [
        {
          "output_type": "stream",
          "name": "stdout",
          "text": [
            "+-------------+------------------------+------------------+--------------------------+\n",
            "|       Region|avg(Years_of_Experience)|          avg(Age)|avg(Hours_Worked_Per_Week)|\n",
            "+-------------+------------------------+------------------+--------------------------+\n",
            "|       Europe|      17.948809523809523| 41.13690476190476|        39.385714285714286|\n",
            "|       Africa|      17.309302325581395| 40.45348837209303|         39.32093023255814|\n",
            "|North America|      17.925353925353924|40.792792792792795|        39.742599742599744|\n",
            "|South America|      18.020556227327692| 40.78960096735187|         40.21644498186215|\n",
            "|      Oceania|      17.559400230680506|41.021914648212224|         39.44290657439446|\n",
            "|         Asia|      18.133896260554884| 41.77925211097708|         39.61037394451146|\n",
            "+-------------+------------------------+------------------+--------------------------+\n",
            "\n"
          ]
        }
      ]
    },
    {
      "cell_type": "markdown",
      "source": [],
      "metadata": {
        "id": "fUXV2A1dd43f"
      }
    },
    {
      "cell_type": "code",
      "source": [
        "# Count employees by Industry and Mental_Health_Condition\n",
        "df.groupBy(\"Industry\", \"Mental_Health_Condition\").count().show()\n"
      ],
      "metadata": {
        "colab": {
          "base_uri": "https://localhost:8080/"
        },
        "id": "CDjqJ73zeZpi",
        "outputId": "a495a1bf-5dec-4859-bb23-6e4b6124bd18"
      },
      "execution_count": 18,
      "outputs": [
        {
          "output_type": "stream",
          "name": "stdout",
          "text": [
            "+-------------+-----------------------+-----+\n",
            "|     Industry|Mental_Health_Condition|count|\n",
            "+-------------+-----------------------+-----+\n",
            "|      Finance|                Burnout|  202|\n",
            "|    Education|                   None|  169|\n",
            "|   Consulting|                Anxiety|  178|\n",
            "|       Retail|                Burnout|  180|\n",
            "|    Education|             Depression|  171|\n",
            "|   Consulting|                Burnout|  166|\n",
            "|      Finance|             Depression|  179|\n",
            "|   Healthcare|                Burnout|  191|\n",
            "|Manufacturing|                Anxiety|  181|\n",
            "|           IT|             Depression|  182|\n",
            "|       Retail|                Anxiety|  192|\n",
            "|Manufacturing|                Burnout|  175|\n",
            "|      Finance|                   None|  180|\n",
            "|       Retail|                   None|  163|\n",
            "|    Education|                Anxiety|  176|\n",
            "|      Finance|                Anxiety|  186|\n",
            "|   Healthcare|                Anxiety|  160|\n",
            "|           IT|                   None|  167|\n",
            "|   Consulting|             Depression|  172|\n",
            "|   Healthcare|                   None|  176|\n",
            "+-------------+-----------------------+-----+\n",
            "only showing top 20 rows\n",
            "\n"
          ]
        }
      ]
    },
    {
      "cell_type": "code",
      "source": [
        "# Average Hours_Worked_Per_Week by Job_Role\n",
        "df.groupBy(\"Job_Role\").agg(\n",
        "    {\"Hours_Worked_Per_Week\": \"avg\"}\n",
        ").show()\n"
      ],
      "metadata": {
        "colab": {
          "base_uri": "https://localhost:8080/"
        },
        "id": "4_4-9uj9ikrv",
        "outputId": "ca5f4352-67c3-4572-cf5f-2cee97e3a885"
      },
      "execution_count": 17,
      "outputs": [
        {
          "output_type": "stream",
          "name": "stdout",
          "text": [
            "+-----------------+--------------------------+\n",
            "|         Job_Role|avg(Hours_Worked_Per_Week)|\n",
            "+-----------------+--------------------------+\n",
            "|            Sales|        39.860845839017735|\n",
            "|  Project Manager|        39.922764227642276|\n",
            "|               HR|        39.660614525139664|\n",
            "|         Designer|        38.881051175656985|\n",
            "|   Data Scientist|         38.95402298850575|\n",
            "|        Marketing|        39.734992679355784|\n",
            "|Software Engineer|        40.271448663853725|\n",
            "+-----------------+--------------------------+\n",
            "\n"
          ]
        }
      ]
    },
    {
      "cell_type": "code",
      "source": [
        "# Employees who are \"Unsatisfied\" with remote work\n",
        "unsatisfied_employees = df.filter(df.Satisfaction_with_Remote_Work == \"Unsatisfied\")\n",
        "unsatisfied_employees.show(5)\n"
      ],
      "metadata": {
        "colab": {
          "base_uri": "https://localhost:8080/"
        },
        "id": "aWxjSSHvjApm",
        "outputId": "cfa6e773-c1ef-4243-ee6d-e35cbbd6cb13"
      },
      "execution_count": 20,
      "outputs": [
        {
          "output_type": "stream",
          "name": "stdout",
          "text": [
            "+-----------+---+----------+-----------------+----------+-------------------+-------------+---------------------+--------------------------+------------------------+------------+-----------------------+---------------------------------+-------------------+-----------------------+-----------------------------+-------------------------------+-----------------+-------------+-------------+\n",
            "|Employee_ID|Age|    Gender|         Job_Role|  Industry|Years_of_Experience|Work_Location|Hours_Worked_Per_Week|Number_of_Virtual_Meetings|Work_Life_Balance_Rating|Stress_Level|Mental_Health_Condition|Access_to_Mental_Health_Resources|Productivity_Change|Social_Isolation_Rating|Satisfaction_with_Remote_Work|Company_Support_for_Remote_Work|Physical_Activity|Sleep_Quality|       Region|\n",
            "+-----------+---+----------+-----------------+----------+-------------------+-------------+---------------------+--------------------------+------------------------+------------+-----------------------+---------------------------------+-------------------+-----------------------+-----------------------------+-------------------------------+-----------------+-------------+-------------+\n",
            "|    EMP0001| 32|Non-binary|               HR|Healthcare|                 13|       Hybrid|                   47|                         7|                       2|      Medium|             Depression|                               No|           Decrease|                      1|                  Unsatisfied|                              1|           Weekly|         Good|       Europe|\n",
            "|    EMP0003| 59|Non-binary|Software Engineer| Education|                 22|       Hybrid|                   46|                        11|                       5|      Medium|                Anxiety|                               No|          No Change|                      4|                  Unsatisfied|                              5|             None|         Poor|North America|\n",
            "|    EMP0004| 27|      Male|Software Engineer|   Finance|                 20|       Onsite|                   32|                         8|                       4|        High|             Depression|                              Yes|           Increase|                      3|                  Unsatisfied|                              3|             None|         Poor|       Europe|\n",
            "|    EMP0005| 49|      Male|            Sales|Consulting|                 32|       Onsite|                   35|                        12|                       2|        High|                   None|                              Yes|           Decrease|                      3|                  Unsatisfied|                              3|           Weekly|      Average|North America|\n",
            "|    EMP0006| 59|Non-binary|            Sales|        IT|                 31|       Hybrid|                   39|                         3|                       4|        High|                   None|                               No|           Increase|                      5|                  Unsatisfied|                              1|             None|      Average|South America|\n",
            "+-----------+---+----------+-----------------+----------+-------------------+-------------+---------------------+--------------------------+------------------------+------------+-----------------------+---------------------------------+-------------------+-----------------------+-----------------------------+-------------------------------+-----------------+-------------+-------------+\n",
            "only showing top 5 rows\n",
            "\n"
          ]
        }
      ]
    },
    {
      "cell_type": "code",
      "source": [],
      "metadata": {
        "id": "FNUZlsjGjEaR"
      },
      "execution_count": null,
      "outputs": []
    },
    {
      "cell_type": "markdown",
      "source": [],
      "metadata": {
        "id": "PDAQ4aFAZ-sZ"
      }
    }
  ]
}