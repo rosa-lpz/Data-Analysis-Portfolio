{
  "nbformat": 4,
  "nbformat_minor": 0,
  "metadata": {
    "colab": {
      "provenance": [],
      "toc_visible": true
    },
    "kernelspec": {
      "name": "python3",
      "display_name": "Python 3"
    },
    "language_info": {
      "name": "python"
    }
  },
  "cells": [
    {
      "cell_type": "code",
      "execution_count": 1,
      "metadata": {
        "colab": {
          "base_uri": "https://localhost:8080/"
        },
        "id": "8ioK9AuULR1V",
        "outputId": "3718253c-54e9-4fea-afb6-26930145c8ab"
      },
      "outputs": [
        {
          "output_type": "stream",
          "name": "stdout",
          "text": [
            "Requirement already satisfied: pyspark in /usr/local/lib/python3.11/dist-packages (3.5.5)\n",
            "Requirement already satisfied: py4j==0.10.9.7 in /usr/local/lib/python3.11/dist-packages (from pyspark) (0.10.9.7)\n"
          ]
        }
      ],
      "source": [
        "pip install pyspark"
      ]
    },
    {
      "cell_type": "code",
      "source": [
        "import pandas as pd\n",
        "import plotly.express as px\n",
        "import plotly.graph_objects as pgo"
      ],
      "metadata": {
        "id": "vCotyBIgZLSN"
      },
      "execution_count": 23,
      "outputs": []
    },
    {
      "cell_type": "code",
      "source": [
        "# Mount drive de google\n",
        "from google.colab import drive\n",
        "drive.mount('/content/drive')"
      ],
      "metadata": {
        "colab": {
          "base_uri": "https://localhost:8080/"
        },
        "id": "TLRwxW-TZBJ-",
        "outputId": "b417fa06-a800-47df-81c6-55fe0ae10c3b"
      },
      "execution_count": 2,
      "outputs": [
        {
          "output_type": "stream",
          "name": "stdout",
          "text": [
            "Mounted at /content/drive\n"
          ]
        }
      ]
    },
    {
      "cell_type": "markdown",
      "source": [
        "## Spark Session"
      ],
      "metadata": {
        "id": "aYR6gjizaFZ2"
      }
    },
    {
      "cell_type": "code",
      "source": [
        "from pyspark.sql import SparkSession\n",
        "\n",
        "# Initialize a Spark session\n",
        "spark = SparkSession.builder \\\n",
        "    .appName(\"Mental Health Analysis\") \\\n",
        "    .getOrCreate()"
      ],
      "metadata": {
        "id": "Pk8GyfncZm8L"
      },
      "execution_count": 5,
      "outputs": []
    },
    {
      "cell_type": "markdown",
      "source": [
        "## Load Data"
      ],
      "metadata": {
        "id": "EaZJHGzfaAmE"
      }
    },
    {
      "cell_type": "code",
      "source": [
        "# Load the dataset into a Spark DataFrame\n",
        "data_path = \"/content/drive/MyDrive/4. Projects/Healthcare/Healthcare - Remote Work/Impact_of_Remote_Work_on_Mental_Health.csv\"\n",
        "df = spark.read.option(\"header\", \"true\").csv(data_path)\n",
        "\n",
        "# Show the first few records of the DataFrame\n",
        "df.show(5)"
      ],
      "metadata": {
        "colab": {
          "base_uri": "https://localhost:8080/"
        },
        "id": "D53PerxpZxyy",
        "outputId": "2b8aa36d-8377-4105-eb1f-7d499b7da451"
      },
      "execution_count": 6,
      "outputs": [
        {
          "output_type": "stream",
          "name": "stdout",
          "text": [
            "+-----------+---+----------+-----------------+----------+-------------------+-------------+---------------------+--------------------------+------------------------+------------+-----------------------+---------------------------------+-------------------+-----------------------+-----------------------------+-------------------------------+-----------------+-------------+-------------+\n",
            "|Employee_ID|Age|    Gender|         Job_Role|  Industry|Years_of_Experience|Work_Location|Hours_Worked_Per_Week|Number_of_Virtual_Meetings|Work_Life_Balance_Rating|Stress_Level|Mental_Health_Condition|Access_to_Mental_Health_Resources|Productivity_Change|Social_Isolation_Rating|Satisfaction_with_Remote_Work|Company_Support_for_Remote_Work|Physical_Activity|Sleep_Quality|       Region|\n",
            "+-----------+---+----------+-----------------+----------+-------------------+-------------+---------------------+--------------------------+------------------------+------------+-----------------------+---------------------------------+-------------------+-----------------------+-----------------------------+-------------------------------+-----------------+-------------+-------------+\n",
            "|    EMP0001| 32|Non-binary|               HR|Healthcare|                 13|       Hybrid|                   47|                         7|                       2|      Medium|             Depression|                               No|           Decrease|                      1|                  Unsatisfied|                              1|           Weekly|         Good|       Europe|\n",
            "|    EMP0002| 40|    Female|   Data Scientist|        IT|                  3|       Remote|                   52|                         4|                       1|      Medium|                Anxiety|                               No|           Increase|                      3|                    Satisfied|                              2|           Weekly|         Good|         Asia|\n",
            "|    EMP0003| 59|Non-binary|Software Engineer| Education|                 22|       Hybrid|                   46|                        11|                       5|      Medium|                Anxiety|                               No|          No Change|                      4|                  Unsatisfied|                              5|             None|         Poor|North America|\n",
            "|    EMP0004| 27|      Male|Software Engineer|   Finance|                 20|       Onsite|                   32|                         8|                       4|        High|             Depression|                              Yes|           Increase|                      3|                  Unsatisfied|                              3|             None|         Poor|       Europe|\n",
            "|    EMP0005| 49|      Male|            Sales|Consulting|                 32|       Onsite|                   35|                        12|                       2|        High|                   None|                              Yes|           Decrease|                      3|                  Unsatisfied|                              3|           Weekly|      Average|North America|\n",
            "+-----------+---+----------+-----------------+----------+-------------------+-------------+---------------------+--------------------------+------------------------+------------+-----------------------+---------------------------------+-------------------+-----------------------+-----------------------------+-------------------------------+-----------------+-------------+-------------+\n",
            "only showing top 5 rows\n",
            "\n"
          ]
        }
      ]
    },
    {
      "cell_type": "markdown",
      "source": [
        "## Data processing and cleaning"
      ],
      "metadata": {
        "id": "CPlVBtwgaIxE"
      }
    },
    {
      "cell_type": "code",
      "source": [
        "from pyspark.sql.functions import col"
      ],
      "metadata": {
        "id": "TL0FW3MNaQYd"
      },
      "execution_count": 8,
      "outputs": []
    },
    {
      "cell_type": "code",
      "source": [
        "# Convert appropriate columns to their correct data types\n",
        "df = df.withColumn(\"Age\", col(\"Age\").cast(\"int\")) \\\n",
        "       .withColumn(\"Years_of_Experience\", col(\"Years_of_Experience\").cast(\"int\")) \\\n",
        "       .withColumn(\"Hours_Worked_Per_Week\", col(\"Hours_Worked_Per_Week\").cast(\"int\"))\n",
        "\n"
      ],
      "metadata": {
        "id": "XMh0Ml9zaLs7"
      },
      "execution_count": 9,
      "outputs": []
    },
    {
      "cell_type": "code",
      "source": [
        "# Drop rows with missing values in critical columns (if needed)\n",
        "df = df.dropna(subset=[\"Age\", \"Gender\", \"Industry\", \"Region\"])"
      ],
      "metadata": {
        "id": "XS1iSMgIaSIE"
      },
      "execution_count": 10,
      "outputs": []
    },
    {
      "cell_type": "code",
      "source": [
        "# Show schema to check the changes\n",
        "df.printSchema()"
      ],
      "metadata": {
        "colab": {
          "base_uri": "https://localhost:8080/"
        },
        "id": "iXgnKTJcaSOM",
        "outputId": "e37a918b-409c-4cec-fe71-1ec019713dbf"
      },
      "execution_count": 12,
      "outputs": [
        {
          "output_type": "stream",
          "name": "stdout",
          "text": [
            "root\n",
            " |-- Employee_ID: string (nullable = true)\n",
            " |-- Age: integer (nullable = true)\n",
            " |-- Gender: string (nullable = true)\n",
            " |-- Job_Role: string (nullable = true)\n",
            " |-- Industry: string (nullable = true)\n",
            " |-- Years_of_Experience: integer (nullable = true)\n",
            " |-- Work_Location: string (nullable = true)\n",
            " |-- Hours_Worked_Per_Week: integer (nullable = true)\n",
            " |-- Number_of_Virtual_Meetings: string (nullable = true)\n",
            " |-- Work_Life_Balance_Rating: string (nullable = true)\n",
            " |-- Stress_Level: string (nullable = true)\n",
            " |-- Mental_Health_Condition: string (nullable = true)\n",
            " |-- Access_to_Mental_Health_Resources: string (nullable = true)\n",
            " |-- Productivity_Change: string (nullable = true)\n",
            " |-- Social_Isolation_Rating: string (nullable = true)\n",
            " |-- Satisfaction_with_Remote_Work: string (nullable = true)\n",
            " |-- Company_Support_for_Remote_Work: string (nullable = true)\n",
            " |-- Physical_Activity: string (nullable = true)\n",
            " |-- Sleep_Quality: string (nullable = true)\n",
            " |-- Region: string (nullable = true)\n",
            "\n"
          ]
        }
      ]
    },
    {
      "cell_type": "code",
      "source": [
        "# Display the cleaned data\n",
        "df.show(5)"
      ],
      "metadata": {
        "colab": {
          "base_uri": "https://localhost:8080/"
        },
        "id": "g4Q_IeaRaa07",
        "outputId": "d16aa9f0-5a51-44be-e3e6-ef6fa607e9e8"
      },
      "execution_count": 13,
      "outputs": [
        {
          "output_type": "stream",
          "name": "stdout",
          "text": [
            "+-----------+---+----------+-----------------+----------+-------------------+-------------+---------------------+--------------------------+------------------------+------------+-----------------------+---------------------------------+-------------------+-----------------------+-----------------------------+-------------------------------+-----------------+-------------+-------------+\n",
            "|Employee_ID|Age|    Gender|         Job_Role|  Industry|Years_of_Experience|Work_Location|Hours_Worked_Per_Week|Number_of_Virtual_Meetings|Work_Life_Balance_Rating|Stress_Level|Mental_Health_Condition|Access_to_Mental_Health_Resources|Productivity_Change|Social_Isolation_Rating|Satisfaction_with_Remote_Work|Company_Support_for_Remote_Work|Physical_Activity|Sleep_Quality|       Region|\n",
            "+-----------+---+----------+-----------------+----------+-------------------+-------------+---------------------+--------------------------+------------------------+------------+-----------------------+---------------------------------+-------------------+-----------------------+-----------------------------+-------------------------------+-----------------+-------------+-------------+\n",
            "|    EMP0001| 32|Non-binary|               HR|Healthcare|                 13|       Hybrid|                   47|                         7|                       2|      Medium|             Depression|                               No|           Decrease|                      1|                  Unsatisfied|                              1|           Weekly|         Good|       Europe|\n",
            "|    EMP0002| 40|    Female|   Data Scientist|        IT|                  3|       Remote|                   52|                         4|                       1|      Medium|                Anxiety|                               No|           Increase|                      3|                    Satisfied|                              2|           Weekly|         Good|         Asia|\n",
            "|    EMP0003| 59|Non-binary|Software Engineer| Education|                 22|       Hybrid|                   46|                        11|                       5|      Medium|                Anxiety|                               No|          No Change|                      4|                  Unsatisfied|                              5|             None|         Poor|North America|\n",
            "|    EMP0004| 27|      Male|Software Engineer|   Finance|                 20|       Onsite|                   32|                         8|                       4|        High|             Depression|                              Yes|           Increase|                      3|                  Unsatisfied|                              3|             None|         Poor|       Europe|\n",
            "|    EMP0005| 49|      Male|            Sales|Consulting|                 32|       Onsite|                   35|                        12|                       2|        High|                   None|                              Yes|           Decrease|                      3|                  Unsatisfied|                              3|           Weekly|      Average|North America|\n",
            "+-----------+---+----------+-----------------+----------+-------------------+-------------+---------------------+--------------------------+------------------------+------------+-----------------------+---------------------------------+-------------------+-----------------------+-----------------------------+-------------------------------+-----------------+-------------+-------------+\n",
            "only showing top 5 rows\n",
            "\n"
          ]
        }
      ]
    },
    {
      "cell_type": "markdown",
      "source": [
        "### Data Exploration"
      ],
      "metadata": {
        "id": "scsUzqWybLPf"
      }
    },
    {
      "cell_type": "code",
      "source": [
        "# Group by Region and calculate average Age, Years_of_Experience and \"Hours_Worked_Per_Week\"\n",
        "df.groupBy(\"Region\").agg(\n",
        "    {\"Age\": \"avg\", \"Years_of_Experience\": \"avg\", \"Hours_Worked_Per_Week\":\"avg\"}\n",
        ").show()"
      ],
      "metadata": {
        "colab": {
          "base_uri": "https://localhost:8080/"
        },
        "id": "BrP9xuTHbVm6",
        "outputId": "6048f997-ee1d-43e9-e8e2-420504799bc1"
      },
      "execution_count": 19,
      "outputs": [
        {
          "output_type": "stream",
          "name": "stdout",
          "text": [
            "+-------------+------------------------+------------------+--------------------------+\n",
            "|       Region|avg(Years_of_Experience)|          avg(Age)|avg(Hours_Worked_Per_Week)|\n",
            "+-------------+------------------------+------------------+--------------------------+\n",
            "|       Europe|      17.948809523809523| 41.13690476190476|        39.385714285714286|\n",
            "|       Africa|      17.309302325581395| 40.45348837209303|         39.32093023255814|\n",
            "|North America|      17.925353925353924|40.792792792792795|        39.742599742599744|\n",
            "|South America|      18.020556227327692| 40.78960096735187|         40.21644498186215|\n",
            "|      Oceania|      17.559400230680506|41.021914648212224|         39.44290657439446|\n",
            "|         Asia|      18.133896260554884| 41.77925211097708|         39.61037394451146|\n",
            "+-------------+------------------------+------------------+--------------------------+\n",
            "\n"
          ]
        }
      ]
    },
    {
      "cell_type": "code",
      "source": [
        "# Count employees by \"Region\",\"Industry\",\"Job_Role\", \"Work_Location\"\n",
        "df.groupBy(\"Region\",\"Industry\",\"Job_Role\", \"Work_Location\").count().show()"
      ],
      "metadata": {
        "colab": {
          "base_uri": "https://localhost:8080/"
        },
        "id": "-qxzcTS5ySD0",
        "outputId": "dd34768f-5166-423a-d4cc-617846aa6bc6"
      },
      "execution_count": 22,
      "outputs": [
        {
          "output_type": "stream",
          "name": "stdout",
          "text": [
            "+-------------+-------------+-----------------+-------------+-----+\n",
            "|       Region|     Industry|         Job_Role|Work_Location|count|\n",
            "+-------------+-------------+-----------------+-------------+-----+\n",
            "|      Oceania|   Consulting|         Designer|       Onsite|    7|\n",
            "|      Oceania|   Healthcare|Software Engineer|       Hybrid|    6|\n",
            "|South America|       Retail|         Designer|       Hybrid|   11|\n",
            "|      Oceania|      Finance|  Project Manager|       Onsite|    9|\n",
            "|       Africa|   Consulting|               HR|       Onsite|    4|\n",
            "|       Africa|      Finance|   Data Scientist|       Remote|    5|\n",
            "|North America|      Finance|               HR|       Hybrid|    8|\n",
            "|      Oceania|       Retail|        Marketing|       Remote|    2|\n",
            "|North America|       Retail|        Marketing|       Remote|    5|\n",
            "|         Asia|      Finance|   Data Scientist|       Remote|    6|\n",
            "|      Oceania|       Retail|  Project Manager|       Hybrid|   10|\n",
            "|South America|Manufacturing|            Sales|       Remote|    9|\n",
            "|      Oceania|Manufacturing|   Data Scientist|       Onsite|    7|\n",
            "|North America|           IT|         Designer|       Onsite|    7|\n",
            "|South America|   Consulting|               HR|       Onsite|   10|\n",
            "|       Africa|       Retail|            Sales|       Remote|    8|\n",
            "|         Asia|           IT|            Sales|       Onsite|    6|\n",
            "|      Oceania|       Retail|         Designer|       Hybrid|    4|\n",
            "|North America|   Consulting|         Designer|       Onsite|    2|\n",
            "|South America|   Healthcare|               HR|       Hybrid|    5|\n",
            "+-------------+-------------+-----------------+-------------+-----+\n",
            "only showing top 20 rows\n",
            "\n"
          ]
        }
      ]
    },
    {
      "cell_type": "markdown",
      "source": [],
      "metadata": {
        "id": "fUXV2A1dd43f"
      }
    },
    {
      "cell_type": "code",
      "source": [
        "# Count employees by Industry and Mental_Health_Condition\n",
        "df.groupBy(\"Industry\", \"Mental_Health_Condition\").count().show()\n"
      ],
      "metadata": {
        "colab": {
          "base_uri": "https://localhost:8080/"
        },
        "id": "CDjqJ73zeZpi",
        "outputId": "a495a1bf-5dec-4859-bb23-6e4b6124bd18"
      },
      "execution_count": 18,
      "outputs": [
        {
          "output_type": "stream",
          "name": "stdout",
          "text": [
            "+-------------+-----------------------+-----+\n",
            "|     Industry|Mental_Health_Condition|count|\n",
            "+-------------+-----------------------+-----+\n",
            "|      Finance|                Burnout|  202|\n",
            "|    Education|                   None|  169|\n",
            "|   Consulting|                Anxiety|  178|\n",
            "|       Retail|                Burnout|  180|\n",
            "|    Education|             Depression|  171|\n",
            "|   Consulting|                Burnout|  166|\n",
            "|      Finance|             Depression|  179|\n",
            "|   Healthcare|                Burnout|  191|\n",
            "|Manufacturing|                Anxiety|  181|\n",
            "|           IT|             Depression|  182|\n",
            "|       Retail|                Anxiety|  192|\n",
            "|Manufacturing|                Burnout|  175|\n",
            "|      Finance|                   None|  180|\n",
            "|       Retail|                   None|  163|\n",
            "|    Education|                Anxiety|  176|\n",
            "|      Finance|                Anxiety|  186|\n",
            "|   Healthcare|                Anxiety|  160|\n",
            "|           IT|                   None|  167|\n",
            "|   Consulting|             Depression|  172|\n",
            "|   Healthcare|                   None|  176|\n",
            "+-------------+-----------------------+-----+\n",
            "only showing top 20 rows\n",
            "\n"
          ]
        }
      ]
    },
    {
      "cell_type": "code",
      "source": [
        "# Average Hours_Worked_Per_Week by Job_Role\n",
        "df.groupBy(\"Job_Role\").agg(\n",
        "    {\"Hours_Worked_Per_Week\": \"avg\"}\n",
        ").show()\n"
      ],
      "metadata": {
        "colab": {
          "base_uri": "https://localhost:8080/"
        },
        "id": "4_4-9uj9ikrv",
        "outputId": "ca5f4352-67c3-4572-cf5f-2cee97e3a885"
      },
      "execution_count": 17,
      "outputs": [
        {
          "output_type": "stream",
          "name": "stdout",
          "text": [
            "+-----------------+--------------------------+\n",
            "|         Job_Role|avg(Hours_Worked_Per_Week)|\n",
            "+-----------------+--------------------------+\n",
            "|            Sales|        39.860845839017735|\n",
            "|  Project Manager|        39.922764227642276|\n",
            "|               HR|        39.660614525139664|\n",
            "|         Designer|        38.881051175656985|\n",
            "|   Data Scientist|         38.95402298850575|\n",
            "|        Marketing|        39.734992679355784|\n",
            "|Software Engineer|        40.271448663853725|\n",
            "+-----------------+--------------------------+\n",
            "\n"
          ]
        }
      ]
    },
    {
      "cell_type": "code",
      "source": [
        "# Employees who are \"Unsatisfied\" with remote work\n",
        "unsatisfied_employees = df.filter(df.Satisfaction_with_Remote_Work == \"Unsatisfied\")\n",
        "unsatisfied_employees.show(5)\n"
      ],
      "metadata": {
        "colab": {
          "base_uri": "https://localhost:8080/"
        },
        "id": "aWxjSSHvjApm",
        "outputId": "cfa6e773-c1ef-4243-ee6d-e35cbbd6cb13"
      },
      "execution_count": 20,
      "outputs": [
        {
          "output_type": "stream",
          "name": "stdout",
          "text": [
            "+-----------+---+----------+-----------------+----------+-------------------+-------------+---------------------+--------------------------+------------------------+------------+-----------------------+---------------------------------+-------------------+-----------------------+-----------------------------+-------------------------------+-----------------+-------------+-------------+\n",
            "|Employee_ID|Age|    Gender|         Job_Role|  Industry|Years_of_Experience|Work_Location|Hours_Worked_Per_Week|Number_of_Virtual_Meetings|Work_Life_Balance_Rating|Stress_Level|Mental_Health_Condition|Access_to_Mental_Health_Resources|Productivity_Change|Social_Isolation_Rating|Satisfaction_with_Remote_Work|Company_Support_for_Remote_Work|Physical_Activity|Sleep_Quality|       Region|\n",
            "+-----------+---+----------+-----------------+----------+-------------------+-------------+---------------------+--------------------------+------------------------+------------+-----------------------+---------------------------------+-------------------+-----------------------+-----------------------------+-------------------------------+-----------------+-------------+-------------+\n",
            "|    EMP0001| 32|Non-binary|               HR|Healthcare|                 13|       Hybrid|                   47|                         7|                       2|      Medium|             Depression|                               No|           Decrease|                      1|                  Unsatisfied|                              1|           Weekly|         Good|       Europe|\n",
            "|    EMP0003| 59|Non-binary|Software Engineer| Education|                 22|       Hybrid|                   46|                        11|                       5|      Medium|                Anxiety|                               No|          No Change|                      4|                  Unsatisfied|                              5|             None|         Poor|North America|\n",
            "|    EMP0004| 27|      Male|Software Engineer|   Finance|                 20|       Onsite|                   32|                         8|                       4|        High|             Depression|                              Yes|           Increase|                      3|                  Unsatisfied|                              3|             None|         Poor|       Europe|\n",
            "|    EMP0005| 49|      Male|            Sales|Consulting|                 32|       Onsite|                   35|                        12|                       2|        High|                   None|                              Yes|           Decrease|                      3|                  Unsatisfied|                              3|           Weekly|      Average|North America|\n",
            "|    EMP0006| 59|Non-binary|            Sales|        IT|                 31|       Hybrid|                   39|                         3|                       4|        High|                   None|                               No|           Increase|                      5|                  Unsatisfied|                              1|             None|      Average|South America|\n",
            "+-----------+---+----------+-----------------+----------+-------------------+-------------+---------------------+--------------------------+------------------------+------------+-----------------------+---------------------------------+-------------------+-----------------------+-----------------------------+-------------------------------+-----------------+-------------+-------------+\n",
            "only showing top 5 rows\n",
            "\n"
          ]
        }
      ]
    },
    {
      "cell_type": "markdown",
      "source": [
        "# **Visualizations**"
      ],
      "metadata": {
        "id": "cG9PIBAiz1UC"
      }
    },
    {
      "cell_type": "code",
      "source": [
        "# Convert Spark DataFrame to Pandas for visualization\n",
        "pandas_df = df.toPandas()\n",
        "pandas_df"
      ],
      "metadata": {
        "colab": {
          "base_uri": "https://localhost:8080/",
          "height": 530
        },
        "id": "4DKFeJCb0HJ2",
        "outputId": "ee2ec7bf-cf83-465e-83e1-398251568332"
      },
      "execution_count": 28,
      "outputs": [
        {
          "output_type": "execute_result",
          "data": {
            "text/plain": [
              "     Employee_ID  Age      Gender           Job_Role    Industry  \\\n",
              "0        EMP0001   32  Non-binary                 HR  Healthcare   \n",
              "1        EMP0002   40      Female     Data Scientist          IT   \n",
              "2        EMP0003   59  Non-binary  Software Engineer   Education   \n",
              "3        EMP0004   27        Male  Software Engineer     Finance   \n",
              "4        EMP0005   49        Male              Sales  Consulting   \n",
              "...          ...  ...         ...                ...         ...   \n",
              "4995     EMP4996   32        Male              Sales  Consulting   \n",
              "4996     EMP4997   39      Female              Sales  Healthcare   \n",
              "4997     EMP4998   42      Female              Sales  Healthcare   \n",
              "4998     EMP4999   27      Female              Sales  Healthcare   \n",
              "4999     EMP5000   29        Male                 HR          IT   \n",
              "\n",
              "      Years_of_Experience Work_Location  Hours_Worked_Per_Week  \\\n",
              "0                      13        Hybrid                     47   \n",
              "1                       3        Remote                     52   \n",
              "2                      22        Hybrid                     46   \n",
              "3                      20        Onsite                     32   \n",
              "4                      32        Onsite                     35   \n",
              "...                   ...           ...                    ...   \n",
              "4995                    4        Onsite                     24   \n",
              "4996                   27        Onsite                     48   \n",
              "4997                   21        Hybrid                     34   \n",
              "4998                   26        Remote                     58   \n",
              "4999                   30        Onsite                     20   \n",
              "\n",
              "     Number_of_Virtual_Meetings Work_Life_Balance_Rating Stress_Level  \\\n",
              "0                             7                        2       Medium   \n",
              "1                             4                        1       Medium   \n",
              "2                            11                        5       Medium   \n",
              "3                             8                        4         High   \n",
              "4                            12                        2         High   \n",
              "...                         ...                      ...          ...   \n",
              "4995                          2                        5         High   \n",
              "4996                         15                        1          Low   \n",
              "4997                          1                        4         High   \n",
              "4998                          0                        5          Low   \n",
              "4999                         15                        1          Low   \n",
              "\n",
              "     Mental_Health_Condition Access_to_Mental_Health_Resources  \\\n",
              "0                 Depression                                No   \n",
              "1                    Anxiety                                No   \n",
              "2                    Anxiety                                No   \n",
              "3                 Depression                               Yes   \n",
              "4                       None                               Yes   \n",
              "...                      ...                               ...   \n",
              "4995                 Burnout                               Yes   \n",
              "4996              Depression                               Yes   \n",
              "4997                 Burnout                                No   \n",
              "4998                    None                               Yes   \n",
              "4999              Depression                               Yes   \n",
              "\n",
              "     Productivity_Change Social_Isolation_Rating  \\\n",
              "0               Decrease                       1   \n",
              "1               Increase                       3   \n",
              "2              No Change                       4   \n",
              "3               Increase                       3   \n",
              "4               Decrease                       3   \n",
              "...                  ...                     ...   \n",
              "4995            Decrease                       4   \n",
              "4996            Decrease                       1   \n",
              "4997            Increase                       3   \n",
              "4998            Increase                       3   \n",
              "4999           No Change                       3   \n",
              "\n",
              "     Satisfaction_with_Remote_Work Company_Support_for_Remote_Work  \\\n",
              "0                      Unsatisfied                               1   \n",
              "1                        Satisfied                               2   \n",
              "2                      Unsatisfied                               5   \n",
              "3                      Unsatisfied                               3   \n",
              "4                      Unsatisfied                               3   \n",
              "...                            ...                             ...   \n",
              "4995                       Neutral                               1   \n",
              "4996                     Satisfied                               1   \n",
              "4997                     Satisfied                               1   \n",
              "4998                   Unsatisfied                               4   \n",
              "4999                   Unsatisfied                               5   \n",
              "\n",
              "     Physical_Activity Sleep_Quality         Region  \n",
              "0               Weekly          Good         Europe  \n",
              "1               Weekly          Good           Asia  \n",
              "2                 None          Poor  North America  \n",
              "3                 None          Poor         Europe  \n",
              "4               Weekly       Average  North America  \n",
              "...                ...           ...            ...  \n",
              "4995            Weekly       Average           Asia  \n",
              "4996              None       Average         Africa  \n",
              "4997             Daily          Poor        Oceania  \n",
              "4998             Daily       Average           Asia  \n",
              "4999              None          Poor           Asia  \n",
              "\n",
              "[5000 rows x 20 columns]"
            ],
            "text/html": [
              "\n",
              "  <div id=\"df-96b5f431-24f5-429c-8f25-f02dfcdc79aa\" class=\"colab-df-container\">\n",
              "    <div>\n",
              "<style scoped>\n",
              "    .dataframe tbody tr th:only-of-type {\n",
              "        vertical-align: middle;\n",
              "    }\n",
              "\n",
              "    .dataframe tbody tr th {\n",
              "        vertical-align: top;\n",
              "    }\n",
              "\n",
              "    .dataframe thead th {\n",
              "        text-align: right;\n",
              "    }\n",
              "</style>\n",
              "<table border=\"1\" class=\"dataframe\">\n",
              "  <thead>\n",
              "    <tr style=\"text-align: right;\">\n",
              "      <th></th>\n",
              "      <th>Employee_ID</th>\n",
              "      <th>Age</th>\n",
              "      <th>Gender</th>\n",
              "      <th>Job_Role</th>\n",
              "      <th>Industry</th>\n",
              "      <th>Years_of_Experience</th>\n",
              "      <th>Work_Location</th>\n",
              "      <th>Hours_Worked_Per_Week</th>\n",
              "      <th>Number_of_Virtual_Meetings</th>\n",
              "      <th>Work_Life_Balance_Rating</th>\n",
              "      <th>Stress_Level</th>\n",
              "      <th>Mental_Health_Condition</th>\n",
              "      <th>Access_to_Mental_Health_Resources</th>\n",
              "      <th>Productivity_Change</th>\n",
              "      <th>Social_Isolation_Rating</th>\n",
              "      <th>Satisfaction_with_Remote_Work</th>\n",
              "      <th>Company_Support_for_Remote_Work</th>\n",
              "      <th>Physical_Activity</th>\n",
              "      <th>Sleep_Quality</th>\n",
              "      <th>Region</th>\n",
              "    </tr>\n",
              "  </thead>\n",
              "  <tbody>\n",
              "    <tr>\n",
              "      <th>0</th>\n",
              "      <td>EMP0001</td>\n",
              "      <td>32</td>\n",
              "      <td>Non-binary</td>\n",
              "      <td>HR</td>\n",
              "      <td>Healthcare</td>\n",
              "      <td>13</td>\n",
              "      <td>Hybrid</td>\n",
              "      <td>47</td>\n",
              "      <td>7</td>\n",
              "      <td>2</td>\n",
              "      <td>Medium</td>\n",
              "      <td>Depression</td>\n",
              "      <td>No</td>\n",
              "      <td>Decrease</td>\n",
              "      <td>1</td>\n",
              "      <td>Unsatisfied</td>\n",
              "      <td>1</td>\n",
              "      <td>Weekly</td>\n",
              "      <td>Good</td>\n",
              "      <td>Europe</td>\n",
              "    </tr>\n",
              "    <tr>\n",
              "      <th>1</th>\n",
              "      <td>EMP0002</td>\n",
              "      <td>40</td>\n",
              "      <td>Female</td>\n",
              "      <td>Data Scientist</td>\n",
              "      <td>IT</td>\n",
              "      <td>3</td>\n",
              "      <td>Remote</td>\n",
              "      <td>52</td>\n",
              "      <td>4</td>\n",
              "      <td>1</td>\n",
              "      <td>Medium</td>\n",
              "      <td>Anxiety</td>\n",
              "      <td>No</td>\n",
              "      <td>Increase</td>\n",
              "      <td>3</td>\n",
              "      <td>Satisfied</td>\n",
              "      <td>2</td>\n",
              "      <td>Weekly</td>\n",
              "      <td>Good</td>\n",
              "      <td>Asia</td>\n",
              "    </tr>\n",
              "    <tr>\n",
              "      <th>2</th>\n",
              "      <td>EMP0003</td>\n",
              "      <td>59</td>\n",
              "      <td>Non-binary</td>\n",
              "      <td>Software Engineer</td>\n",
              "      <td>Education</td>\n",
              "      <td>22</td>\n",
              "      <td>Hybrid</td>\n",
              "      <td>46</td>\n",
              "      <td>11</td>\n",
              "      <td>5</td>\n",
              "      <td>Medium</td>\n",
              "      <td>Anxiety</td>\n",
              "      <td>No</td>\n",
              "      <td>No Change</td>\n",
              "      <td>4</td>\n",
              "      <td>Unsatisfied</td>\n",
              "      <td>5</td>\n",
              "      <td>None</td>\n",
              "      <td>Poor</td>\n",
              "      <td>North America</td>\n",
              "    </tr>\n",
              "    <tr>\n",
              "      <th>3</th>\n",
              "      <td>EMP0004</td>\n",
              "      <td>27</td>\n",
              "      <td>Male</td>\n",
              "      <td>Software Engineer</td>\n",
              "      <td>Finance</td>\n",
              "      <td>20</td>\n",
              "      <td>Onsite</td>\n",
              "      <td>32</td>\n",
              "      <td>8</td>\n",
              "      <td>4</td>\n",
              "      <td>High</td>\n",
              "      <td>Depression</td>\n",
              "      <td>Yes</td>\n",
              "      <td>Increase</td>\n",
              "      <td>3</td>\n",
              "      <td>Unsatisfied</td>\n",
              "      <td>3</td>\n",
              "      <td>None</td>\n",
              "      <td>Poor</td>\n",
              "      <td>Europe</td>\n",
              "    </tr>\n",
              "    <tr>\n",
              "      <th>4</th>\n",
              "      <td>EMP0005</td>\n",
              "      <td>49</td>\n",
              "      <td>Male</td>\n",
              "      <td>Sales</td>\n",
              "      <td>Consulting</td>\n",
              "      <td>32</td>\n",
              "      <td>Onsite</td>\n",
              "      <td>35</td>\n",
              "      <td>12</td>\n",
              "      <td>2</td>\n",
              "      <td>High</td>\n",
              "      <td>None</td>\n",
              "      <td>Yes</td>\n",
              "      <td>Decrease</td>\n",
              "      <td>3</td>\n",
              "      <td>Unsatisfied</td>\n",
              "      <td>3</td>\n",
              "      <td>Weekly</td>\n",
              "      <td>Average</td>\n",
              "      <td>North America</td>\n",
              "    </tr>\n",
              "    <tr>\n",
              "      <th>...</th>\n",
              "      <td>...</td>\n",
              "      <td>...</td>\n",
              "      <td>...</td>\n",
              "      <td>...</td>\n",
              "      <td>...</td>\n",
              "      <td>...</td>\n",
              "      <td>...</td>\n",
              "      <td>...</td>\n",
              "      <td>...</td>\n",
              "      <td>...</td>\n",
              "      <td>...</td>\n",
              "      <td>...</td>\n",
              "      <td>...</td>\n",
              "      <td>...</td>\n",
              "      <td>...</td>\n",
              "      <td>...</td>\n",
              "      <td>...</td>\n",
              "      <td>...</td>\n",
              "      <td>...</td>\n",
              "      <td>...</td>\n",
              "    </tr>\n",
              "    <tr>\n",
              "      <th>4995</th>\n",
              "      <td>EMP4996</td>\n",
              "      <td>32</td>\n",
              "      <td>Male</td>\n",
              "      <td>Sales</td>\n",
              "      <td>Consulting</td>\n",
              "      <td>4</td>\n",
              "      <td>Onsite</td>\n",
              "      <td>24</td>\n",
              "      <td>2</td>\n",
              "      <td>5</td>\n",
              "      <td>High</td>\n",
              "      <td>Burnout</td>\n",
              "      <td>Yes</td>\n",
              "      <td>Decrease</td>\n",
              "      <td>4</td>\n",
              "      <td>Neutral</td>\n",
              "      <td>1</td>\n",
              "      <td>Weekly</td>\n",
              "      <td>Average</td>\n",
              "      <td>Asia</td>\n",
              "    </tr>\n",
              "    <tr>\n",
              "      <th>4996</th>\n",
              "      <td>EMP4997</td>\n",
              "      <td>39</td>\n",
              "      <td>Female</td>\n",
              "      <td>Sales</td>\n",
              "      <td>Healthcare</td>\n",
              "      <td>27</td>\n",
              "      <td>Onsite</td>\n",
              "      <td>48</td>\n",
              "      <td>15</td>\n",
              "      <td>1</td>\n",
              "      <td>Low</td>\n",
              "      <td>Depression</td>\n",
              "      <td>Yes</td>\n",
              "      <td>Decrease</td>\n",
              "      <td>1</td>\n",
              "      <td>Satisfied</td>\n",
              "      <td>1</td>\n",
              "      <td>None</td>\n",
              "      <td>Average</td>\n",
              "      <td>Africa</td>\n",
              "    </tr>\n",
              "    <tr>\n",
              "      <th>4997</th>\n",
              "      <td>EMP4998</td>\n",
              "      <td>42</td>\n",
              "      <td>Female</td>\n",
              "      <td>Sales</td>\n",
              "      <td>Healthcare</td>\n",
              "      <td>21</td>\n",
              "      <td>Hybrid</td>\n",
              "      <td>34</td>\n",
              "      <td>1</td>\n",
              "      <td>4</td>\n",
              "      <td>High</td>\n",
              "      <td>Burnout</td>\n",
              "      <td>No</td>\n",
              "      <td>Increase</td>\n",
              "      <td>3</td>\n",
              "      <td>Satisfied</td>\n",
              "      <td>1</td>\n",
              "      <td>Daily</td>\n",
              "      <td>Poor</td>\n",
              "      <td>Oceania</td>\n",
              "    </tr>\n",
              "    <tr>\n",
              "      <th>4998</th>\n",
              "      <td>EMP4999</td>\n",
              "      <td>27</td>\n",
              "      <td>Female</td>\n",
              "      <td>Sales</td>\n",
              "      <td>Healthcare</td>\n",
              "      <td>26</td>\n",
              "      <td>Remote</td>\n",
              "      <td>58</td>\n",
              "      <td>0</td>\n",
              "      <td>5</td>\n",
              "      <td>Low</td>\n",
              "      <td>None</td>\n",
              "      <td>Yes</td>\n",
              "      <td>Increase</td>\n",
              "      <td>3</td>\n",
              "      <td>Unsatisfied</td>\n",
              "      <td>4</td>\n",
              "      <td>Daily</td>\n",
              "      <td>Average</td>\n",
              "      <td>Asia</td>\n",
              "    </tr>\n",
              "    <tr>\n",
              "      <th>4999</th>\n",
              "      <td>EMP5000</td>\n",
              "      <td>29</td>\n",
              "      <td>Male</td>\n",
              "      <td>HR</td>\n",
              "      <td>IT</td>\n",
              "      <td>30</td>\n",
              "      <td>Onsite</td>\n",
              "      <td>20</td>\n",
              "      <td>15</td>\n",
              "      <td>1</td>\n",
              "      <td>Low</td>\n",
              "      <td>Depression</td>\n",
              "      <td>Yes</td>\n",
              "      <td>No Change</td>\n",
              "      <td>3</td>\n",
              "      <td>Unsatisfied</td>\n",
              "      <td>5</td>\n",
              "      <td>None</td>\n",
              "      <td>Poor</td>\n",
              "      <td>Asia</td>\n",
              "    </tr>\n",
              "  </tbody>\n",
              "</table>\n",
              "<p>5000 rows × 20 columns</p>\n",
              "</div>\n",
              "    <div class=\"colab-df-buttons\">\n",
              "\n",
              "  <div class=\"colab-df-container\">\n",
              "    <button class=\"colab-df-convert\" onclick=\"convertToInteractive('df-96b5f431-24f5-429c-8f25-f02dfcdc79aa')\"\n",
              "            title=\"Convert this dataframe to an interactive table.\"\n",
              "            style=\"display:none;\">\n",
              "\n",
              "  <svg xmlns=\"http://www.w3.org/2000/svg\" height=\"24px\" viewBox=\"0 -960 960 960\">\n",
              "    <path d=\"M120-120v-720h720v720H120Zm60-500h600v-160H180v160Zm220 220h160v-160H400v160Zm0 220h160v-160H400v160ZM180-400h160v-160H180v160Zm440 0h160v-160H620v160ZM180-180h160v-160H180v160Zm440 0h160v-160H620v160Z\"/>\n",
              "  </svg>\n",
              "    </button>\n",
              "\n",
              "  <style>\n",
              "    .colab-df-container {\n",
              "      display:flex;\n",
              "      gap: 12px;\n",
              "    }\n",
              "\n",
              "    .colab-df-convert {\n",
              "      background-color: #E8F0FE;\n",
              "      border: none;\n",
              "      border-radius: 50%;\n",
              "      cursor: pointer;\n",
              "      display: none;\n",
              "      fill: #1967D2;\n",
              "      height: 32px;\n",
              "      padding: 0 0 0 0;\n",
              "      width: 32px;\n",
              "    }\n",
              "\n",
              "    .colab-df-convert:hover {\n",
              "      background-color: #E2EBFA;\n",
              "      box-shadow: 0px 1px 2px rgba(60, 64, 67, 0.3), 0px 1px 3px 1px rgba(60, 64, 67, 0.15);\n",
              "      fill: #174EA6;\n",
              "    }\n",
              "\n",
              "    .colab-df-buttons div {\n",
              "      margin-bottom: 4px;\n",
              "    }\n",
              "\n",
              "    [theme=dark] .colab-df-convert {\n",
              "      background-color: #3B4455;\n",
              "      fill: #D2E3FC;\n",
              "    }\n",
              "\n",
              "    [theme=dark] .colab-df-convert:hover {\n",
              "      background-color: #434B5C;\n",
              "      box-shadow: 0px 1px 3px 1px rgba(0, 0, 0, 0.15);\n",
              "      filter: drop-shadow(0px 1px 2px rgba(0, 0, 0, 0.3));\n",
              "      fill: #FFFFFF;\n",
              "    }\n",
              "  </style>\n",
              "\n",
              "    <script>\n",
              "      const buttonEl =\n",
              "        document.querySelector('#df-96b5f431-24f5-429c-8f25-f02dfcdc79aa button.colab-df-convert');\n",
              "      buttonEl.style.display =\n",
              "        google.colab.kernel.accessAllowed ? 'block' : 'none';\n",
              "\n",
              "      async function convertToInteractive(key) {\n",
              "        const element = document.querySelector('#df-96b5f431-24f5-429c-8f25-f02dfcdc79aa');\n",
              "        const dataTable =\n",
              "          await google.colab.kernel.invokeFunction('convertToInteractive',\n",
              "                                                    [key], {});\n",
              "        if (!dataTable) return;\n",
              "\n",
              "        const docLinkHtml = 'Like what you see? Visit the ' +\n",
              "          '<a target=\"_blank\" href=https://colab.research.google.com/notebooks/data_table.ipynb>data table notebook</a>'\n",
              "          + ' to learn more about interactive tables.';\n",
              "        element.innerHTML = '';\n",
              "        dataTable['output_type'] = 'display_data';\n",
              "        await google.colab.output.renderOutput(dataTable, element);\n",
              "        const docLink = document.createElement('div');\n",
              "        docLink.innerHTML = docLinkHtml;\n",
              "        element.appendChild(docLink);\n",
              "      }\n",
              "    </script>\n",
              "  </div>\n",
              "\n",
              "\n",
              "<div id=\"df-fc222ed2-9122-4f0f-86ff-19876523db43\">\n",
              "  <button class=\"colab-df-quickchart\" onclick=\"quickchart('df-fc222ed2-9122-4f0f-86ff-19876523db43')\"\n",
              "            title=\"Suggest charts\"\n",
              "            style=\"display:none;\">\n",
              "\n",
              "<svg xmlns=\"http://www.w3.org/2000/svg\" height=\"24px\"viewBox=\"0 0 24 24\"\n",
              "     width=\"24px\">\n",
              "    <g>\n",
              "        <path d=\"M19 3H5c-1.1 0-2 .9-2 2v14c0 1.1.9 2 2 2h14c1.1 0 2-.9 2-2V5c0-1.1-.9-2-2-2zM9 17H7v-7h2v7zm4 0h-2V7h2v10zm4 0h-2v-4h2v4z\"/>\n",
              "    </g>\n",
              "</svg>\n",
              "  </button>\n",
              "\n",
              "<style>\n",
              "  .colab-df-quickchart {\n",
              "      --bg-color: #E8F0FE;\n",
              "      --fill-color: #1967D2;\n",
              "      --hover-bg-color: #E2EBFA;\n",
              "      --hover-fill-color: #174EA6;\n",
              "      --disabled-fill-color: #AAA;\n",
              "      --disabled-bg-color: #DDD;\n",
              "  }\n",
              "\n",
              "  [theme=dark] .colab-df-quickchart {\n",
              "      --bg-color: #3B4455;\n",
              "      --fill-color: #D2E3FC;\n",
              "      --hover-bg-color: #434B5C;\n",
              "      --hover-fill-color: #FFFFFF;\n",
              "      --disabled-bg-color: #3B4455;\n",
              "      --disabled-fill-color: #666;\n",
              "  }\n",
              "\n",
              "  .colab-df-quickchart {\n",
              "    background-color: var(--bg-color);\n",
              "    border: none;\n",
              "    border-radius: 50%;\n",
              "    cursor: pointer;\n",
              "    display: none;\n",
              "    fill: var(--fill-color);\n",
              "    height: 32px;\n",
              "    padding: 0;\n",
              "    width: 32px;\n",
              "  }\n",
              "\n",
              "  .colab-df-quickchart:hover {\n",
              "    background-color: var(--hover-bg-color);\n",
              "    box-shadow: 0 1px 2px rgba(60, 64, 67, 0.3), 0 1px 3px 1px rgba(60, 64, 67, 0.15);\n",
              "    fill: var(--button-hover-fill-color);\n",
              "  }\n",
              "\n",
              "  .colab-df-quickchart-complete:disabled,\n",
              "  .colab-df-quickchart-complete:disabled:hover {\n",
              "    background-color: var(--disabled-bg-color);\n",
              "    fill: var(--disabled-fill-color);\n",
              "    box-shadow: none;\n",
              "  }\n",
              "\n",
              "  .colab-df-spinner {\n",
              "    border: 2px solid var(--fill-color);\n",
              "    border-color: transparent;\n",
              "    border-bottom-color: var(--fill-color);\n",
              "    animation:\n",
              "      spin 1s steps(1) infinite;\n",
              "  }\n",
              "\n",
              "  @keyframes spin {\n",
              "    0% {\n",
              "      border-color: transparent;\n",
              "      border-bottom-color: var(--fill-color);\n",
              "      border-left-color: var(--fill-color);\n",
              "    }\n",
              "    20% {\n",
              "      border-color: transparent;\n",
              "      border-left-color: var(--fill-color);\n",
              "      border-top-color: var(--fill-color);\n",
              "    }\n",
              "    30% {\n",
              "      border-color: transparent;\n",
              "      border-left-color: var(--fill-color);\n",
              "      border-top-color: var(--fill-color);\n",
              "      border-right-color: var(--fill-color);\n",
              "    }\n",
              "    40% {\n",
              "      border-color: transparent;\n",
              "      border-right-color: var(--fill-color);\n",
              "      border-top-color: var(--fill-color);\n",
              "    }\n",
              "    60% {\n",
              "      border-color: transparent;\n",
              "      border-right-color: var(--fill-color);\n",
              "    }\n",
              "    80% {\n",
              "      border-color: transparent;\n",
              "      border-right-color: var(--fill-color);\n",
              "      border-bottom-color: var(--fill-color);\n",
              "    }\n",
              "    90% {\n",
              "      border-color: transparent;\n",
              "      border-bottom-color: var(--fill-color);\n",
              "    }\n",
              "  }\n",
              "</style>\n",
              "\n",
              "  <script>\n",
              "    async function quickchart(key) {\n",
              "      const quickchartButtonEl =\n",
              "        document.querySelector('#' + key + ' button');\n",
              "      quickchartButtonEl.disabled = true;  // To prevent multiple clicks.\n",
              "      quickchartButtonEl.classList.add('colab-df-spinner');\n",
              "      try {\n",
              "        const charts = await google.colab.kernel.invokeFunction(\n",
              "            'suggestCharts', [key], {});\n",
              "      } catch (error) {\n",
              "        console.error('Error during call to suggestCharts:', error);\n",
              "      }\n",
              "      quickchartButtonEl.classList.remove('colab-df-spinner');\n",
              "      quickchartButtonEl.classList.add('colab-df-quickchart-complete');\n",
              "    }\n",
              "    (() => {\n",
              "      let quickchartButtonEl =\n",
              "        document.querySelector('#df-fc222ed2-9122-4f0f-86ff-19876523db43 button');\n",
              "      quickchartButtonEl.style.display =\n",
              "        google.colab.kernel.accessAllowed ? 'block' : 'none';\n",
              "    })();\n",
              "  </script>\n",
              "</div>\n",
              "\n",
              "  <div id=\"id_f07ab951-67ea-4440-a403-15312e00f09e\">\n",
              "    <style>\n",
              "      .colab-df-generate {\n",
              "        background-color: #E8F0FE;\n",
              "        border: none;\n",
              "        border-radius: 50%;\n",
              "        cursor: pointer;\n",
              "        display: none;\n",
              "        fill: #1967D2;\n",
              "        height: 32px;\n",
              "        padding: 0 0 0 0;\n",
              "        width: 32px;\n",
              "      }\n",
              "\n",
              "      .colab-df-generate:hover {\n",
              "        background-color: #E2EBFA;\n",
              "        box-shadow: 0px 1px 2px rgba(60, 64, 67, 0.3), 0px 1px 3px 1px rgba(60, 64, 67, 0.15);\n",
              "        fill: #174EA6;\n",
              "      }\n",
              "\n",
              "      [theme=dark] .colab-df-generate {\n",
              "        background-color: #3B4455;\n",
              "        fill: #D2E3FC;\n",
              "      }\n",
              "\n",
              "      [theme=dark] .colab-df-generate:hover {\n",
              "        background-color: #434B5C;\n",
              "        box-shadow: 0px 1px 3px 1px rgba(0, 0, 0, 0.15);\n",
              "        filter: drop-shadow(0px 1px 2px rgba(0, 0, 0, 0.3));\n",
              "        fill: #FFFFFF;\n",
              "      }\n",
              "    </style>\n",
              "    <button class=\"colab-df-generate\" onclick=\"generateWithVariable('pandas_df')\"\n",
              "            title=\"Generate code using this dataframe.\"\n",
              "            style=\"display:none;\">\n",
              "\n",
              "  <svg xmlns=\"http://www.w3.org/2000/svg\" height=\"24px\"viewBox=\"0 0 24 24\"\n",
              "       width=\"24px\">\n",
              "    <path d=\"M7,19H8.4L18.45,9,17,7.55,7,17.6ZM5,21V16.75L18.45,3.32a2,2,0,0,1,2.83,0l1.4,1.43a1.91,1.91,0,0,1,.58,1.4,1.91,1.91,0,0,1-.58,1.4L9.25,21ZM18.45,9,17,7.55Zm-12,3A5.31,5.31,0,0,0,4.9,8.1,5.31,5.31,0,0,0,1,6.5,5.31,5.31,0,0,0,4.9,4.9,5.31,5.31,0,0,0,6.5,1,5.31,5.31,0,0,0,8.1,4.9,5.31,5.31,0,0,0,12,6.5,5.46,5.46,0,0,0,6.5,12Z\"/>\n",
              "  </svg>\n",
              "    </button>\n",
              "    <script>\n",
              "      (() => {\n",
              "      const buttonEl =\n",
              "        document.querySelector('#id_f07ab951-67ea-4440-a403-15312e00f09e button.colab-df-generate');\n",
              "      buttonEl.style.display =\n",
              "        google.colab.kernel.accessAllowed ? 'block' : 'none';\n",
              "\n",
              "      buttonEl.onclick = () => {\n",
              "        google.colab.notebook.generateWithVariable('pandas_df');\n",
              "      }\n",
              "      })();\n",
              "    </script>\n",
              "  </div>\n",
              "\n",
              "    </div>\n",
              "  </div>\n"
            ],
            "application/vnd.google.colaboratory.intrinsic+json": {
              "type": "dataframe",
              "variable_name": "pandas_df",
              "summary": "{\n  \"name\": \"pandas_df\",\n  \"rows\": 5000,\n  \"fields\": [\n    {\n      \"column\": \"Employee_ID\",\n      \"properties\": {\n        \"dtype\": \"string\",\n        \"num_unique_values\": 5000,\n        \"samples\": [\n          \"EMP1502\",\n          \"EMP2587\",\n          \"EMP2654\"\n        ],\n        \"semantic_type\": \"\",\n        \"description\": \"\"\n      }\n    },\n    {\n      \"column\": \"Age\",\n      \"properties\": {\n        \"dtype\": \"int32\",\n        \"num_unique_values\": 39,\n        \"samples\": [\n          55,\n          34,\n          49\n        ],\n        \"semantic_type\": \"\",\n        \"description\": \"\"\n      }\n    },\n    {\n      \"column\": \"Gender\",\n      \"properties\": {\n        \"dtype\": \"category\",\n        \"num_unique_values\": 4,\n        \"samples\": [\n          \"Female\",\n          \"Prefer not to say\",\n          \"Non-binary\"\n        ],\n        \"semantic_type\": \"\",\n        \"description\": \"\"\n      }\n    },\n    {\n      \"column\": \"Job_Role\",\n      \"properties\": {\n        \"dtype\": \"category\",\n        \"num_unique_values\": 7,\n        \"samples\": [\n          \"HR\",\n          \"Data Scientist\",\n          \"Designer\"\n        ],\n        \"semantic_type\": \"\",\n        \"description\": \"\"\n      }\n    },\n    {\n      \"column\": \"Industry\",\n      \"properties\": {\n        \"dtype\": \"category\",\n        \"num_unique_values\": 7,\n        \"samples\": [\n          \"Healthcare\",\n          \"IT\",\n          \"Manufacturing\"\n        ],\n        \"semantic_type\": \"\",\n        \"description\": \"\"\n      }\n    },\n    {\n      \"column\": \"Years_of_Experience\",\n      \"properties\": {\n        \"dtype\": \"int32\",\n        \"num_unique_values\": 35,\n        \"samples\": [\n          12,\n          23,\n          14\n        ],\n        \"semantic_type\": \"\",\n        \"description\": \"\"\n      }\n    },\n    {\n      \"column\": \"Work_Location\",\n      \"properties\": {\n        \"dtype\": \"category\",\n        \"num_unique_values\": 3,\n        \"samples\": [\n          \"Hybrid\",\n          \"Remote\",\n          \"Onsite\"\n        ],\n        \"semantic_type\": \"\",\n        \"description\": \"\"\n      }\n    },\n    {\n      \"column\": \"Hours_Worked_Per_Week\",\n      \"properties\": {\n        \"dtype\": \"int32\",\n        \"num_unique_values\": 41,\n        \"samples\": [\n          29,\n          45,\n          24\n        ],\n        \"semantic_type\": \"\",\n        \"description\": \"\"\n      }\n    },\n    {\n      \"column\": \"Number_of_Virtual_Meetings\",\n      \"properties\": {\n        \"dtype\": \"category\",\n        \"num_unique_values\": 16,\n        \"samples\": [\n          \"7\",\n          \"4\",\n          \"3\"\n        ],\n        \"semantic_type\": \"\",\n        \"description\": \"\"\n      }\n    },\n    {\n      \"column\": \"Work_Life_Balance_Rating\",\n      \"properties\": {\n        \"dtype\": \"category\",\n        \"num_unique_values\": 5,\n        \"samples\": [\n          \"1\",\n          \"3\",\n          \"5\"\n        ],\n        \"semantic_type\": \"\",\n        \"description\": \"\"\n      }\n    },\n    {\n      \"column\": \"Stress_Level\",\n      \"properties\": {\n        \"dtype\": \"category\",\n        \"num_unique_values\": 3,\n        \"samples\": [\n          \"Medium\",\n          \"High\",\n          \"Low\"\n        ],\n        \"semantic_type\": \"\",\n        \"description\": \"\"\n      }\n    },\n    {\n      \"column\": \"Mental_Health_Condition\",\n      \"properties\": {\n        \"dtype\": \"category\",\n        \"num_unique_values\": 4,\n        \"samples\": [\n          \"Anxiety\",\n          \"Burnout\",\n          \"Depression\"\n        ],\n        \"semantic_type\": \"\",\n        \"description\": \"\"\n      }\n    },\n    {\n      \"column\": \"Access_to_Mental_Health_Resources\",\n      \"properties\": {\n        \"dtype\": \"category\",\n        \"num_unique_values\": 2,\n        \"samples\": [\n          \"Yes\",\n          \"No\"\n        ],\n        \"semantic_type\": \"\",\n        \"description\": \"\"\n      }\n    },\n    {\n      \"column\": \"Productivity_Change\",\n      \"properties\": {\n        \"dtype\": \"category\",\n        \"num_unique_values\": 3,\n        \"samples\": [\n          \"Decrease\",\n          \"Increase\"\n        ],\n        \"semantic_type\": \"\",\n        \"description\": \"\"\n      }\n    },\n    {\n      \"column\": \"Social_Isolation_Rating\",\n      \"properties\": {\n        \"dtype\": \"category\",\n        \"num_unique_values\": 5,\n        \"samples\": [\n          \"3\",\n          \"2\"\n        ],\n        \"semantic_type\": \"\",\n        \"description\": \"\"\n      }\n    },\n    {\n      \"column\": \"Satisfaction_with_Remote_Work\",\n      \"properties\": {\n        \"dtype\": \"category\",\n        \"num_unique_values\": 3,\n        \"samples\": [\n          \"Unsatisfied\",\n          \"Satisfied\"\n        ],\n        \"semantic_type\": \"\",\n        \"description\": \"\"\n      }\n    },\n    {\n      \"column\": \"Company_Support_for_Remote_Work\",\n      \"properties\": {\n        \"dtype\": \"category\",\n        \"num_unique_values\": 5,\n        \"samples\": [\n          \"2\",\n          \"4\"\n        ],\n        \"semantic_type\": \"\",\n        \"description\": \"\"\n      }\n    },\n    {\n      \"column\": \"Physical_Activity\",\n      \"properties\": {\n        \"dtype\": \"category\",\n        \"num_unique_values\": 3,\n        \"samples\": [\n          \"Weekly\",\n          \"None\"\n        ],\n        \"semantic_type\": \"\",\n        \"description\": \"\"\n      }\n    },\n    {\n      \"column\": \"Sleep_Quality\",\n      \"properties\": {\n        \"dtype\": \"category\",\n        \"num_unique_values\": 3,\n        \"samples\": [\n          \"Good\",\n          \"Poor\"\n        ],\n        \"semantic_type\": \"\",\n        \"description\": \"\"\n      }\n    },\n    {\n      \"column\": \"Region\",\n      \"properties\": {\n        \"dtype\": \"category\",\n        \"num_unique_values\": 6,\n        \"samples\": [\n          \"Europe\",\n          \"Asia\"\n        ],\n        \"semantic_type\": \"\",\n        \"description\": \"\"\n      }\n    }\n  ]\n}"
            }
          },
          "metadata": {},
          "execution_count": 28
        }
      ]
    },
    {
      "cell_type": "markdown",
      "source": [
        "## By Job Role"
      ],
      "metadata": {
        "id": "Sr_67Ef11Rrg"
      }
    },
    {
      "cell_type": "code",
      "source": [
        "fig = px.bar(pandas_df,\n",
        "             y='Job_Role',\n",
        "             title='Job Roles',\n",
        "             labels={'Job_Role': 'Job Role', 'count': 'Number of people'},\n",
        "             color='Work_Location',\n",
        "             #range_color=[5,8],\n",
        "             category_orders={'Job_Role': pandas_df['Job_Role'].value_counts().index},\n",
        "             #color_discrete_sequence=px.colors.sequential.Viridis)\n",
        ")\n",
        "\n",
        "\n",
        "fig.show()"
      ],
      "metadata": {
        "colab": {
          "base_uri": "https://localhost:8080/",
          "height": 542
        },
        "id": "vOP6YLFAz3CE",
        "outputId": "57eb3cc4-f475-4d97-8e5e-0a4e15b8da82"
      },
      "execution_count": 29,
      "outputs": [
        {
          "output_type": "display_data",
          "data": {
            "text/html": [
              "<html>\n",
              "<head><meta charset=\"utf-8\" /></head>\n",
              "<body>\n",
              "    <div>            <script src=\"https://cdnjs.cloudflare.com/ajax/libs/mathjax/2.7.5/MathJax.js?config=TeX-AMS-MML_SVG\"></script><script type=\"text/javascript\">if (window.MathJax && window.MathJax.Hub && window.MathJax.Hub.Config) {window.MathJax.Hub.Config({SVG: {font: \"STIX-Web\"}});}</script>                <script type=\"text/javascript\">window.PlotlyConfig = {MathJaxConfig: 'local'};</script>\n",
              "        <script charset=\"utf-8\" src=\"https://cdn.plot.ly/plotly-2.35.2.min.js\"></script>                <div id=\"a203eb61-ae8f-4641-91c1-c90be5b320f7\" class=\"plotly-graph-div\" style=\"height:525px; width:100%;\"></div>            <script type=\"text/javascript\">                                    window.PLOTLYENV=window.PLOTLYENV || {};                                    if (document.getElementById(\"a203eb61-ae8f-4641-91c1-c90be5b320f7\")) {                    Plotly.newPlot(                        \"a203eb61-ae8f-4641-91c1-c90be5b320f7\",                        [{\"alignmentgroup\":\"True\",\"hovertemplate\":\"Work_Location=Hybrid\\u003cbr\\u003eNumber of people=%{x}\\u003cbr\\u003eJob Role=%{y}\\u003cextra\\u003e\\u003c\\u002fextra\\u003e\",\"legendgroup\":\"Hybrid\",\"marker\":{\"color\":\"#636efa\",\"pattern\":{\"shape\":\"\"}},\"name\":\"Hybrid\",\"offsetgroup\":\"Hybrid\",\"orientation\":\"h\",\"showlegend\":true,\"textposition\":\"auto\",\"x\":[1,1,1,1,1,1,1,1,1,1,1,1,1,1,1,1,1,1,1,1,1,1,1,1,1,1,1,1,1,1,1,1,1,1,1,1,1,1,1,1,1,1,1,1,1,1,1,1,1,1,1,1,1,1,1,1,1,1,1,1,1,1,1,1,1,1,1,1,1,1,1,1,1,1,1,1,1,1,1,1,1,1,1,1,1,1,1,1,1,1,1,1,1,1,1,1,1,1,1,1,1,1,1,1,1,1,1,1,1,1,1,1,1,1,1,1,1,1,1,1,1,1,1,1,1,1,1,1,1,1,1,1,1,1,1,1,1,1,1,1,1,1,1,1,1,1,1,1,1,1,1,1,1,1,1,1,1,1,1,1,1,1,1,1,1,1,1,1,1,1,1,1,1,1,1,1,1,1,1,1,1,1,1,1,1,1,1,1,1,1,1,1,1,1,1,1,1,1,1,1,1,1,1,1,1,1,1,1,1,1,1,1,1,1,1,1,1,1,1,1,1,1,1,1,1,1,1,1,1,1,1,1,1,1,1,1,1,1,1,1,1,1,1,1,1,1,1,1,1,1,1,1,1,1,1,1,1,1,1,1,1,1,1,1,1,1,1,1,1,1,1,1,1,1,1,1,1,1,1,1,1,1,1,1,1,1,1,1,1,1,1,1,1,1,1,1,1,1,1,1,1,1,1,1,1,1,1,1,1,1,1,1,1,1,1,1,1,1,1,1,1,1,1,1,1,1,1,1,1,1,1,1,1,1,1,1,1,1,1,1,1,1,1,1,1,1,1,1,1,1,1,1,1,1,1,1,1,1,1,1,1,1,1,1,1,1,1,1,1,1,1,1,1,1,1,1,1,1,1,1,1,1,1,1,1,1,1,1,1,1,1,1,1,1,1,1,1,1,1,1,1,1,1,1,1,1,1,1,1,1,1,1,1,1,1,1,1,1,1,1,1,1,1,1,1,1,1,1,1,1,1,1,1,1,1,1,1,1,1,1,1,1,1,1,1,1,1,1,1,1,1,1,1,1,1,1,1,1,1,1,1,1,1,1,1,1,1,1,1,1,1,1,1,1,1,1,1,1,1,1,1,1,1,1,1,1,1,1,1,1,1,1,1,1,1,1,1,1,1,1,1,1,1,1,1,1,1,1,1,1,1,1,1,1,1,1,1,1,1,1,1,1,1,1,1,1,1,1,1,1,1,1,1,1,1,1,1,1,1,1,1,1,1,1,1,1,1,1,1,1,1,1,1,1,1,1,1,1,1,1,1,1,1,1,1,1,1,1,1,1,1,1,1,1,1,1,1,1,1,1,1,1,1,1,1,1,1,1,1,1,1,1,1,1,1,1,1,1,1,1,1,1,1,1,1,1,1,1,1,1,1,1,1,1,1,1,1,1,1,1,1,1,1,1,1,1,1,1,1,1,1,1,1,1,1,1,1,1,1,1,1,1,1,1,1,1,1,1,1,1,1,1,1,1,1,1,1,1,1,1,1,1,1,1,1,1,1,1,1,1,1,1,1,1,1,1,1,1,1,1,1,1,1,1,1,1,1,1,1,1,1,1,1,1,1,1,1,1,1,1,1,1,1,1,1,1,1,1,1,1,1,1,1,1,1,1,1,1,1,1,1,1,1,1,1,1,1,1,1,1,1,1,1,1,1,1,1,1,1,1,1,1,1,1,1,1,1,1,1,1,1,1,1,1,1,1,1,1,1,1,1,1,1,1,1,1,1,1,1,1,1,1,1,1,1,1,1,1,1,1,1,1,1,1,1,1,1,1,1,1,1,1,1,1,1,1,1,1,1,1,1,1,1,1,1,1,1,1,1,1,1,1,1,1,1,1,1,1,1,1,1,1,1,1,1,1,1,1,1,1,1,1,1,1,1,1,1,1,1,1,1,1,1,1,1,1,1,1,1,1,1,1,1,1,1,1,1,1,1,1,1,1,1,1,1,1,1,1,1,1,1,1,1,1,1,1,1,1,1,1,1,1,1,1,1,1,1,1,1,1,1,1,1,1,1,1,1,1,1,1,1,1,1,1,1,1,1,1,1,1,1,1,1,1,1,1,1,1,1,1,1,1,1,1,1,1,1,1,1,1,1,1,1,1,1,1,1,1,1,1,1,1,1,1,1,1,1,1,1,1,1,1,1,1,1,1,1,1,1,1,1,1,1,1,1,1,1,1,1,1,1,1,1,1,1,1,1,1,1,1,1,1,1,1,1,1,1,1,1,1,1,1,1,1,1,1,1,1,1,1,1,1,1,1,1,1,1,1,1,1,1,1,1,1,1,1,1,1,1,1,1,1,1,1,1,1,1,1,1,1,1,1,1,1,1,1,1,1,1,1,1,1,1,1,1,1,1,1,1,1,1,1,1,1,1,1,1,1,1,1,1,1,1,1,1,1,1,1,1,1,1,1,1,1,1,1,1,1,1,1,1,1,1,1,1,1,1,1,1,1,1,1,1,1,1,1,1,1,1,1,1,1,1,1,1,1,1,1,1,1,1,1,1,1,1,1,1,1,1,1,1,1,1,1,1,1,1,1,1,1,1,1,1,1,1,1,1,1,1,1,1,1,1,1,1,1,1,1,1,1,1,1,1,1,1,1,1,1,1,1,1,1,1,1,1,1,1,1,1,1,1,1,1,1,1,1,1,1,1,1,1,1,1,1,1,1,1,1,1,1,1,1,1,1,1,1,1,1,1,1,1,1,1,1,1,1,1,1,1,1,1,1,1,1,1,1,1,1,1,1,1,1,1,1,1,1,1,1,1,1,1,1,1,1,1,1,1,1,1,1,1,1,1,1,1,1,1,1,1,1,1,1,1,1,1,1,1,1,1,1,1,1,1,1,1,1,1,1,1,1,1,1,1,1,1,1,1,1,1,1,1,1,1,1,1,1,1,1,1,1,1,1,1,1,1,1,1,1,1,1,1,1,1,1,1,1,1,1,1,1,1,1,1,1,1,1,1,1,1,1,1,1,1,1,1,1,1,1,1,1,1,1,1,1,1,1,1,1,1,1,1,1,1,1,1,1,1,1,1,1,1,1,1,1,1,1,1,1,1,1,1,1,1,1,1,1,1,1,1,1,1,1,1,1,1,1,1,1,1,1,1,1,1,1,1,1,1,1,1,1,1,1,1,1,1,1,1,1,1,1,1,1,1,1,1,1,1,1,1,1,1,1,1,1,1,1,1,1,1,1,1,1,1,1,1,1,1,1,1,1,1,1,1,1,1,1,1,1,1,1,1,1,1,1,1,1,1,1,1,1,1,1,1,1,1,1,1,1,1,1,1,1,1,1,1,1,1,1,1,1,1,1,1,1,1,1,1,1,1,1,1,1,1,1,1,1,1,1,1,1,1,1,1,1,1,1,1,1,1,1,1,1,1,1,1,1,1,1,1,1,1,1,1,1,1,1,1,1,1,1,1,1,1,1,1,1,1,1,1,1,1,1,1,1,1,1,1,1,1,1,1,1,1,1,1,1,1,1,1,1,1,1,1,1,1,1,1,1,1,1,1,1,1,1,1,1,1,1,1,1,1,1,1,1,1,1,1,1,1,1,1,1,1,1,1,1,1,1,1,1,1,1,1,1,1,1,1,1,1,1,1,1,1,1,1,1,1,1,1,1,1,1,1,1,1,1,1,1,1,1,1,1,1,1,1,1,1,1,1,1,1,1,1,1,1,1,1,1,1,1,1,1,1,1,1,1,1,1,1],\"xaxis\":\"x\",\"y\":[\"HR\",\"Software Engineer\",\"Sales\",\"Data Scientist\",\"HR\",\"Marketing\",\"Designer\",\"Sales\",\"Marketing\",\"Designer\",\"Sales\",\"Marketing\",\"Software Engineer\",\"Project Manager\",\"Sales\",\"Project Manager\",\"Data Scientist\",\"Software Engineer\",\"Software Engineer\",\"Project Manager\",\"Data Scientist\",\"HR\",\"Project Manager\",\"Designer\",\"Designer\",\"Data Scientist\",\"Marketing\",\"Data Scientist\",\"Designer\",\"Project Manager\",\"Sales\",\"Sales\",\"Software Engineer\",\"Designer\",\"Software Engineer\",\"Data Scientist\",\"Data Scientist\",\"Project Manager\",\"Marketing\",\"Data Scientist\",\"Sales\",\"Marketing\",\"Marketing\",\"Project Manager\",\"Project Manager\",\"Designer\",\"Software Engineer\",\"Software Engineer\",\"Project Manager\",\"Data Scientist\",\"Marketing\",\"Data Scientist\",\"Designer\",\"Data Scientist\",\"Software Engineer\",\"Project Manager\",\"Software Engineer\",\"Marketing\",\"HR\",\"HR\",\"HR\",\"HR\",\"Data Scientist\",\"Data Scientist\",\"Software Engineer\",\"Marketing\",\"Sales\",\"Project Manager\",\"Sales\",\"Sales\",\"Project Manager\",\"Sales\",\"Project Manager\",\"HR\",\"Marketing\",\"HR\",\"Marketing\",\"HR\",\"Software Engineer\",\"Project Manager\",\"Project Manager\",\"Project Manager\",\"Project Manager\",\"Sales\",\"Data Scientist\",\"Project Manager\",\"Designer\",\"Project Manager\",\"Project Manager\",\"Designer\",\"HR\",\"Designer\",\"Software Engineer\",\"Software Engineer\",\"Project Manager\",\"Sales\",\"Designer\",\"Sales\",\"HR\",\"Sales\",\"Marketing\",\"Data Scientist\",\"Marketing\",\"Data Scientist\",\"Software Engineer\",\"Marketing\",\"Designer\",\"HR\",\"Marketing\",\"HR\",\"Marketing\",\"Marketing\",\"Designer\",\"Sales\",\"Designer\",\"Sales\",\"HR\",\"Software Engineer\",\"Project Manager\",\"Data Scientist\",\"HR\",\"Sales\",\"Project Manager\",\"Sales\",\"Sales\",\"Software Engineer\",\"Designer\",\"Designer\",\"HR\",\"Sales\",\"Project Manager\",\"Project Manager\",\"Marketing\",\"Data Scientist\",\"Project Manager\",\"Designer\",\"Designer\",\"HR\",\"Designer\",\"Sales\",\"Sales\",\"Marketing\",\"Project Manager\",\"Marketing\",\"Project Manager\",\"Project Manager\",\"Marketing\",\"Project Manager\",\"Designer\",\"Marketing\",\"Data Scientist\",\"HR\",\"Designer\",\"HR\",\"HR\",\"Project Manager\",\"Data Scientist\",\"Designer\",\"HR\",\"Sales\",\"Project Manager\",\"Project Manager\",\"HR\",\"Sales\",\"Sales\",\"Software Engineer\",\"Sales\",\"Project Manager\",\"Sales\",\"HR\",\"Designer\",\"Data Scientist\",\"Software Engineer\",\"Sales\",\"Designer\",\"Project Manager\",\"Designer\",\"HR\",\"Data Scientist\",\"Project Manager\",\"Project Manager\",\"Software Engineer\",\"Designer\",\"Marketing\",\"Software Engineer\",\"Marketing\",\"HR\",\"Marketing\",\"Designer\",\"Designer\",\"Marketing\",\"Sales\",\"Project Manager\",\"Sales\",\"Software Engineer\",\"Project Manager\",\"Sales\",\"Sales\",\"HR\",\"Project Manager\",\"Marketing\",\"Project Manager\",\"Designer\",\"Project Manager\",\"Marketing\",\"HR\",\"Data Scientist\",\"Software Engineer\",\"Designer\",\"Project Manager\",\"Sales\",\"Designer\",\"Software Engineer\",\"Designer\",\"Data Scientist\",\"Sales\",\"Designer\",\"Marketing\",\"Software Engineer\",\"Marketing\",\"HR\",\"Sales\",\"Sales\",\"Software Engineer\",\"Designer\",\"Designer\",\"Data Scientist\",\"Designer\",\"Designer\",\"Project Manager\",\"Sales\",\"Software Engineer\",\"Sales\",\"Data Scientist\",\"Sales\",\"HR\",\"Software Engineer\",\"Software Engineer\",\"Designer\",\"HR\",\"Sales\",\"Marketing\",\"Sales\",\"Data Scientist\",\"Project Manager\",\"Marketing\",\"Software Engineer\",\"HR\",\"HR\",\"Project Manager\",\"Data Scientist\",\"Software Engineer\",\"Designer\",\"Designer\",\"HR\",\"Marketing\",\"Software Engineer\",\"Designer\",\"Data Scientist\",\"Designer\",\"Software Engineer\",\"Project Manager\",\"Designer\",\"Marketing\",\"HR\",\"Software Engineer\",\"HR\",\"Project Manager\",\"Software Engineer\",\"Designer\",\"Project Manager\",\"Designer\",\"Project Manager\",\"Designer\",\"Project Manager\",\"HR\",\"Data Scientist\",\"Data Scientist\",\"Software Engineer\",\"Data Scientist\",\"Data Scientist\",\"HR\",\"Designer\",\"Software Engineer\",\"Software Engineer\",\"Software Engineer\",\"Software Engineer\",\"Marketing\",\"Marketing\",\"Data Scientist\",\"HR\",\"Project Manager\",\"Sales\",\"Project Manager\",\"Marketing\",\"Software Engineer\",\"Project Manager\",\"Marketing\",\"HR\",\"Project Manager\",\"Software Engineer\",\"Designer\",\"Designer\",\"Designer\",\"HR\",\"Designer\",\"Software Engineer\",\"HR\",\"Software Engineer\",\"Designer\",\"Sales\",\"Designer\",\"Project Manager\",\"Software Engineer\",\"HR\",\"Sales\",\"Data Scientist\",\"Designer\",\"Project Manager\",\"Data Scientist\",\"Project Manager\",\"Software Engineer\",\"Sales\",\"Sales\",\"Data Scientist\",\"Marketing\",\"Designer\",\"HR\",\"Sales\",\"Project Manager\",\"Data Scientist\",\"HR\",\"Designer\",\"Project Manager\",\"Designer\",\"Project Manager\",\"Marketing\",\"Software Engineer\",\"Project Manager\",\"Sales\",\"HR\",\"Designer\",\"Project Manager\",\"Designer\",\"Designer\",\"Marketing\",\"HR\",\"Sales\",\"HR\",\"Data Scientist\",\"Marketing\",\"HR\",\"Designer\",\"Software Engineer\",\"Project Manager\",\"Sales\",\"Marketing\",\"Sales\",\"Data Scientist\",\"Project Manager\",\"Project Manager\",\"Marketing\",\"Software Engineer\",\"Marketing\",\"Designer\",\"Software Engineer\",\"Project Manager\",\"Marketing\",\"HR\",\"Designer\",\"Software Engineer\",\"Designer\",\"Software Engineer\",\"Designer\",\"HR\",\"Software Engineer\",\"Data Scientist\",\"Marketing\",\"Sales\",\"Marketing\",\"Designer\",\"Data Scientist\",\"Marketing\",\"Data Scientist\",\"Designer\",\"Marketing\",\"Designer\",\"Sales\",\"Marketing\",\"Project Manager\",\"Marketing\",\"Sales\",\"Designer\",\"HR\",\"Designer\",\"Software Engineer\",\"HR\",\"Project Manager\",\"Software Engineer\",\"Designer\",\"Software Engineer\",\"Project Manager\",\"Project Manager\",\"Marketing\",\"Marketing\",\"Designer\",\"Sales\",\"HR\",\"Sales\",\"Marketing\",\"Project Manager\",\"Designer\",\"Software Engineer\",\"Designer\",\"Marketing\",\"Data Scientist\",\"Sales\",\"Designer\",\"Designer\",\"Designer\",\"Data Scientist\",\"Software Engineer\",\"HR\",\"HR\",\"Project Manager\",\"Software Engineer\",\"Marketing\",\"Marketing\",\"Marketing\",\"Software Engineer\",\"HR\",\"Software Engineer\",\"Data Scientist\",\"Marketing\",\"Project Manager\",\"Sales\",\"Marketing\",\"Marketing\",\"Data Scientist\",\"Designer\",\"Data Scientist\",\"Designer\",\"Data Scientist\",\"Data Scientist\",\"Project Manager\",\"Data Scientist\",\"Designer\",\"Marketing\",\"Software Engineer\",\"Marketing\",\"Software Engineer\",\"Marketing\",\"Data Scientist\",\"Marketing\",\"HR\",\"Data Scientist\",\"Software Engineer\",\"Project Manager\",\"HR\",\"Marketing\",\"Marketing\",\"Sales\",\"Data Scientist\",\"Project Manager\",\"Data Scientist\",\"Project Manager\",\"HR\",\"Data Scientist\",\"Software Engineer\",\"Data Scientist\",\"Software Engineer\",\"Marketing\",\"Designer\",\"HR\",\"HR\",\"Designer\",\"Project Manager\",\"Marketing\",\"Designer\",\"Data Scientist\",\"HR\",\"Software Engineer\",\"Designer\",\"Data Scientist\",\"Designer\",\"Marketing\",\"Project Manager\",\"Project Manager\",\"Software Engineer\",\"Marketing\",\"HR\",\"Marketing\",\"Project Manager\",\"Designer\",\"Data Scientist\",\"Marketing\",\"Project Manager\",\"Designer\",\"Designer\",\"Software Engineer\",\"Software Engineer\",\"Designer\",\"Project Manager\",\"HR\",\"Project Manager\",\"Software Engineer\",\"Sales\",\"Project Manager\",\"Sales\",\"Sales\",\"Data Scientist\",\"Data Scientist\",\"Marketing\",\"Marketing\",\"Sales\",\"Sales\",\"HR\",\"Data Scientist\",\"Marketing\",\"Data Scientist\",\"Software Engineer\",\"HR\",\"HR\",\"HR\",\"Project Manager\",\"Marketing\",\"Project Manager\",\"Sales\",\"Project Manager\",\"Software Engineer\",\"HR\",\"HR\",\"Designer\",\"HR\",\"Project Manager\",\"HR\",\"Marketing\",\"Marketing\",\"Designer\",\"HR\",\"Sales\",\"Software Engineer\",\"Designer\",\"Marketing\",\"Software Engineer\",\"HR\",\"Software Engineer\",\"Project Manager\",\"Designer\",\"Project Manager\",\"Designer\",\"Data Scientist\",\"HR\",\"Data Scientist\",\"Designer\",\"Sales\",\"Software Engineer\",\"Software Engineer\",\"Software Engineer\",\"Marketing\",\"Software Engineer\",\"Marketing\",\"Software Engineer\",\"Project Manager\",\"Data Scientist\",\"Designer\",\"HR\",\"Designer\",\"Project Manager\",\"Project Manager\",\"Project Manager\",\"Software Engineer\",\"Sales\",\"Designer\",\"Project Manager\",\"Sales\",\"Software Engineer\",\"Designer\",\"Sales\",\"Sales\",\"Marketing\",\"Software Engineer\",\"HR\",\"Project Manager\",\"Sales\",\"Data Scientist\",\"Marketing\",\"Marketing\",\"HR\",\"Data Scientist\",\"Data Scientist\",\"Designer\",\"HR\",\"Data Scientist\",\"Sales\",\"Data Scientist\",\"HR\",\"Marketing\",\"Marketing\",\"Project Manager\",\"Software Engineer\",\"Designer\",\"Sales\",\"Data Scientist\",\"Project Manager\",\"Project Manager\",\"Data Scientist\",\"Designer\",\"Software Engineer\",\"HR\",\"Sales\",\"Sales\",\"Marketing\",\"Designer\",\"HR\",\"Project Manager\",\"Software Engineer\",\"Sales\",\"HR\",\"Marketing\",\"HR\",\"Sales\",\"Data Scientist\",\"Sales\",\"Marketing\",\"Software Engineer\",\"Designer\",\"Designer\",\"Data Scientist\",\"Sales\",\"HR\",\"Software Engineer\",\"Marketing\",\"Software Engineer\",\"Marketing\",\"Sales\",\"HR\",\"Project Manager\",\"Sales\",\"Data Scientist\",\"HR\",\"Sales\",\"HR\",\"HR\",\"Designer\",\"Data Scientist\",\"Data Scientist\",\"Data Scientist\",\"Software Engineer\",\"HR\",\"Sales\",\"HR\",\"Software Engineer\",\"Data Scientist\",\"Sales\",\"Project Manager\",\"Data Scientist\",\"Software Engineer\",\"Data Scientist\",\"Designer\",\"Designer\",\"Designer\",\"Data Scientist\",\"Software Engineer\",\"Data Scientist\",\"Project Manager\",\"Sales\",\"Project Manager\",\"Marketing\",\"Designer\",\"Software Engineer\",\"Project Manager\",\"Data Scientist\",\"Designer\",\"Software Engineer\",\"Software Engineer\",\"Data Scientist\",\"Software Engineer\",\"HR\",\"Software Engineer\",\"Marketing\",\"Sales\",\"Designer\",\"Software Engineer\",\"Designer\",\"HR\",\"Designer\",\"Project Manager\",\"Data Scientist\",\"Marketing\",\"Data Scientist\",\"Data Scientist\",\"HR\",\"Sales\",\"Designer\",\"Marketing\",\"Sales\",\"Software Engineer\",\"Project Manager\",\"Software Engineer\",\"Software Engineer\",\"HR\",\"Marketing\",\"HR\",\"Designer\",\"Sales\",\"HR\",\"HR\",\"Marketing\",\"Sales\",\"Marketing\",\"Data Scientist\",\"Designer\",\"Data Scientist\",\"Data Scientist\",\"Designer\",\"HR\",\"Sales\",\"Marketing\",\"Designer\",\"Project Manager\",\"Data Scientist\",\"Project Manager\",\"Data Scientist\",\"Project Manager\",\"Marketing\",\"Designer\",\"Designer\",\"Designer\",\"Designer\",\"Designer\",\"Software Engineer\",\"Project Manager\",\"Sales\",\"Marketing\",\"Designer\",\"Project Manager\",\"Sales\",\"Software Engineer\",\"HR\",\"Designer\",\"Project Manager\",\"Project Manager\",\"HR\",\"Designer\",\"Marketing\",\"Sales\",\"Marketing\",\"Marketing\",\"Marketing\",\"Project Manager\",\"Project Manager\",\"Project Manager\",\"Sales\",\"HR\",\"Software Engineer\",\"Project Manager\",\"Software Engineer\",\"Sales\",\"Designer\",\"Project Manager\",\"Project Manager\",\"Sales\",\"Data Scientist\",\"Marketing\",\"Designer\",\"Project Manager\",\"Marketing\",\"HR\",\"Sales\",\"Sales\",\"Marketing\",\"Marketing\",\"HR\",\"Project Manager\",\"Project Manager\",\"Designer\",\"Software Engineer\",\"Sales\",\"Marketing\",\"HR\",\"Data Scientist\",\"Project Manager\",\"Software Engineer\",\"Project Manager\",\"Designer\",\"Project Manager\",\"Project Manager\",\"HR\",\"HR\",\"Project Manager\",\"HR\",\"Data Scientist\",\"HR\",\"Designer\",\"Sales\",\"Sales\",\"HR\",\"Software Engineer\",\"Software Engineer\",\"Project Manager\",\"Marketing\",\"HR\",\"Software Engineer\",\"Sales\",\"HR\",\"Sales\",\"Marketing\",\"HR\",\"Designer\",\"Software Engineer\",\"Designer\",\"Project Manager\",\"HR\",\"Project Manager\",\"Data Scientist\",\"Marketing\",\"Marketing\",\"Software Engineer\",\"Designer\",\"Project Manager\",\"Designer\",\"Marketing\",\"Marketing\",\"Software Engineer\",\"Software Engineer\",\"HR\",\"Sales\",\"Designer\",\"Marketing\",\"Sales\",\"Software Engineer\",\"HR\",\"Data Scientist\",\"Marketing\",\"Project Manager\",\"Sales\",\"Software Engineer\",\"Marketing\",\"Marketing\",\"Sales\",\"HR\",\"Project Manager\",\"Software Engineer\",\"Sales\",\"HR\",\"Project Manager\",\"Designer\",\"HR\",\"Designer\",\"Designer\",\"Sales\",\"Project Manager\",\"Software Engineer\",\"Marketing\",\"Sales\",\"Designer\",\"Project Manager\",\"Data Scientist\",\"Software Engineer\",\"Data Scientist\",\"Designer\",\"Designer\",\"HR\",\"Data Scientist\",\"Marketing\",\"Marketing\",\"Designer\",\"Designer\",\"Sales\",\"Marketing\",\"Marketing\",\"Sales\",\"Marketing\",\"Data Scientist\",\"Data Scientist\",\"Sales\",\"Designer\",\"Project Manager\",\"Project Manager\",\"Sales\",\"HR\",\"Sales\",\"Data Scientist\",\"HR\",\"HR\",\"HR\",\"Software Engineer\",\"Sales\",\"Designer\",\"Sales\",\"Software Engineer\",\"Project Manager\",\"Data Scientist\",\"Project Manager\",\"Sales\",\"Marketing\",\"Data Scientist\",\"Data Scientist\",\"Designer\",\"Project Manager\",\"Sales\",\"HR\",\"Marketing\",\"HR\",\"Data Scientist\",\"Software Engineer\",\"Software Engineer\",\"Designer\",\"HR\",\"Project Manager\",\"Sales\",\"Sales\",\"Data Scientist\",\"Software Engineer\",\"Project Manager\",\"Project Manager\",\"Project Manager\",\"Sales\",\"Sales\",\"Data Scientist\",\"Designer\",\"Marketing\",\"Designer\",\"Project Manager\",\"Marketing\",\"Sales\",\"Designer\",\"Data Scientist\",\"Designer\",\"Marketing\",\"Data Scientist\",\"HR\",\"Sales\",\"Software Engineer\",\"Sales\",\"Marketing\",\"Data Scientist\",\"Project Manager\",\"Sales\",\"Sales\",\"HR\",\"Software Engineer\",\"HR\",\"Project Manager\",\"Project Manager\",\"Data Scientist\",\"Sales\",\"Project Manager\",\"Software Engineer\",\"Project Manager\",\"Designer\",\"Marketing\",\"Software Engineer\",\"Software Engineer\",\"HR\",\"Sales\",\"Software Engineer\",\"HR\",\"HR\",\"Data Scientist\",\"Data Scientist\",\"HR\",\"Sales\",\"Data Scientist\",\"Project Manager\",\"Data Scientist\",\"Software Engineer\",\"Project Manager\",\"Data Scientist\",\"Data Scientist\",\"Designer\",\"Data Scientist\",\"Marketing\",\"Project Manager\",\"Designer\",\"HR\",\"Marketing\",\"Software Engineer\",\"Designer\",\"Data Scientist\",\"Sales\",\"Software Engineer\",\"Software Engineer\",\"Project Manager\",\"HR\",\"Marketing\",\"Data Scientist\",\"Data Scientist\",\"Designer\",\"HR\",\"HR\",\"Sales\",\"HR\",\"Marketing\",\"Sales\",\"Project Manager\",\"Designer\",\"Sales\",\"Designer\",\"Data Scientist\",\"Marketing\",\"Designer\",\"Software Engineer\",\"Marketing\",\"Sales\",\"Marketing\",\"Data Scientist\",\"Data Scientist\",\"HR\",\"Designer\",\"Data Scientist\",\"Sales\",\"Data Scientist\",\"Sales\",\"Software Engineer\",\"HR\",\"Software Engineer\",\"HR\",\"Designer\",\"HR\",\"Data Scientist\",\"Sales\",\"Sales\",\"Designer\",\"HR\",\"Sales\",\"Sales\",\"Marketing\",\"Software Engineer\",\"Sales\",\"Software Engineer\",\"Sales\",\"Project Manager\",\"Data Scientist\",\"HR\",\"Sales\",\"HR\",\"HR\",\"Data Scientist\",\"Project Manager\",\"Data Scientist\",\"Project Manager\",\"Designer\",\"Software Engineer\",\"Sales\",\"Designer\",\"Project Manager\",\"Designer\",\"HR\",\"Designer\",\"Data Scientist\",\"Software Engineer\",\"Sales\",\"Data Scientist\",\"Sales\",\"Software Engineer\",\"Software Engineer\",\"Data Scientist\",\"HR\",\"Sales\",\"Marketing\",\"Project Manager\",\"Sales\",\"Software Engineer\",\"Designer\",\"Project Manager\",\"Data Scientist\",\"HR\",\"Designer\",\"Designer\",\"Marketing\",\"Designer\",\"Sales\",\"Data Scientist\",\"Sales\",\"HR\",\"Sales\",\"Marketing\",\"HR\",\"Designer\",\"Marketing\",\"Software Engineer\",\"Designer\",\"Project Manager\",\"Data Scientist\",\"Software Engineer\",\"Data Scientist\",\"Sales\",\"Marketing\",\"Designer\",\"Data Scientist\",\"Project Manager\",\"Data Scientist\",\"HR\",\"Data Scientist\",\"HR\",\"Software Engineer\",\"Sales\",\"Sales\",\"Data Scientist\",\"Sales\",\"Designer\",\"Data Scientist\",\"Project Manager\",\"Data Scientist\",\"Marketing\",\"HR\",\"Sales\",\"Designer\",\"Sales\",\"Data Scientist\",\"Sales\",\"Designer\",\"Marketing\",\"Sales\",\"HR\",\"Sales\",\"Data Scientist\",\"HR\",\"Designer\",\"Software Engineer\",\"Marketing\",\"HR\",\"HR\",\"Project Manager\",\"Software Engineer\",\"Designer\",\"Data Scientist\",\"Designer\",\"Marketing\",\"Marketing\",\"Designer\",\"Marketing\",\"Project Manager\",\"Data Scientist\",\"Data Scientist\",\"Project Manager\",\"Data Scientist\",\"Software Engineer\",\"Software Engineer\",\"Data Scientist\",\"Sales\",\"HR\",\"Sales\",\"HR\",\"Marketing\",\"Designer\",\"Marketing\",\"Data Scientist\",\"Designer\",\"Sales\",\"Project Manager\",\"Marketing\",\"HR\",\"Software Engineer\",\"Sales\",\"Project Manager\",\"Marketing\",\"Designer\",\"HR\",\"Designer\",\"Project Manager\",\"Data Scientist\",\"Designer\",\"HR\",\"Marketing\",\"Data Scientist\",\"Marketing\",\"Sales\",\"HR\",\"Software Engineer\",\"Data Scientist\",\"Designer\",\"Software Engineer\",\"Software Engineer\",\"Sales\",\"Sales\",\"HR\",\"Sales\",\"Project Manager\",\"HR\",\"HR\",\"Software Engineer\",\"Data Scientist\",\"Software Engineer\",\"Designer\",\"Marketing\",\"Software Engineer\",\"Software Engineer\",\"Sales\",\"Project Manager\",\"HR\",\"Designer\",\"Software Engineer\",\"Sales\",\"Sales\",\"Data Scientist\",\"HR\",\"Marketing\",\"Data Scientist\",\"Software Engineer\",\"Sales\",\"Software Engineer\",\"Software Engineer\",\"Designer\",\"Project Manager\",\"Designer\",\"Project Manager\",\"Project Manager\",\"Data Scientist\",\"Designer\",\"Project Manager\",\"Sales\",\"Data Scientist\",\"Sales\",\"Data Scientist\",\"Designer\",\"Marketing\",\"Sales\",\"Data Scientist\",\"Data Scientist\",\"Marketing\",\"Marketing\",\"Sales\",\"HR\",\"Designer\",\"Marketing\",\"Software Engineer\",\"Software Engineer\",\"Sales\",\"Project Manager\",\"HR\",\"Software Engineer\",\"Sales\",\"Marketing\",\"Designer\",\"Data Scientist\",\"Project Manager\",\"Data Scientist\",\"HR\",\"Marketing\",\"Project Manager\",\"Project Manager\",\"HR\",\"Data Scientist\",\"Software Engineer\",\"HR\",\"Sales\",\"Project Manager\",\"HR\",\"Sales\",\"HR\",\"Sales\",\"Designer\",\"Data Scientist\",\"Project Manager\",\"HR\",\"Sales\",\"Designer\",\"Sales\",\"Marketing\",\"HR\",\"HR\",\"Software Engineer\",\"Marketing\",\"Software Engineer\",\"Data Scientist\",\"Designer\",\"HR\",\"Project Manager\",\"Marketing\",\"Sales\",\"Sales\",\"Marketing\",\"Software Engineer\",\"Software Engineer\",\"Project Manager\",\"Marketing\",\"Marketing\",\"Marketing\",\"Software Engineer\",\"Designer\",\"Project Manager\",\"Data Scientist\",\"HR\",\"Project Manager\",\"Designer\",\"HR\",\"Data Scientist\",\"Project Manager\",\"Data Scientist\",\"Marketing\",\"Project Manager\",\"Project Manager\",\"Sales\",\"Sales\",\"Software Engineer\",\"Project Manager\",\"Designer\",\"Marketing\",\"Designer\",\"Data Scientist\",\"Software Engineer\",\"Project Manager\",\"Software Engineer\",\"HR\",\"Designer\",\"Marketing\",\"Marketing\",\"Sales\",\"Project Manager\",\"Data Scientist\",\"HR\",\"Designer\",\"Sales\",\"Project Manager\",\"HR\",\"Designer\",\"Designer\",\"Project Manager\",\"Software Engineer\",\"Sales\",\"Project Manager\",\"HR\",\"Designer\",\"HR\",\"Designer\",\"Software Engineer\",\"Designer\",\"Project Manager\",\"Project Manager\",\"Marketing\",\"Marketing\",\"Project Manager\",\"Sales\",\"Marketing\",\"Project Manager\",\"Software Engineer\",\"Software Engineer\",\"Marketing\",\"HR\",\"Sales\",\"Marketing\",\"Data Scientist\",\"Data Scientist\",\"Marketing\",\"Sales\",\"Marketing\",\"Project Manager\",\"Project Manager\",\"Marketing\",\"Designer\",\"HR\",\"Data Scientist\",\"Project Manager\",\"Data Scientist\",\"Marketing\",\"HR\",\"Data Scientist\",\"Marketing\",\"Software Engineer\",\"Marketing\",\"HR\",\"HR\",\"Designer\",\"Designer\",\"Data Scientist\",\"HR\",\"HR\",\"Software Engineer\",\"Sales\",\"Data Scientist\",\"Data Scientist\",\"Data Scientist\",\"Data Scientist\",\"Marketing\",\"Marketing\",\"HR\",\"Software Engineer\",\"Data Scientist\",\"HR\",\"HR\",\"Data Scientist\",\"Software Engineer\",\"Sales\",\"Designer\",\"Data Scientist\",\"Software Engineer\",\"Data Scientist\",\"Software Engineer\",\"Project Manager\",\"Data Scientist\",\"Software Engineer\",\"Data Scientist\",\"HR\",\"Marketing\",\"Software Engineer\",\"Software Engineer\",\"Data Scientist\",\"Project Manager\",\"Data Scientist\",\"Designer\",\"HR\",\"Designer\",\"Designer\",\"Sales\",\"Designer\",\"Project Manager\",\"Data Scientist\",\"HR\",\"Data Scientist\",\"Marketing\",\"Project Manager\",\"Sales\",\"Marketing\",\"Software Engineer\",\"Software Engineer\",\"HR\",\"Designer\",\"Designer\",\"Sales\",\"Sales\",\"Marketing\",\"Software Engineer\",\"Designer\",\"Sales\",\"Marketing\",\"Sales\",\"Sales\",\"Sales\",\"Sales\",\"Data Scientist\",\"HR\",\"Designer\",\"Project Manager\",\"Project Manager\",\"Project Manager\",\"Sales\",\"Sales\",\"Project Manager\",\"Marketing\",\"Software Engineer\",\"Marketing\",\"Designer\",\"Marketing\",\"Project Manager\",\"HR\",\"Data Scientist\",\"Designer\",\"Project Manager\",\"Data Scientist\",\"Software Engineer\",\"Sales\",\"Marketing\",\"Software Engineer\",\"Marketing\",\"Project Manager\",\"Project Manager\",\"Sales\",\"Software Engineer\",\"Sales\",\"Software Engineer\",\"Software Engineer\",\"HR\",\"Designer\",\"Marketing\",\"HR\",\"Data Scientist\",\"Data Scientist\",\"HR\",\"Sales\",\"HR\",\"Marketing\",\"Marketing\",\"Marketing\",\"Software Engineer\",\"Designer\",\"Software Engineer\",\"Data Scientist\",\"Marketing\",\"Project Manager\",\"Data Scientist\",\"Sales\",\"Sales\",\"HR\",\"Designer\",\"Designer\",\"Marketing\",\"Designer\",\"Sales\",\"HR\",\"Software Engineer\",\"Marketing\",\"Software Engineer\",\"HR\",\"Designer\",\"Designer\",\"Software Engineer\",\"Software Engineer\",\"Data Scientist\",\"Software Engineer\",\"Data Scientist\",\"Designer\",\"Marketing\",\"Sales\",\"Software Engineer\",\"Sales\",\"Data Scientist\",\"Data Scientist\",\"HR\",\"Project Manager\",\"Designer\",\"Sales\",\"Designer\",\"Project Manager\",\"Data Scientist\",\"Project Manager\",\"Sales\",\"Marketing\",\"Software Engineer\",\"Designer\",\"HR\",\"Data Scientist\",\"Data Scientist\",\"Data Scientist\",\"Software Engineer\",\"HR\",\"Software Engineer\",\"HR\",\"HR\",\"Software Engineer\",\"Designer\",\"Designer\",\"HR\",\"Designer\",\"HR\",\"Sales\",\"Designer\",\"Data Scientist\",\"Marketing\",\"Software Engineer\",\"Project Manager\",\"HR\",\"HR\",\"HR\",\"Project Manager\",\"HR\",\"Sales\",\"Project Manager\",\"Project Manager\",\"Sales\",\"Software Engineer\",\"Software Engineer\",\"Sales\",\"Sales\",\"Marketing\",\"Sales\",\"Data Scientist\",\"Designer\",\"Project Manager\",\"Software Engineer\",\"Project Manager\",\"Software Engineer\",\"Marketing\",\"Marketing\",\"HR\",\"Project Manager\",\"Project Manager\",\"Software Engineer\",\"Project Manager\",\"Designer\",\"Designer\",\"Data Scientist\",\"HR\",\"Project Manager\",\"Software Engineer\",\"Designer\",\"Designer\",\"Marketing\",\"Sales\",\"Data Scientist\",\"Marketing\",\"Project Manager\",\"Project Manager\",\"Marketing\",\"Sales\",\"Software Engineer\",\"Project Manager\",\"Sales\",\"Software Engineer\",\"Project Manager\",\"HR\",\"Designer\",\"Sales\",\"Project Manager\",\"Sales\",\"Project Manager\",\"Software Engineer\",\"Software Engineer\",\"Sales\",\"Data Scientist\",\"Marketing\",\"Data Scientist\",\"Sales\",\"Designer\",\"Data Scientist\",\"Sales\",\"HR\",\"Sales\",\"Software Engineer\",\"Sales\",\"Data Scientist\",\"HR\",\"HR\",\"Marketing\",\"Project Manager\",\"HR\",\"HR\",\"Data Scientist\",\"Sales\",\"Data Scientist\",\"Designer\",\"Sales\",\"Sales\",\"Software Engineer\",\"Project Manager\",\"HR\",\"Software Engineer\",\"Project Manager\",\"Data Scientist\",\"Data Scientist\",\"Data Scientist\",\"Marketing\",\"Designer\",\"Project Manager\",\"Project Manager\",\"Designer\",\"Sales\",\"HR\",\"Software Engineer\",\"Designer\",\"Software Engineer\",\"Marketing\",\"Data Scientist\",\"Project Manager\",\"Marketing\",\"Marketing\",\"Sales\"],\"yaxis\":\"y\",\"type\":\"bar\"},{\"alignmentgroup\":\"True\",\"hovertemplate\":\"Work_Location=Remote\\u003cbr\\u003eNumber of people=%{x}\\u003cbr\\u003eJob Role=%{y}\\u003cextra\\u003e\\u003c\\u002fextra\\u003e\",\"legendgroup\":\"Remote\",\"marker\":{\"color\":\"#EF553B\",\"pattern\":{\"shape\":\"\"}},\"name\":\"Remote\",\"offsetgroup\":\"Remote\",\"orientation\":\"h\",\"showlegend\":true,\"textposition\":\"auto\",\"x\":[1,1,1,1,1,1,1,1,1,1,1,1,1,1,1,1,1,1,1,1,1,1,1,1,1,1,1,1,1,1,1,1,1,1,1,1,1,1,1,1,1,1,1,1,1,1,1,1,1,1,1,1,1,1,1,1,1,1,1,1,1,1,1,1,1,1,1,1,1,1,1,1,1,1,1,1,1,1,1,1,1,1,1,1,1,1,1,1,1,1,1,1,1,1,1,1,1,1,1,1,1,1,1,1,1,1,1,1,1,1,1,1,1,1,1,1,1,1,1,1,1,1,1,1,1,1,1,1,1,1,1,1,1,1,1,1,1,1,1,1,1,1,1,1,1,1,1,1,1,1,1,1,1,1,1,1,1,1,1,1,1,1,1,1,1,1,1,1,1,1,1,1,1,1,1,1,1,1,1,1,1,1,1,1,1,1,1,1,1,1,1,1,1,1,1,1,1,1,1,1,1,1,1,1,1,1,1,1,1,1,1,1,1,1,1,1,1,1,1,1,1,1,1,1,1,1,1,1,1,1,1,1,1,1,1,1,1,1,1,1,1,1,1,1,1,1,1,1,1,1,1,1,1,1,1,1,1,1,1,1,1,1,1,1,1,1,1,1,1,1,1,1,1,1,1,1,1,1,1,1,1,1,1,1,1,1,1,1,1,1,1,1,1,1,1,1,1,1,1,1,1,1,1,1,1,1,1,1,1,1,1,1,1,1,1,1,1,1,1,1,1,1,1,1,1,1,1,1,1,1,1,1,1,1,1,1,1,1,1,1,1,1,1,1,1,1,1,1,1,1,1,1,1,1,1,1,1,1,1,1,1,1,1,1,1,1,1,1,1,1,1,1,1,1,1,1,1,1,1,1,1,1,1,1,1,1,1,1,1,1,1,1,1,1,1,1,1,1,1,1,1,1,1,1,1,1,1,1,1,1,1,1,1,1,1,1,1,1,1,1,1,1,1,1,1,1,1,1,1,1,1,1,1,1,1,1,1,1,1,1,1,1,1,1,1,1,1,1,1,1,1,1,1,1,1,1,1,1,1,1,1,1,1,1,1,1,1,1,1,1,1,1,1,1,1,1,1,1,1,1,1,1,1,1,1,1,1,1,1,1,1,1,1,1,1,1,1,1,1,1,1,1,1,1,1,1,1,1,1,1,1,1,1,1,1,1,1,1,1,1,1,1,1,1,1,1,1,1,1,1,1,1,1,1,1,1,1,1,1,1,1,1,1,1,1,1,1,1,1,1,1,1,1,1,1,1,1,1,1,1,1,1,1,1,1,1,1,1,1,1,1,1,1,1,1,1,1,1,1,1,1,1,1,1,1,1,1,1,1,1,1,1,1,1,1,1,1,1,1,1,1,1,1,1,1,1,1,1,1,1,1,1,1,1,1,1,1,1,1,1,1,1,1,1,1,1,1,1,1,1,1,1,1,1,1,1,1,1,1,1,1,1,1,1,1,1,1,1,1,1,1,1,1,1,1,1,1,1,1,1,1,1,1,1,1,1,1,1,1,1,1,1,1,1,1,1,1,1,1,1,1,1,1,1,1,1,1,1,1,1,1,1,1,1,1,1,1,1,1,1,1,1,1,1,1,1,1,1,1,1,1,1,1,1,1,1,1,1,1,1,1,1,1,1,1,1,1,1,1,1,1,1,1,1,1,1,1,1,1,1,1,1,1,1,1,1,1,1,1,1,1,1,1,1,1,1,1,1,1,1,1,1,1,1,1,1,1,1,1,1,1,1,1,1,1,1,1,1,1,1,1,1,1,1,1,1,1,1,1,1,1,1,1,1,1,1,1,1,1,1,1,1,1,1,1,1,1,1,1,1,1,1,1,1,1,1,1,1,1,1,1,1,1,1,1,1,1,1,1,1,1,1,1,1,1,1,1,1,1,1,1,1,1,1,1,1,1,1,1,1,1,1,1,1,1,1,1,1,1,1,1,1,1,1,1,1,1,1,1,1,1,1,1,1,1,1,1,1,1,1,1,1,1,1,1,1,1,1,1,1,1,1,1,1,1,1,1,1,1,1,1,1,1,1,1,1,1,1,1,1,1,1,1,1,1,1,1,1,1,1,1,1,1,1,1,1,1,1,1,1,1,1,1,1,1,1,1,1,1,1,1,1,1,1,1,1,1,1,1,1,1,1,1,1,1,1,1,1,1,1,1,1,1,1,1,1,1,1,1,1,1,1,1,1,1,1,1,1,1,1,1,1,1,1,1,1,1,1,1,1,1,1,1,1,1,1,1,1,1,1,1,1,1,1,1,1,1,1,1,1,1,1,1,1,1,1,1,1,1,1,1,1,1,1,1,1,1,1,1,1,1,1,1,1,1,1,1,1,1,1,1,1,1,1,1,1,1,1,1,1,1,1,1,1,1,1,1,1,1,1,1,1,1,1,1,1,1,1,1,1,1,1,1,1,1,1,1,1,1,1,1,1,1,1,1,1,1,1,1,1,1,1,1,1,1,1,1,1,1,1,1,1,1,1,1,1,1,1,1,1,1,1,1,1,1,1,1,1,1,1,1,1,1,1,1,1,1,1,1,1,1,1,1,1,1,1,1,1,1,1,1,1,1,1,1,1,1,1,1,1,1,1,1,1,1,1,1,1,1,1,1,1,1,1,1,1,1,1,1,1,1,1,1,1,1,1,1,1,1,1,1,1,1,1,1,1,1,1,1,1,1,1,1,1,1,1,1,1,1,1,1,1,1,1,1,1,1,1,1,1,1,1,1,1,1,1,1,1,1,1,1,1,1,1,1,1,1,1,1,1,1,1,1,1,1,1,1,1,1,1,1,1,1,1,1,1,1,1,1,1,1,1,1,1,1,1,1,1,1,1,1,1,1,1,1,1,1,1,1,1,1,1,1,1,1,1,1,1,1,1,1,1,1,1,1,1,1,1,1,1,1,1,1,1,1,1,1,1,1,1,1,1,1,1,1,1,1,1,1,1,1,1,1,1,1,1,1,1,1,1,1,1,1,1,1,1,1,1,1,1,1,1,1,1,1,1,1,1,1,1,1,1,1,1,1,1,1,1,1,1,1,1,1,1,1,1,1,1,1,1,1,1,1,1,1,1,1,1,1,1,1,1,1,1,1,1,1,1,1,1,1,1,1,1,1,1,1,1,1,1,1,1,1,1,1,1,1,1,1,1,1,1,1,1,1,1,1,1,1,1,1,1,1,1,1,1,1,1,1,1,1,1,1,1,1,1,1,1,1,1,1,1,1,1,1,1,1,1,1,1,1,1,1,1,1,1,1,1,1,1,1,1,1,1,1,1,1,1,1,1,1,1,1,1,1,1,1,1,1,1,1,1,1,1,1,1,1,1,1,1,1,1,1,1,1,1,1,1,1,1,1,1,1,1,1,1,1,1,1,1,1,1,1,1,1,1,1,1,1,1,1,1,1,1,1,1,1,1,1,1,1,1,1,1,1,1,1,1,1,1,1,1,1,1,1,1,1,1,1,1,1,1,1,1,1,1,1,1,1,1,1,1,1,1,1,1,1,1,1,1,1,1,1,1,1,1,1,1,1,1,1,1,1,1,1,1,1,1,1,1,1,1,1,1,1,1,1,1,1,1,1,1,1,1,1,1,1,1,1,1,1,1,1,1,1,1,1,1,1,1,1,1,1,1,1,1,1,1,1,1,1,1,1,1,1,1,1,1,1,1,1,1,1,1,1,1,1,1,1,1,1,1,1,1,1,1,1,1,1,1,1,1,1,1,1,1,1,1,1,1,1,1,1,1,1,1,1,1,1,1,1,1,1,1,1,1,1,1,1,1,1,1,1,1,1,1,1,1,1,1,1,1,1,1,1,1,1,1,1,1,1,1,1,1,1,1,1,1,1,1,1,1,1,1],\"xaxis\":\"x\",\"y\":[\"Data Scientist\",\"Sales\",\"Software Engineer\",\"Marketing\",\"Project Manager\",\"Sales\",\"Software Engineer\",\"Software Engineer\",\"Sales\",\"Software Engineer\",\"Project Manager\",\"Software Engineer\",\"Designer\",\"Data Scientist\",\"Project Manager\",\"Designer\",\"HR\",\"Marketing\",\"Data Scientist\",\"Sales\",\"Sales\",\"Software Engineer\",\"Designer\",\"Data Scientist\",\"Sales\",\"HR\",\"Marketing\",\"Marketing\",\"Designer\",\"Marketing\",\"Data Scientist\",\"Designer\",\"Data Scientist\",\"Project Manager\",\"Software Engineer\",\"Data Scientist\",\"HR\",\"Marketing\",\"Designer\",\"Data Scientist\",\"HR\",\"Project Manager\",\"Designer\",\"Marketing\",\"Marketing\",\"Data Scientist\",\"Sales\",\"Data Scientist\",\"HR\",\"Marketing\",\"Designer\",\"Software Engineer\",\"Designer\",\"Data Scientist\",\"Software Engineer\",\"Software Engineer\",\"HR\",\"Designer\",\"Designer\",\"Project Manager\",\"Data Scientist\",\"Marketing\",\"Designer\",\"Data Scientist\",\"Sales\",\"Project Manager\",\"Data Scientist\",\"Sales\",\"Designer\",\"Marketing\",\"Marketing\",\"Software Engineer\",\"HR\",\"Designer\",\"Data Scientist\",\"Software Engineer\",\"Data Scientist\",\"Software Engineer\",\"Marketing\",\"Project Manager\",\"Sales\",\"Data Scientist\",\"HR\",\"HR\",\"Data Scientist\",\"Software Engineer\",\"Sales\",\"Marketing\",\"Sales\",\"Marketing\",\"Designer\",\"Data Scientist\",\"Data Scientist\",\"HR\",\"Marketing\",\"Sales\",\"Marketing\",\"Designer\",\"HR\",\"Software Engineer\",\"Project Manager\",\"Sales\",\"Marketing\",\"Designer\",\"HR\",\"Designer\",\"Software Engineer\",\"Sales\",\"Data Scientist\",\"Data Scientist\",\"Software Engineer\",\"Marketing\",\"Designer\",\"Project Manager\",\"Sales\",\"HR\",\"Designer\",\"Sales\",\"Data Scientist\",\"Software Engineer\",\"Software Engineer\",\"Sales\",\"Designer\",\"Designer\",\"Marketing\",\"Designer\",\"Project Manager\",\"Sales\",\"Designer\",\"Project Manager\",\"Sales\",\"Marketing\",\"Data Scientist\",\"HR\",\"Project Manager\",\"Data Scientist\",\"HR\",\"Data Scientist\",\"Project Manager\",\"Software Engineer\",\"HR\",\"HR\",\"Marketing\",\"Sales\",\"Sales\",\"Sales\",\"HR\",\"Software Engineer\",\"Sales\",\"Data Scientist\",\"Marketing\",\"Data Scientist\",\"Sales\",\"Sales\",\"Project Manager\",\"Designer\",\"HR\",\"Designer\",\"Marketing\",\"Designer\",\"Marketing\",\"Project Manager\",\"Data Scientist\",\"Sales\",\"Marketing\",\"Software Engineer\",\"Data Scientist\",\"Software Engineer\",\"Software Engineer\",\"Sales\",\"Designer\",\"Sales\",\"HR\",\"Data Scientist\",\"Project Manager\",\"Designer\",\"HR\",\"Software Engineer\",\"Project Manager\",\"Data Scientist\",\"Data Scientist\",\"HR\",\"Designer\",\"Project Manager\",\"HR\",\"HR\",\"Software Engineer\",\"Sales\",\"Software Engineer\",\"Sales\",\"Software Engineer\",\"Sales\",\"HR\",\"HR\",\"Sales\",\"Designer\",\"Marketing\",\"Sales\",\"Project Manager\",\"Designer\",\"HR\",\"Marketing\",\"Sales\",\"Marketing\",\"Sales\",\"Sales\",\"Project Manager\",\"HR\",\"Project Manager\",\"Marketing\",\"Sales\",\"Software Engineer\",\"Marketing\",\"Software Engineer\",\"Project Manager\",\"Data Scientist\",\"Designer\",\"Marketing\",\"HR\",\"Software Engineer\",\"Sales\",\"Data Scientist\",\"Software Engineer\",\"Designer\",\"Sales\",\"HR\",\"Sales\",\"Software Engineer\",\"Data Scientist\",\"Data Scientist\",\"Data Scientist\",\"Designer\",\"Software Engineer\",\"Designer\",\"Marketing\",\"Designer\",\"Software Engineer\",\"Project Manager\",\"Sales\",\"Software Engineer\",\"Software Engineer\",\"Designer\",\"Sales\",\"Sales\",\"Designer\",\"Designer\",\"Marketing\",\"HR\",\"Sales\",\"Marketing\",\"Designer\",\"Project Manager\",\"Data Scientist\",\"Designer\",\"Data Scientist\",\"Data Scientist\",\"Designer\",\"Marketing\",\"Designer\",\"Marketing\",\"Marketing\",\"Software Engineer\",\"Project Manager\",\"Designer\",\"Sales\",\"Designer\",\"Software Engineer\",\"Marketing\",\"Marketing\",\"Marketing\",\"Data Scientist\",\"Marketing\",\"Software Engineer\",\"Designer\",\"Software Engineer\",\"Sales\",\"Marketing\",\"Sales\",\"Designer\",\"Software Engineer\",\"Data Scientist\",\"Sales\",\"Designer\",\"Marketing\",\"Software Engineer\",\"Sales\",\"HR\",\"HR\",\"Designer\",\"Sales\",\"Sales\",\"Data Scientist\",\"Sales\",\"Software Engineer\",\"Sales\",\"Project Manager\",\"Project Manager\",\"Software Engineer\",\"Marketing\",\"HR\",\"HR\",\"Data Scientist\",\"Marketing\",\"Sales\",\"Project Manager\",\"Data Scientist\",\"Project Manager\",\"Designer\",\"Software Engineer\",\"Data Scientist\",\"Software Engineer\",\"Data Scientist\",\"Software Engineer\",\"Sales\",\"Designer\",\"Project Manager\",\"Designer\",\"Designer\",\"HR\",\"Project Manager\",\"Software Engineer\",\"HR\",\"Software Engineer\",\"Data Scientist\",\"Software Engineer\",\"Software Engineer\",\"Designer\",\"Software Engineer\",\"Marketing\",\"HR\",\"HR\",\"Project Manager\",\"Sales\",\"Software Engineer\",\"Software Engineer\",\"Software Engineer\",\"HR\",\"HR\",\"Sales\",\"Project Manager\",\"Marketing\",\"HR\",\"Software Engineer\",\"Project Manager\",\"Software Engineer\",\"Sales\",\"Designer\",\"Marketing\",\"Marketing\",\"Sales\",\"Software Engineer\",\"Software Engineer\",\"Project Manager\",\"Marketing\",\"Data Scientist\",\"HR\",\"Software Engineer\",\"Project Manager\",\"Software Engineer\",\"HR\",\"Sales\",\"Designer\",\"Designer\",\"Project Manager\",\"Sales\",\"Data Scientist\",\"Sales\",\"Software Engineer\",\"HR\",\"Data Scientist\",\"Software Engineer\",\"Marketing\",\"Software Engineer\",\"Designer\",\"Sales\",\"Sales\",\"Data Scientist\",\"Marketing\",\"Designer\",\"Marketing\",\"Data Scientist\",\"HR\",\"Marketing\",\"Sales\",\"Data Scientist\",\"Project Manager\",\"Data Scientist\",\"Designer\",\"Sales\",\"Project Manager\",\"Designer\",\"Designer\",\"Marketing\",\"Project Manager\",\"Sales\",\"Designer\",\"Software Engineer\",\"Data Scientist\",\"HR\",\"Data Scientist\",\"Sales\",\"Software Engineer\",\"Marketing\",\"Project Manager\",\"Designer\",\"HR\",\"Data Scientist\",\"Marketing\",\"Sales\",\"HR\",\"Software Engineer\",\"Data Scientist\",\"Data Scientist\",\"Designer\",\"Project Manager\",\"Software Engineer\",\"Project Manager\",\"Project Manager\",\"Sales\",\"Marketing\",\"Marketing\",\"Marketing\",\"Project Manager\",\"Software Engineer\",\"Data Scientist\",\"Data Scientist\",\"Data Scientist\",\"Data Scientist\",\"Designer\",\"Software Engineer\",\"Sales\",\"HR\",\"Data Scientist\",\"Data Scientist\",\"Project Manager\",\"Project Manager\",\"Software Engineer\",\"Designer\",\"Project Manager\",\"Project Manager\",\"Data Scientist\",\"Marketing\",\"Project Manager\",\"Marketing\",\"Project Manager\",\"Designer\",\"Sales\",\"Designer\",\"Marketing\",\"Designer\",\"Project Manager\",\"HR\",\"Marketing\",\"Marketing\",\"Software Engineer\",\"Data Scientist\",\"Project Manager\",\"Designer\",\"Project Manager\",\"Designer\",\"Designer\",\"Project Manager\",\"Software Engineer\",\"Project Manager\",\"Software Engineer\",\"Project Manager\",\"Data Scientist\",\"Sales\",\"HR\",\"HR\",\"Data Scientist\",\"HR\",\"HR\",\"Software Engineer\",\"Data Scientist\",\"Designer\",\"Sales\",\"Sales\",\"Designer\",\"HR\",\"Sales\",\"HR\",\"Designer\",\"Sales\",\"Sales\",\"Designer\",\"Sales\",\"Marketing\",\"Designer\",\"Sales\",\"Data Scientist\",\"Marketing\",\"Software Engineer\",\"Data Scientist\",\"Data Scientist\",\"Marketing\",\"Project Manager\",\"Sales\",\"Software Engineer\",\"Marketing\",\"Sales\",\"Project Manager\",\"Project Manager\",\"Marketing\",\"HR\",\"Data Scientist\",\"Sales\",\"Sales\",\"Data Scientist\",\"Project Manager\",\"Project Manager\",\"Project Manager\",\"Project Manager\",\"Software Engineer\",\"HR\",\"Designer\",\"Data Scientist\",\"Software Engineer\",\"Project Manager\",\"Sales\",\"HR\",\"Marketing\",\"Software Engineer\",\"HR\",\"HR\",\"HR\",\"HR\",\"Designer\",\"Software Engineer\",\"Software Engineer\",\"Marketing\",\"Data Scientist\",\"Data Scientist\",\"HR\",\"Software Engineer\",\"Marketing\",\"Data Scientist\",\"Software Engineer\",\"Designer\",\"Software Engineer\",\"HR\",\"Designer\",\"Marketing\",\"Data Scientist\",\"HR\",\"Designer\",\"Sales\",\"Project Manager\",\"Project Manager\",\"Data Scientist\",\"Software Engineer\",\"Data Scientist\",\"Software Engineer\",\"HR\",\"Marketing\",\"Project Manager\",\"Sales\",\"Designer\",\"Project Manager\",\"Sales\",\"Software Engineer\",\"Marketing\",\"Designer\",\"HR\",\"Sales\",\"Project Manager\",\"Sales\",\"Marketing\",\"HR\",\"Designer\",\"Data Scientist\",\"Project Manager\",\"HR\",\"Sales\",\"Data Scientist\",\"HR\",\"Data Scientist\",\"Project Manager\",\"Software Engineer\",\"Software Engineer\",\"Data Scientist\",\"Project Manager\",\"Software Engineer\",\"Data Scientist\",\"HR\",\"Designer\",\"Designer\",\"Data Scientist\",\"Project Manager\",\"Software Engineer\",\"Sales\",\"Software Engineer\",\"Project Manager\",\"Sales\",\"Project Manager\",\"HR\",\"Software Engineer\",\"Project Manager\",\"Data Scientist\",\"Software Engineer\",\"Sales\",\"Software Engineer\",\"Designer\",\"HR\",\"Sales\",\"Data Scientist\",\"Software Engineer\",\"Software Engineer\",\"HR\",\"Marketing\",\"Project Manager\",\"HR\",\"Software Engineer\",\"Marketing\",\"Project Manager\",\"HR\",\"HR\",\"Sales\",\"Marketing\",\"Sales\",\"HR\",\"Data Scientist\",\"Software Engineer\",\"Data Scientist\",\"HR\",\"Sales\",\"Project Manager\",\"HR\",\"Marketing\",\"Software Engineer\",\"Designer\",\"Data Scientist\",\"Project Manager\",\"Designer\",\"Marketing\",\"Sales\",\"Marketing\",\"Designer\",\"Marketing\",\"Sales\",\"Sales\",\"Designer\",\"Marketing\",\"Project Manager\",\"Marketing\",\"Software Engineer\",\"Data Scientist\",\"Marketing\",\"Designer\",\"Marketing\",\"Project Manager\",\"Sales\",\"Designer\",\"Sales\",\"Marketing\",\"HR\",\"Marketing\",\"Software Engineer\",\"Marketing\",\"Sales\",\"Data Scientist\",\"Sales\",\"Software Engineer\",\"Marketing\",\"Data Scientist\",\"Marketing\",\"Marketing\",\"Software Engineer\",\"Software Engineer\",\"HR\",\"Marketing\",\"Marketing\",\"Data Scientist\",\"HR\",\"Marketing\",\"Data Scientist\",\"Marketing\",\"Designer\",\"Software Engineer\",\"HR\",\"Data Scientist\",\"Project Manager\",\"Designer\",\"Sales\",\"Data Scientist\",\"Designer\",\"Data Scientist\",\"Marketing\",\"HR\",\"Project Manager\",\"Data Scientist\",\"Marketing\",\"Sales\",\"Sales\",\"Designer\",\"HR\",\"Sales\",\"HR\",\"Software Engineer\",\"Software Engineer\",\"Data Scientist\",\"Software Engineer\",\"Designer\",\"Marketing\",\"Software Engineer\",\"Software Engineer\",\"Sales\",\"Software Engineer\",\"Designer\",\"Marketing\",\"Data Scientist\",\"Project Manager\",\"HR\",\"Software Engineer\",\"Sales\",\"HR\",\"HR\",\"HR\",\"HR\",\"Software Engineer\",\"Designer\",\"HR\",\"Marketing\",\"HR\",\"HR\",\"Data Scientist\",\"Project Manager\",\"Marketing\",\"HR\",\"Marketing\",\"Software Engineer\",\"Sales\",\"Software Engineer\",\"HR\",\"Software Engineer\",\"Sales\",\"Designer\",\"Project Manager\",\"Project Manager\",\"HR\",\"Sales\",\"HR\",\"Marketing\",\"Data Scientist\",\"HR\",\"Software Engineer\",\"Designer\",\"Software Engineer\",\"Data Scientist\",\"Designer\",\"Project Manager\",\"Data Scientist\",\"Project Manager\",\"Designer\",\"Designer\",\"Sales\",\"Software Engineer\",\"HR\",\"Designer\",\"Designer\",\"Designer\",\"Sales\",\"HR\",\"Software Engineer\",\"Data Scientist\",\"Sales\",\"Project Manager\",\"Marketing\",\"Marketing\",\"Project Manager\",\"Software Engineer\",\"Designer\",\"Designer\",\"HR\",\"Designer\",\"HR\",\"Sales\",\"Marketing\",\"Sales\",\"Sales\",\"HR\",\"Data Scientist\",\"Designer\",\"Marketing\",\"Sales\",\"HR\",\"Software Engineer\",\"Designer\",\"Designer\",\"Sales\",\"Designer\",\"Project Manager\",\"HR\",\"Software Engineer\",\"Sales\",\"Marketing\",\"Data Scientist\",\"Designer\",\"Data Scientist\",\"Sales\",\"Data Scientist\",\"Marketing\",\"Designer\",\"Marketing\",\"Sales\",\"Data Scientist\",\"Project Manager\",\"Software Engineer\",\"Sales\",\"Software Engineer\",\"HR\",\"Software Engineer\",\"Sales\",\"Data Scientist\",\"HR\",\"Marketing\",\"HR\",\"Designer\",\"Sales\",\"Software Engineer\",\"Marketing\",\"HR\",\"Marketing\",\"Marketing\",\"Software Engineer\",\"Designer\",\"Designer\",\"HR\",\"HR\",\"Data Scientist\",\"HR\",\"Sales\",\"HR\",\"Sales\",\"Project Manager\",\"Sales\",\"Designer\",\"Project Manager\",\"Project Manager\",\"Software Engineer\",\"Designer\",\"Project Manager\",\"HR\",\"Project Manager\",\"Software Engineer\",\"HR\",\"Marketing\",\"Data Scientist\",\"Data Scientist\",\"Project Manager\",\"HR\",\"Marketing\",\"Software Engineer\",\"Sales\",\"Designer\",\"Data Scientist\",\"Software Engineer\",\"Designer\",\"Sales\",\"Marketing\",\"Data Scientist\",\"Sales\",\"Designer\",\"Data Scientist\",\"Data Scientist\",\"Sales\",\"Project Manager\",\"Data Scientist\",\"Sales\",\"Marketing\",\"Data Scientist\",\"HR\",\"Project Manager\",\"Software Engineer\",\"Sales\",\"HR\",\"Project Manager\",\"HR\",\"Software Engineer\",\"HR\",\"Designer\",\"Data Scientist\",\"Project Manager\",\"Designer\",\"Sales\",\"Sales\",\"Marketing\",\"HR\",\"Software Engineer\",\"Data Scientist\",\"Software Engineer\",\"Data Scientist\",\"HR\",\"Software Engineer\",\"Data Scientist\",\"Marketing\",\"Software Engineer\",\"HR\",\"Data Scientist\",\"Software Engineer\",\"Designer\",\"Designer\",\"HR\",\"Software Engineer\",\"Designer\",\"Designer\",\"Sales\",\"Project Manager\",\"Data Scientist\",\"HR\",\"HR\",\"HR\",\"Sales\",\"Project Manager\",\"HR\",\"HR\",\"HR\",\"Marketing\",\"Sales\",\"Project Manager\",\"Project Manager\",\"Project Manager\",\"Designer\",\"Sales\",\"Marketing\",\"Project Manager\",\"Designer\",\"Designer\",\"Marketing\",\"Marketing\",\"Designer\",\"HR\",\"HR\",\"Marketing\",\"Designer\",\"Designer\",\"Designer\",\"Designer\",\"Designer\",\"Sales\",\"HR\",\"Sales\",\"Marketing\",\"Software Engineer\",\"HR\",\"Data Scientist\",\"Sales\",\"HR\",\"HR\",\"Marketing\",\"Software Engineer\",\"Project Manager\",\"HR\",\"Marketing\",\"Designer\",\"Designer\",\"HR\",\"Data Scientist\",\"Marketing\",\"Project Manager\",\"HR\",\"Software Engineer\",\"Data Scientist\",\"HR\",\"Software Engineer\",\"HR\",\"Software Engineer\",\"Marketing\",\"Project Manager\",\"Designer\",\"Sales\",\"Data Scientist\",\"Marketing\",\"Software Engineer\",\"Sales\",\"Marketing\",\"HR\",\"Project Manager\",\"Sales\",\"Data Scientist\",\"Designer\",\"Marketing\",\"Project Manager\",\"Data Scientist\",\"Data Scientist\",\"Sales\",\"Sales\",\"Designer\",\"HR\",\"Data Scientist\",\"Project Manager\",\"Sales\",\"Project Manager\",\"Marketing\",\"Marketing\",\"Designer\",\"Project Manager\",\"Sales\",\"Project Manager\",\"Marketing\",\"Software Engineer\",\"Data Scientist\",\"Designer\",\"Designer\",\"Data Scientist\",\"Project Manager\",\"HR\",\"Sales\",\"Designer\",\"Project Manager\",\"Marketing\",\"Project Manager\",\"Project Manager\",\"Data Scientist\",\"Data Scientist\",\"Marketing\",\"Project Manager\",\"Project Manager\",\"HR\",\"Project Manager\",\"Designer\",\"HR\",\"Software Engineer\",\"Sales\",\"Data Scientist\",\"Project Manager\",\"Designer\",\"HR\",\"Project Manager\",\"HR\",\"Data Scientist\",\"Designer\",\"Data Scientist\",\"Project Manager\",\"Data Scientist\",\"Designer\",\"Marketing\",\"Designer\",\"Software Engineer\",\"Project Manager\",\"Marketing\",\"Marketing\",\"Project Manager\",\"Project Manager\",\"Software Engineer\",\"Project Manager\",\"Project Manager\",\"Project Manager\",\"Software Engineer\",\"Software Engineer\",\"Designer\",\"Data Scientist\",\"Software Engineer\",\"Sales\",\"Designer\",\"Designer\",\"Data Scientist\",\"HR\",\"Sales\",\"Data Scientist\",\"Data Scientist\",\"Marketing\",\"Data Scientist\",\"HR\",\"Data Scientist\",\"Project Manager\",\"Marketing\",\"Marketing\",\"Designer\",\"Project Manager\",\"HR\",\"Designer\",\"Data Scientist\",\"Software Engineer\",\"Data Scientist\",\"Data Scientist\",\"Project Manager\",\"Software Engineer\",\"Data Scientist\",\"Designer\",\"Marketing\",\"HR\",\"Data Scientist\",\"Sales\",\"Data Scientist\",\"Sales\",\"Software Engineer\",\"Data Scientist\",\"Designer\",\"Designer\",\"Software Engineer\",\"Data Scientist\",\"Software Engineer\",\"HR\",\"Designer\",\"Software Engineer\",\"Sales\",\"Sales\",\"Designer\",\"Data Scientist\",\"HR\",\"Data Scientist\",\"Marketing\",\"Marketing\",\"Marketing\",\"Project Manager\",\"Project Manager\",\"Sales\",\"Marketing\",\"Project Manager\",\"Software Engineer\",\"Designer\",\"Project Manager\",\"Data Scientist\",\"Software Engineer\",\"Designer\",\"Marketing\",\"Data Scientist\",\"Project Manager\",\"Designer\",\"Project Manager\",\"Project Manager\",\"Designer\",\"Designer\",\"Marketing\",\"Project Manager\",\"Project Manager\",\"Marketing\",\"Marketing\",\"Sales\",\"Designer\",\"Project Manager\",\"Data Scientist\",\"Project Manager\",\"Designer\",\"Sales\",\"Sales\",\"Project Manager\",\"Data Scientist\",\"Sales\",\"HR\",\"Designer\",\"HR\",\"HR\",\"Project Manager\",\"Sales\",\"Marketing\",\"HR\",\"HR\",\"HR\",\"Sales\",\"HR\",\"Sales\",\"Project Manager\",\"Sales\",\"Project Manager\",\"Project Manager\",\"Software Engineer\",\"Project Manager\",\"Project Manager\",\"Designer\",\"Software Engineer\",\"Sales\",\"Project Manager\",\"Marketing\",\"Project Manager\",\"Software Engineer\",\"Project Manager\",\"Designer\",\"Designer\",\"Software Engineer\",\"Project Manager\",\"Software Engineer\",\"Designer\",\"Data Scientist\",\"Data Scientist\",\"Software Engineer\",\"Data Scientist\",\"Software Engineer\",\"Sales\",\"HR\",\"HR\",\"HR\",\"Data Scientist\",\"Marketing\",\"Sales\",\"Designer\",\"Designer\",\"Software Engineer\",\"Sales\",\"HR\",\"Sales\",\"Software Engineer\",\"Data Scientist\",\"Sales\",\"Marketing\",\"HR\",\"Marketing\",\"Software Engineer\",\"HR\",\"Data Scientist\",\"Software Engineer\",\"Data Scientist\",\"Designer\",\"Marketing\",\"Sales\",\"Software Engineer\",\"Marketing\",\"HR\",\"Project Manager\",\"Marketing\",\"HR\",\"Software Engineer\",\"HR\",\"HR\",\"HR\",\"Sales\",\"Software Engineer\",\"Software Engineer\",\"Marketing\",\"Project Manager\",\"HR\",\"HR\",\"Sales\",\"Data Scientist\",\"Sales\",\"HR\",\"Sales\",\"HR\",\"Software Engineer\",\"Sales\",\"Software Engineer\",\"Project Manager\",\"Software Engineer\",\"Data Scientist\",\"HR\",\"Project Manager\",\"Sales\",\"Data Scientist\",\"Data Scientist\",\"Project Manager\",\"Designer\",\"Designer\",\"HR\",\"Project Manager\",\"Data Scientist\",\"Software Engineer\",\"HR\",\"HR\",\"Software Engineer\",\"Designer\",\"Data Scientist\",\"Project Manager\",\"Project Manager\",\"Software Engineer\",\"Marketing\",\"Software Engineer\",\"Software Engineer\",\"Sales\",\"Marketing\",\"Marketing\",\"Project Manager\",\"Marketing\",\"Marketing\",\"Project Manager\",\"Software Engineer\",\"Software Engineer\",\"Data Scientist\",\"Project Manager\",\"Data Scientist\",\"Project Manager\",\"Marketing\",\"Designer\",\"Software Engineer\",\"Software Engineer\",\"HR\",\"Sales\",\"Marketing\",\"Data Scientist\",\"Software Engineer\",\"Data Scientist\",\"Marketing\",\"Data Scientist\",\"Marketing\",\"Software Engineer\",\"HR\",\"Sales\",\"HR\",\"Project Manager\",\"Data Scientist\",\"Software Engineer\",\"Software Engineer\",\"Data Scientist\",\"Project Manager\",\"Sales\",\"Sales\",\"Project Manager\",\"Marketing\",\"Data Scientist\",\"HR\",\"Software Engineer\",\"Project Manager\",\"HR\",\"Sales\",\"Software Engineer\",\"Sales\",\"Data Scientist\",\"HR\",\"Designer\",\"Software Engineer\",\"Project Manager\",\"Sales\",\"Project Manager\",\"HR\",\"Software Engineer\",\"Marketing\",\"HR\",\"Project Manager\",\"Marketing\",\"HR\",\"Data Scientist\",\"HR\",\"Designer\",\"Project Manager\",\"Data Scientist\",\"Designer\",\"Software Engineer\",\"Sales\",\"Sales\",\"Project Manager\",\"Project Manager\",\"Marketing\",\"Sales\",\"Software Engineer\",\"Data Scientist\",\"Data Scientist\",\"Software Engineer\",\"HR\",\"HR\",\"Marketing\",\"Designer\",\"HR\",\"Designer\",\"Data Scientist\",\"Data Scientist\",\"Project Manager\",\"Sales\",\"Sales\",\"Project Manager\",\"HR\",\"HR\",\"Data Scientist\",\"Designer\",\"Project Manager\",\"Software Engineer\",\"Project Manager\",\"Marketing\",\"Data Scientist\",\"Designer\",\"Sales\",\"Designer\",\"HR\",\"Project Manager\",\"Software Engineer\",\"Marketing\",\"Software Engineer\",\"Software Engineer\",\"Designer\",\"Marketing\",\"Data Scientist\",\"Project Manager\",\"Data Scientist\",\"Project Manager\",\"Data Scientist\",\"Designer\",\"Project Manager\",\"Designer\",\"HR\",\"Designer\",\"Marketing\",\"Project Manager\",\"HR\",\"Marketing\",\"HR\",\"Data Scientist\",\"Marketing\",\"Data Scientist\",\"Marketing\",\"Data Scientist\",\"Sales\",\"HR\",\"Sales\",\"HR\",\"Sales\",\"Sales\",\"Designer\",\"Sales\",\"HR\",\"Marketing\",\"Marketing\",\"Designer\",\"Data Scientist\",\"Sales\",\"Project Manager\",\"Project Manager\",\"HR\",\"Designer\",\"Software Engineer\",\"Marketing\",\"Designer\",\"Marketing\",\"HR\",\"HR\",\"Software Engineer\",\"Marketing\",\"Project Manager\",\"Designer\",\"Software Engineer\",\"Project Manager\",\"Marketing\",\"Marketing\",\"Data Scientist\",\"Project Manager\",\"Data Scientist\",\"Sales\",\"Sales\",\"Sales\",\"HR\",\"Sales\",\"HR\",\"Designer\",\"Software Engineer\",\"Sales\",\"Project Manager\",\"Marketing\",\"HR\",\"Sales\",\"Project Manager\",\"Designer\",\"Designer\",\"Sales\",\"Software Engineer\",\"HR\",\"Designer\",\"Marketing\",\"HR\",\"Project Manager\",\"Designer\",\"Software Engineer\",\"HR\",\"Software Engineer\",\"Software Engineer\",\"Sales\",\"Project Manager\",\"Designer\",\"HR\",\"Data Scientist\",\"HR\",\"Marketing\",\"Sales\",\"Project Manager\",\"Sales\",\"Software Engineer\",\"HR\",\"Data Scientist\",\"Data Scientist\",\"Software Engineer\",\"Project Manager\",\"Sales\",\"Designer\",\"Marketing\",\"Marketing\",\"HR\",\"Project Manager\",\"Designer\",\"HR\",\"Data Scientist\",\"Project Manager\",\"Data Scientist\",\"Data Scientist\",\"Designer\",\"Software Engineer\",\"Software Engineer\",\"Designer\",\"Designer\",\"Sales\",\"Data Scientist\",\"Sales\",\"Marketing\",\"Marketing\",\"Data Scientist\",\"Marketing\",\"Project Manager\",\"Marketing\",\"Project Manager\",\"Designer\",\"Sales\",\"Sales\",\"Data Scientist\",\"Sales\",\"Designer\",\"Data Scientist\",\"Project Manager\",\"Sales\",\"Sales\",\"Software Engineer\",\"Marketing\",\"HR\",\"Designer\",\"Data Scientist\",\"Software Engineer\",\"HR\",\"Marketing\",\"HR\",\"Project Manager\",\"Data Scientist\",\"Marketing\",\"Software Engineer\",\"HR\",\"Sales\",\"Project Manager\",\"HR\",\"Data Scientist\",\"Project Manager\",\"Designer\",\"Project Manager\",\"Software Engineer\",\"Project Manager\",\"Designer\",\"Software Engineer\",\"Data Scientist\",\"Software Engineer\",\"Designer\",\"Data Scientist\",\"Software Engineer\",\"Software Engineer\",\"Data Scientist\",\"Project Manager\",\"Data Scientist\",\"Marketing\",\"Data Scientist\",\"Marketing\",\"Sales\",\"Software Engineer\",\"Designer\",\"Project Manager\",\"Data Scientist\",\"Marketing\",\"Software Engineer\",\"Marketing\",\"Designer\",\"Designer\",\"Data Scientist\",\"Sales\",\"Designer\",\"Sales\",\"Designer\",\"HR\",\"Marketing\",\"Designer\",\"HR\",\"Sales\",\"Data Scientist\",\"Software Engineer\",\"Project Manager\",\"Sales\",\"Designer\",\"Software Engineer\",\"Marketing\",\"Data Scientist\",\"Project Manager\",\"Data Scientist\",\"Designer\",\"Marketing\",\"HR\",\"Marketing\",\"Marketing\",\"HR\",\"Data Scientist\",\"Data Scientist\",\"Project Manager\",\"Designer\",\"Software Engineer\",\"HR\",\"Project Manager\",\"Sales\",\"Sales\",\"Marketing\",\"Software Engineer\",\"Marketing\",\"Designer\",\"Designer\",\"HR\",\"HR\",\"Project Manager\",\"Sales\",\"HR\",\"Software Engineer\",\"Data Scientist\",\"HR\",\"Data Scientist\",\"Project Manager\",\"Marketing\",\"Sales\",\"Sales\",\"Data Scientist\",\"Project Manager\",\"Software Engineer\",\"Designer\",\"Marketing\",\"Data Scientist\",\"Designer\",\"Designer\",\"Data Scientist\",\"Designer\",\"Data Scientist\",\"Marketing\",\"Marketing\",\"Data Scientist\",\"HR\",\"Marketing\",\"Data Scientist\",\"Software Engineer\",\"Designer\",\"Software Engineer\",\"Software Engineer\",\"HR\",\"Designer\",\"Project Manager\",\"HR\",\"HR\",\"Project Manager\",\"Software Engineer\",\"HR\",\"Data Scientist\",\"Project Manager\",\"Data Scientist\",\"HR\",\"Sales\",\"Sales\",\"Project Manager\",\"HR\",\"Data Scientist\",\"Project Manager\",\"Data Scientist\",\"Project Manager\",\"Project Manager\",\"HR\",\"Software Engineer\",\"Marketing\",\"Software Engineer\",\"Project Manager\",\"HR\",\"Marketing\",\"Data Scientist\",\"Designer\",\"Marketing\",\"Software Engineer\",\"HR\",\"Software Engineer\",\"Software Engineer\",\"Project Manager\",\"HR\",\"Sales\",\"HR\",\"Project Manager\",\"HR\",\"Data Scientist\",\"Software Engineer\",\"Data Scientist\",\"Project Manager\",\"Designer\",\"Marketing\",\"Software Engineer\",\"HR\",\"Sales\",\"HR\",\"Project Manager\",\"Sales\",\"Project Manager\",\"Project Manager\",\"Sales\",\"Sales\",\"Data Scientist\",\"Data Scientist\",\"Project Manager\",\"HR\",\"Designer\",\"Project Manager\",\"Data Scientist\",\"Sales\",\"Designer\",\"HR\",\"Project Manager\",\"HR\",\"Marketing\",\"Sales\",\"Software Engineer\",\"Designer\",\"Project Manager\",\"HR\",\"Designer\",\"Data Scientist\",\"Data Scientist\",\"HR\",\"Marketing\",\"Data Scientist\",\"Project Manager\",\"HR\",\"Software Engineer\",\"Sales\",\"Data Scientist\",\"Sales\",\"Sales\"],\"yaxis\":\"y\",\"type\":\"bar\"},{\"alignmentgroup\":\"True\",\"hovertemplate\":\"Work_Location=Onsite\\u003cbr\\u003eNumber of people=%{x}\\u003cbr\\u003eJob Role=%{y}\\u003cextra\\u003e\\u003c\\u002fextra\\u003e\",\"legendgroup\":\"Onsite\",\"marker\":{\"color\":\"#00cc96\",\"pattern\":{\"shape\":\"\"}},\"name\":\"Onsite\",\"offsetgroup\":\"Onsite\",\"orientation\":\"h\",\"showlegend\":true,\"textposition\":\"auto\",\"x\":[1,1,1,1,1,1,1,1,1,1,1,1,1,1,1,1,1,1,1,1,1,1,1,1,1,1,1,1,1,1,1,1,1,1,1,1,1,1,1,1,1,1,1,1,1,1,1,1,1,1,1,1,1,1,1,1,1,1,1,1,1,1,1,1,1,1,1,1,1,1,1,1,1,1,1,1,1,1,1,1,1,1,1,1,1,1,1,1,1,1,1,1,1,1,1,1,1,1,1,1,1,1,1,1,1,1,1,1,1,1,1,1,1,1,1,1,1,1,1,1,1,1,1,1,1,1,1,1,1,1,1,1,1,1,1,1,1,1,1,1,1,1,1,1,1,1,1,1,1,1,1,1,1,1,1,1,1,1,1,1,1,1,1,1,1,1,1,1,1,1,1,1,1,1,1,1,1,1,1,1,1,1,1,1,1,1,1,1,1,1,1,1,1,1,1,1,1,1,1,1,1,1,1,1,1,1,1,1,1,1,1,1,1,1,1,1,1,1,1,1,1,1,1,1,1,1,1,1,1,1,1,1,1,1,1,1,1,1,1,1,1,1,1,1,1,1,1,1,1,1,1,1,1,1,1,1,1,1,1,1,1,1,1,1,1,1,1,1,1,1,1,1,1,1,1,1,1,1,1,1,1,1,1,1,1,1,1,1,1,1,1,1,1,1,1,1,1,1,1,1,1,1,1,1,1,1,1,1,1,1,1,1,1,1,1,1,1,1,1,1,1,1,1,1,1,1,1,1,1,1,1,1,1,1,1,1,1,1,1,1,1,1,1,1,1,1,1,1,1,1,1,1,1,1,1,1,1,1,1,1,1,1,1,1,1,1,1,1,1,1,1,1,1,1,1,1,1,1,1,1,1,1,1,1,1,1,1,1,1,1,1,1,1,1,1,1,1,1,1,1,1,1,1,1,1,1,1,1,1,1,1,1,1,1,1,1,1,1,1,1,1,1,1,1,1,1,1,1,1,1,1,1,1,1,1,1,1,1,1,1,1,1,1,1,1,1,1,1,1,1,1,1,1,1,1,1,1,1,1,1,1,1,1,1,1,1,1,1,1,1,1,1,1,1,1,1,1,1,1,1,1,1,1,1,1,1,1,1,1,1,1,1,1,1,1,1,1,1,1,1,1,1,1,1,1,1,1,1,1,1,1,1,1,1,1,1,1,1,1,1,1,1,1,1,1,1,1,1,1,1,1,1,1,1,1,1,1,1,1,1,1,1,1,1,1,1,1,1,1,1,1,1,1,1,1,1,1,1,1,1,1,1,1,1,1,1,1,1,1,1,1,1,1,1,1,1,1,1,1,1,1,1,1,1,1,1,1,1,1,1,1,1,1,1,1,1,1,1,1,1,1,1,1,1,1,1,1,1,1,1,1,1,1,1,1,1,1,1,1,1,1,1,1,1,1,1,1,1,1,1,1,1,1,1,1,1,1,1,1,1,1,1,1,1,1,1,1,1,1,1,1,1,1,1,1,1,1,1,1,1,1,1,1,1,1,1,1,1,1,1,1,1,1,1,1,1,1,1,1,1,1,1,1,1,1,1,1,1,1,1,1,1,1,1,1,1,1,1,1,1,1,1,1,1,1,1,1,1,1,1,1,1,1,1,1,1,1,1,1,1,1,1,1,1,1,1,1,1,1,1,1,1,1,1,1,1,1,1,1,1,1,1,1,1,1,1,1,1,1,1,1,1,1,1,1,1,1,1,1,1,1,1,1,1,1,1,1,1,1,1,1,1,1,1,1,1,1,1,1,1,1,1,1,1,1,1,1,1,1,1,1,1,1,1,1,1,1,1,1,1,1,1,1,1,1,1,1,1,1,1,1,1,1,1,1,1,1,1,1,1,1,1,1,1,1,1,1,1,1,1,1,1,1,1,1,1,1,1,1,1,1,1,1,1,1,1,1,1,1,1,1,1,1,1,1,1,1,1,1,1,1,1,1,1,1,1,1,1,1,1,1,1,1,1,1,1,1,1,1,1,1,1,1,1,1,1,1,1,1,1,1,1,1,1,1,1,1,1,1,1,1,1,1,1,1,1,1,1,1,1,1,1,1,1,1,1,1,1,1,1,1,1,1,1,1,1,1,1,1,1,1,1,1,1,1,1,1,1,1,1,1,1,1,1,1,1,1,1,1,1,1,1,1,1,1,1,1,1,1,1,1,1,1,1,1,1,1,1,1,1,1,1,1,1,1,1,1,1,1,1,1,1,1,1,1,1,1,1,1,1,1,1,1,1,1,1,1,1,1,1,1,1,1,1,1,1,1,1,1,1,1,1,1,1,1,1,1,1,1,1,1,1,1,1,1,1,1,1,1,1,1,1,1,1,1,1,1,1,1,1,1,1,1,1,1,1,1,1,1,1,1,1,1,1,1,1,1,1,1,1,1,1,1,1,1,1,1,1,1,1,1,1,1,1,1,1,1,1,1,1,1,1,1,1,1,1,1,1,1,1,1,1,1,1,1,1,1,1,1,1,1,1,1,1,1,1,1,1,1,1,1,1,1,1,1,1,1,1,1,1,1,1,1,1,1,1,1,1,1,1,1,1,1,1,1,1,1,1,1,1,1,1,1,1,1,1,1,1,1,1,1,1,1,1,1,1,1,1,1,1,1,1,1,1,1,1,1,1,1,1,1,1,1,1,1,1,1,1,1,1,1,1,1,1,1,1,1,1,1,1,1,1,1,1,1,1,1,1,1,1,1,1,1,1,1,1,1,1,1,1,1,1,1,1,1,1,1,1,1,1,1,1,1,1,1,1,1,1,1,1,1,1,1,1,1,1,1,1,1,1,1,1,1,1,1,1,1,1,1,1,1,1,1,1,1,1,1,1,1,1,1,1,1,1,1,1,1,1,1,1,1,1,1,1,1,1,1,1,1,1,1,1,1,1,1,1,1,1,1,1,1,1,1,1,1,1,1,1,1,1,1,1,1,1,1,1,1,1,1,1,1,1,1,1,1,1,1,1,1,1,1,1,1,1,1,1,1,1,1,1,1,1,1,1,1,1,1,1,1,1,1,1,1,1,1,1,1,1,1,1,1,1,1,1,1,1,1,1,1,1,1,1,1,1,1,1,1,1,1,1,1,1,1,1,1,1,1,1,1,1,1,1,1,1,1,1,1,1,1,1,1,1,1,1,1,1,1,1,1,1,1,1,1,1,1,1,1,1,1,1,1,1,1,1,1,1,1,1,1,1,1,1,1,1,1,1,1,1,1,1,1,1,1,1,1,1,1,1,1,1,1,1,1,1,1,1,1,1,1,1,1,1,1,1,1,1,1,1,1,1,1,1,1,1,1,1,1,1,1,1,1,1,1,1,1,1,1,1,1,1,1,1,1,1,1,1,1,1,1,1,1,1,1,1,1,1,1,1,1,1,1,1,1,1,1,1,1,1,1,1,1,1,1,1,1,1,1,1,1,1,1,1,1,1,1,1,1,1,1,1,1,1,1,1,1,1,1,1,1,1,1,1,1,1,1,1,1,1,1,1,1,1,1,1,1,1,1,1,1,1,1,1,1,1,1,1,1,1,1,1,1,1,1,1,1,1,1,1,1,1,1,1,1,1,1,1,1,1,1,1,1,1,1,1,1,1,1,1,1,1,1,1,1,1,1,1,1,1,1,1,1,1,1,1,1,1,1,1,1,1,1,1,1,1,1,1,1,1,1,1,1,1,1,1,1,1,1],\"xaxis\":\"x\",\"y\":[\"Software Engineer\",\"Sales\",\"Data Scientist\",\"HR\",\"Data Scientist\",\"Sales\",\"Sales\",\"Marketing\",\"Project Manager\",\"Project Manager\",\"Project Manager\",\"Sales\",\"Data Scientist\",\"Sales\",\"Sales\",\"Project Manager\",\"HR\",\"Project Manager\",\"HR\",\"Software Engineer\",\"Project Manager\",\"HR\",\"Software Engineer\",\"Designer\",\"Marketing\",\"Designer\",\"Project Manager\",\"Marketing\",\"HR\",\"Software Engineer\",\"Project Manager\",\"Data Scientist\",\"Software Engineer\",\"Data Scientist\",\"Project Manager\",\"Data Scientist\",\"Designer\",\"Data Scientist\",\"HR\",\"Data Scientist\",\"Marketing\",\"Project Manager\",\"Project Manager\",\"Software Engineer\",\"Sales\",\"Marketing\",\"Designer\",\"Marketing\",\"Project Manager\",\"Designer\",\"Designer\",\"Designer\",\"Project Manager\",\"Designer\",\"Software Engineer\",\"Software Engineer\",\"Software Engineer\",\"Data Scientist\",\"HR\",\"Project Manager\",\"Designer\",\"Data Scientist\",\"Software Engineer\",\"Software Engineer\",\"Sales\",\"Data Scientist\",\"Designer\",\"Software Engineer\",\"Data Scientist\",\"Project Manager\",\"Project Manager\",\"Marketing\",\"Software Engineer\",\"HR\",\"Data Scientist\",\"Software Engineer\",\"Software Engineer\",\"Project Manager\",\"Marketing\",\"Marketing\",\"Marketing\",\"Marketing\",\"HR\",\"Sales\",\"Software Engineer\",\"Project Manager\",\"Marketing\",\"Software Engineer\",\"Project Manager\",\"Sales\",\"Sales\",\"HR\",\"Marketing\",\"HR\",\"Sales\",\"Designer\",\"Designer\",\"Project Manager\",\"Designer\",\"Data Scientist\",\"Software Engineer\",\"Designer\",\"Data Scientist\",\"Sales\",\"HR\",\"Marketing\",\"Project Manager\",\"Marketing\",\"Marketing\",\"Designer\",\"HR\",\"Sales\",\"Software Engineer\",\"Marketing\",\"Software Engineer\",\"Designer\",\"Project Manager\",\"Sales\",\"HR\",\"HR\",\"Software Engineer\",\"Sales\",\"Designer\",\"Project Manager\",\"Marketing\",\"Data Scientist\",\"Marketing\",\"Sales\",\"Software Engineer\",\"HR\",\"Sales\",\"Data Scientist\",\"Project Manager\",\"Sales\",\"Project Manager\",\"Data Scientist\",\"HR\",\"Software Engineer\",\"Sales\",\"Data Scientist\",\"Project Manager\",\"Sales\",\"Software Engineer\",\"Designer\",\"Project Manager\",\"Data Scientist\",\"HR\",\"Marketing\",\"Sales\",\"Marketing\",\"Sales\",\"Project Manager\",\"Marketing\",\"Sales\",\"Project Manager\",\"Software Engineer\",\"Designer\",\"Designer\",\"Project Manager\",\"Designer\",\"Software Engineer\",\"Project Manager\",\"Data Scientist\",\"HR\",\"Marketing\",\"Data Scientist\",\"Software Engineer\",\"Designer\",\"Project Manager\",\"Marketing\",\"Software Engineer\",\"Designer\",\"Sales\",\"Marketing\",\"Software Engineer\",\"Project Manager\",\"Designer\",\"HR\",\"Designer\",\"HR\",\"Project Manager\",\"Designer\",\"Software Engineer\",\"Marketing\",\"Sales\",\"Marketing\",\"Project Manager\",\"Sales\",\"Marketing\",\"Software Engineer\",\"HR\",\"Software Engineer\",\"Project Manager\",\"Marketing\",\"Software Engineer\",\"Designer\",\"Marketing\",\"Project Manager\",\"Designer\",\"Designer\",\"Sales\",\"HR\",\"Software Engineer\",\"Software Engineer\",\"Marketing\",\"Project Manager\",\"Sales\",\"HR\",\"Data Scientist\",\"Sales\",\"Sales\",\"Sales\",\"Marketing\",\"Marketing\",\"HR\",\"Designer\",\"Designer\",\"HR\",\"Project Manager\",\"Designer\",\"Project Manager\",\"HR\",\"Designer\",\"Software Engineer\",\"Data Scientist\",\"Software Engineer\",\"Data Scientist\",\"Project Manager\",\"Software Engineer\",\"Software Engineer\",\"HR\",\"HR\",\"Sales\",\"Software Engineer\",\"Data Scientist\",\"Software Engineer\",\"Marketing\",\"Marketing\",\"Marketing\",\"Project Manager\",\"Marketing\",\"HR\",\"Data Scientist\",\"HR\",\"Designer\",\"Data Scientist\",\"Sales\",\"Software Engineer\",\"Data Scientist\",\"Marketing\",\"Sales\",\"Data Scientist\",\"Project Manager\",\"Software Engineer\",\"Project Manager\",\"Sales\",\"Marketing\",\"HR\",\"Designer\",\"Sales\",\"Sales\",\"Marketing\",\"HR\",\"Sales\",\"HR\",\"Sales\",\"Designer\",\"Project Manager\",\"Designer\",\"HR\",\"HR\",\"Data Scientist\",\"Data Scientist\",\"Marketing\",\"Data Scientist\",\"Data Scientist\",\"Marketing\",\"Sales\",\"Marketing\",\"Marketing\",\"Project Manager\",\"Software Engineer\",\"Marketing\",\"Software Engineer\",\"Marketing\",\"Project Manager\",\"Software Engineer\",\"Marketing\",\"Data Scientist\",\"Sales\",\"Software Engineer\",\"Software Engineer\",\"Data Scientist\",\"Data Scientist\",\"Sales\",\"Software Engineer\",\"Marketing\",\"Marketing\",\"HR\",\"Sales\",\"Designer\",\"Marketing\",\"Marketing\",\"Sales\",\"Software Engineer\",\"Sales\",\"Data Scientist\",\"Data Scientist\",\"Project Manager\",\"Software Engineer\",\"Designer\",\"Software Engineer\",\"Project Manager\",\"Marketing\",\"Marketing\",\"HR\",\"Data Scientist\",\"Software Engineer\",\"Software Engineer\",\"Designer\",\"Sales\",\"Software Engineer\",\"Sales\",\"Marketing\",\"Designer\",\"HR\",\"Marketing\",\"Marketing\",\"Designer\",\"Project Manager\",\"Sales\",\"Software Engineer\",\"HR\",\"Designer\",\"Designer\",\"Data Scientist\",\"Marketing\",\"Sales\",\"Designer\",\"Project Manager\",\"HR\",\"Data Scientist\",\"Project Manager\",\"Project Manager\",\"HR\",\"HR\",\"Software Engineer\",\"HR\",\"Designer\",\"Data Scientist\",\"Designer\",\"Data Scientist\",\"Data Scientist\",\"Sales\",\"Designer\",\"Project Manager\",\"Data Scientist\",\"Sales\",\"HR\",\"Marketing\",\"Sales\",\"Marketing\",\"HR\",\"HR\",\"HR\",\"Marketing\",\"Marketing\",\"HR\",\"Designer\",\"Software Engineer\",\"HR\",\"Project Manager\",\"Data Scientist\",\"Sales\",\"HR\",\"Sales\",\"Sales\",\"Marketing\",\"Software Engineer\",\"Sales\",\"Marketing\",\"Project Manager\",\"Sales\",\"Data Scientist\",\"HR\",\"Project Manager\",\"Designer\",\"Sales\",\"Software Engineer\",\"Designer\",\"Data Scientist\",\"HR\",\"Project Manager\",\"HR\",\"Software Engineer\",\"Software Engineer\",\"Designer\",\"Marketing\",\"Marketing\",\"Designer\",\"Sales\",\"Sales\",\"HR\",\"Software Engineer\",\"Software Engineer\",\"Software Engineer\",\"Project Manager\",\"HR\",\"Sales\",\"Sales\",\"Data Scientist\",\"Data Scientist\",\"Designer\",\"Designer\",\"Project Manager\",\"HR\",\"HR\",\"Marketing\",\"Data Scientist\",\"Sales\",\"Marketing\",\"Data Scientist\",\"Marketing\",\"Data Scientist\",\"Project Manager\",\"HR\",\"HR\",\"Designer\",\"Sales\",\"Project Manager\",\"Software Engineer\",\"HR\",\"Software Engineer\",\"Data Scientist\",\"Software Engineer\",\"Sales\",\"Designer\",\"Marketing\",\"HR\",\"Data Scientist\",\"Sales\",\"Project Manager\",\"HR\",\"Marketing\",\"HR\",\"Marketing\",\"Data Scientist\",\"Software Engineer\",\"Marketing\",\"Marketing\",\"Software Engineer\",\"Software Engineer\",\"HR\",\"Project Manager\",\"Marketing\",\"Project Manager\",\"Marketing\",\"Designer\",\"Marketing\",\"Designer\",\"Project Manager\",\"Data Scientist\",\"Software Engineer\",\"Marketing\",\"Software Engineer\",\"Software Engineer\",\"Project Manager\",\"Project Manager\",\"Data Scientist\",\"HR\",\"Software Engineer\",\"Designer\",\"Data Scientist\",\"HR\",\"Software Engineer\",\"Software Engineer\",\"Software Engineer\",\"Software Engineer\",\"Designer\",\"HR\",\"Marketing\",\"Data Scientist\",\"Data Scientist\",\"Software Engineer\",\"Data Scientist\",\"Project Manager\",\"Project Manager\",\"Software Engineer\",\"Project Manager\",\"Software Engineer\",\"Marketing\",\"Designer\",\"Sales\",\"Sales\",\"Software Engineer\",\"Designer\",\"Data Scientist\",\"Data Scientist\",\"Designer\",\"Designer\",\"Data Scientist\",\"HR\",\"Designer\",\"Software Engineer\",\"Data Scientist\",\"Marketing\",\"Sales\",\"Software Engineer\",\"Marketing\",\"HR\",\"Designer\",\"Project Manager\",\"Designer\",\"Project Manager\",\"Software Engineer\",\"Designer\",\"Designer\",\"Sales\",\"Data Scientist\",\"HR\",\"Project Manager\",\"HR\",\"Designer\",\"HR\",\"Marketing\",\"Software Engineer\",\"Data Scientist\",\"HR\",\"Designer\",\"Software Engineer\",\"Sales\",\"Marketing\",\"Data Scientist\",\"Sales\",\"Software Engineer\",\"Project Manager\",\"Sales\",\"Project Manager\",\"Software Engineer\",\"Sales\",\"Sales\",\"Sales\",\"Project Manager\",\"Designer\",\"Sales\",\"Data Scientist\",\"HR\",\"Software Engineer\",\"Designer\",\"Data Scientist\",\"Data Scientist\",\"Software Engineer\",\"Software Engineer\",\"Designer\",\"HR\",\"HR\",\"Designer\",\"Marketing\",\"Project Manager\",\"Project Manager\",\"Marketing\",\"Project Manager\",\"Marketing\",\"Software Engineer\",\"Marketing\",\"Project Manager\",\"Data Scientist\",\"Software Engineer\",\"Software Engineer\",\"HR\",\"HR\",\"Sales\",\"Sales\",\"Project Manager\",\"Project Manager\",\"Sales\",\"Sales\",\"Sales\",\"Marketing\",\"Designer\",\"Data Scientist\",\"Software Engineer\",\"Designer\",\"Software Engineer\",\"HR\",\"Project Manager\",\"HR\",\"HR\",\"Designer\",\"HR\",\"Marketing\",\"Software Engineer\",\"HR\",\"Designer\",\"Project Manager\",\"Sales\",\"Marketing\",\"Software Engineer\",\"Project Manager\",\"Marketing\",\"Software Engineer\",\"Designer\",\"Software Engineer\",\"Data Scientist\",\"Designer\",\"Marketing\",\"Software Engineer\",\"Sales\",\"Software Engineer\",\"Data Scientist\",\"Marketing\",\"Sales\",\"Data Scientist\",\"Marketing\",\"Project Manager\",\"Designer\",\"Designer\",\"Project Manager\",\"Sales\",\"Marketing\",\"Marketing\",\"Software Engineer\",\"Sales\",\"Software Engineer\",\"Sales\",\"Designer\",\"Sales\",\"Marketing\",\"Project Manager\",\"Sales\",\"Sales\",\"Project Manager\",\"Project Manager\",\"Designer\",\"Project Manager\",\"Data Scientist\",\"Sales\",\"HR\",\"Data Scientist\",\"Software Engineer\",\"HR\",\"Software Engineer\",\"Sales\",\"Software Engineer\",\"Data Scientist\",\"Software Engineer\",\"Data Scientist\",\"HR\",\"Marketing\",\"Project Manager\",\"Designer\",\"Data Scientist\",\"Designer\",\"Designer\",\"HR\",\"Data Scientist\",\"Data Scientist\",\"Designer\",\"Marketing\",\"Sales\",\"Designer\",\"Marketing\",\"HR\",\"Marketing\",\"Software Engineer\",\"Software Engineer\",\"Software Engineer\",\"Marketing\",\"Data Scientist\",\"Data Scientist\",\"Data Scientist\",\"Data Scientist\",\"Data Scientist\",\"Marketing\",\"Data Scientist\",\"Data Scientist\",\"Project Manager\",\"Designer\",\"HR\",\"Project Manager\",\"Sales\",\"Marketing\",\"Software Engineer\",\"HR\",\"Marketing\",\"Designer\",\"Project Manager\",\"Project Manager\",\"HR\",\"Project Manager\",\"Software Engineer\",\"Marketing\",\"HR\",\"Software Engineer\",\"Data Scientist\",\"Data Scientist\",\"HR\",\"Data Scientist\",\"HR\",\"Sales\",\"Project Manager\",\"Designer\",\"Sales\",\"Data Scientist\",\"HR\",\"Project Manager\",\"Sales\",\"Project Manager\",\"Marketing\",\"Software Engineer\",\"Designer\",\"Designer\",\"Software Engineer\",\"Software Engineer\",\"Project Manager\",\"Marketing\",\"Designer\",\"Project Manager\",\"Project Manager\",\"Sales\",\"Project Manager\",\"Data Scientist\",\"Project Manager\",\"Data Scientist\",\"Designer\",\"Project Manager\",\"Sales\",\"Software Engineer\",\"Data Scientist\",\"Project Manager\",\"Sales\",\"Data Scientist\",\"Data Scientist\",\"Designer\",\"HR\",\"Software Engineer\",\"Project Manager\",\"Designer\",\"Data Scientist\",\"Software Engineer\",\"Sales\",\"Designer\",\"Marketing\",\"Sales\",\"Software Engineer\",\"Software Engineer\",\"Software Engineer\",\"Sales\",\"Project Manager\",\"HR\",\"Marketing\",\"Project Manager\",\"Sales\",\"Sales\",\"Software Engineer\",\"HR\",\"Sales\",\"Designer\",\"Software Engineer\",\"Sales\",\"Software Engineer\",\"Designer\",\"Sales\",\"Sales\",\"HR\",\"Designer\",\"Software Engineer\",\"Software Engineer\",\"Marketing\",\"Project Manager\",\"Software Engineer\",\"Data Scientist\",\"Data Scientist\",\"Marketing\",\"Project Manager\",\"Data Scientist\",\"Software Engineer\",\"Project Manager\",\"Sales\",\"Marketing\",\"Project Manager\",\"Software Engineer\",\"Project Manager\",\"HR\",\"Marketing\",\"HR\",\"Designer\",\"Sales\",\"Marketing\",\"Software Engineer\",\"Designer\",\"Software Engineer\",\"Sales\",\"Sales\",\"Data Scientist\",\"Data Scientist\",\"Marketing\",\"Sales\",\"Data Scientist\",\"Data Scientist\",\"Data Scientist\",\"Project Manager\",\"Project Manager\",\"HR\",\"Sales\",\"Marketing\",\"Sales\",\"HR\",\"Marketing\",\"Data Scientist\",\"Project Manager\",\"Project Manager\",\"Project Manager\",\"Data Scientist\",\"Sales\",\"Data Scientist\",\"HR\",\"Data Scientist\",\"Project Manager\",\"Marketing\",\"Marketing\",\"Data Scientist\",\"Data Scientist\",\"HR\",\"Project Manager\",\"Marketing\",\"Sales\",\"Marketing\",\"Designer\",\"Sales\",\"Marketing\",\"Designer\",\"HR\",\"Data Scientist\",\"Marketing\",\"Project Manager\",\"Project Manager\",\"Data Scientist\",\"Marketing\",\"Software Engineer\",\"Sales\",\"Software Engineer\",\"Sales\",\"Marketing\",\"Software Engineer\",\"Project Manager\",\"Sales\",\"Designer\",\"Marketing\",\"Software Engineer\",\"Software Engineer\",\"Software Engineer\",\"Data Scientist\",\"Marketing\",\"Data Scientist\",\"Project Manager\",\"Data Scientist\",\"Sales\",\"HR\",\"HR\",\"Marketing\",\"Project Manager\",\"Project Manager\",\"Data Scientist\",\"Software Engineer\",\"Marketing\",\"Designer\",\"Sales\",\"Sales\",\"Marketing\",\"Data Scientist\",\"Designer\",\"Designer\",\"Sales\",\"Marketing\",\"Data Scientist\",\"Software Engineer\",\"Sales\",\"Designer\",\"HR\",\"Sales\",\"Data Scientist\",\"Marketing\",\"Sales\",\"Marketing\",\"Designer\",\"HR\",\"HR\",\"HR\",\"HR\",\"Project Manager\",\"Project Manager\",\"Designer\",\"Sales\",\"Sales\",\"Data Scientist\",\"Data Scientist\",\"HR\",\"HR\",\"Software Engineer\",\"Software Engineer\",\"Project Manager\",\"HR\",\"Marketing\",\"Sales\",\"Project Manager\",\"Designer\",\"Marketing\",\"Data Scientist\",\"Software Engineer\",\"Sales\",\"Sales\",\"Marketing\",\"Data Scientist\",\"Software Engineer\",\"Data Scientist\",\"Data Scientist\",\"Project Manager\",\"Data Scientist\",\"Designer\",\"Data Scientist\",\"Designer\",\"Project Manager\",\"Software Engineer\",\"Software Engineer\",\"Software Engineer\",\"HR\",\"Designer\",\"Software Engineer\",\"Marketing\",\"Data Scientist\",\"Designer\",\"Software Engineer\",\"HR\",\"Data Scientist\",\"Sales\",\"Project Manager\",\"Sales\",\"Marketing\",\"HR\",\"Data Scientist\",\"Software Engineer\",\"Software Engineer\",\"Project Manager\",\"HR\",\"Marketing\",\"Marketing\",\"Data Scientist\",\"Data Scientist\",\"Sales\",\"HR\",\"Project Manager\",\"Marketing\",\"Sales\",\"Data Scientist\",\"Designer\",\"Designer\",\"HR\",\"Data Scientist\",\"Designer\",\"HR\",\"Marketing\",\"Data Scientist\",\"HR\",\"Designer\",\"HR\",\"Project Manager\",\"Project Manager\",\"Software Engineer\",\"Marketing\",\"Designer\",\"Data Scientist\",\"Software Engineer\",\"Marketing\",\"Software Engineer\",\"Marketing\",\"Sales\",\"Marketing\",\"Software Engineer\",\"Designer\",\"Data Scientist\",\"HR\",\"Sales\",\"Project Manager\",\"Marketing\",\"Software Engineer\",\"Project Manager\",\"Sales\",\"Designer\",\"HR\",\"Software Engineer\",\"Designer\",\"Project Manager\",\"Software Engineer\",\"Project Manager\",\"Data Scientist\",\"Marketing\",\"Sales\",\"Designer\",\"Project Manager\",\"Sales\",\"HR\",\"Designer\",\"Sales\",\"Sales\",\"Project Manager\",\"Sales\",\"HR\",\"Software Engineer\",\"Marketing\",\"Designer\",\"Data Scientist\",\"Project Manager\",\"Sales\",\"Data Scientist\",\"HR\",\"Project Manager\",\"Sales\",\"HR\",\"Marketing\",\"Designer\",\"Data Scientist\",\"Designer\",\"Data Scientist\",\"HR\",\"Project Manager\",\"HR\",\"HR\",\"Marketing\",\"Marketing\",\"Sales\",\"Project Manager\",\"Data Scientist\",\"Software Engineer\",\"HR\",\"HR\",\"Data Scientist\",\"Data Scientist\",\"HR\",\"Designer\",\"Project Manager\",\"HR\",\"Designer\",\"Marketing\",\"Software Engineer\",\"Project Manager\",\"Data Scientist\",\"Sales\",\"Data Scientist\",\"Data Scientist\",\"Data Scientist\",\"Sales\",\"Project Manager\",\"Designer\",\"HR\",\"Designer\",\"Sales\",\"Marketing\",\"Data Scientist\",\"Marketing\",\"Software Engineer\",\"Sales\",\"Sales\",\"Sales\",\"Data Scientist\",\"HR\",\"Software Engineer\",\"Data Scientist\",\"HR\",\"Sales\",\"HR\",\"Designer\",\"Designer\",\"Software Engineer\",\"Software Engineer\",\"Software Engineer\",\"Project Manager\",\"Project Manager\",\"HR\",\"Marketing\",\"Designer\",\"Sales\",\"Designer\",\"Designer\",\"Software Engineer\",\"Sales\",\"HR\",\"Project Manager\",\"Sales\",\"Data Scientist\",\"Software Engineer\",\"HR\",\"Sales\",\"Project Manager\",\"Sales\",\"HR\",\"Data Scientist\",\"HR\",\"Software Engineer\",\"Marketing\",\"Software Engineer\",\"Project Manager\",\"Project Manager\",\"Data Scientist\",\"Designer\",\"Designer\",\"Designer\",\"Marketing\",\"Marketing\",\"Project Manager\",\"Software Engineer\",\"HR\",\"Software Engineer\",\"Software Engineer\",\"HR\",\"HR\",\"Designer\",\"HR\",\"Sales\",\"Data Scientist\",\"Designer\",\"Marketing\",\"HR\",\"HR\",\"Sales\",\"Software Engineer\",\"HR\",\"Marketing\",\"Marketing\",\"Data Scientist\",\"Data Scientist\",\"Sales\",\"Marketing\",\"Marketing\",\"Designer\",\"Sales\",\"HR\",\"Project Manager\",\"Designer\",\"Data Scientist\",\"Designer\",\"HR\",\"Sales\",\"HR\",\"Software Engineer\",\"Marketing\",\"Project Manager\",\"Marketing\",\"Designer\",\"Data Scientist\",\"Designer\",\"Sales\",\"Marketing\",\"Marketing\",\"HR\",\"Marketing\",\"Marketing\",\"Designer\",\"Project Manager\",\"HR\",\"Data Scientist\",\"Project Manager\",\"Project Manager\",\"Project Manager\",\"HR\",\"Marketing\",\"HR\",\"Software Engineer\",\"Data Scientist\",\"Marketing\",\"HR\",\"Designer\",\"Designer\",\"Designer\",\"Sales\",\"Software Engineer\",\"Project Manager\",\"Data Scientist\",\"Designer\",\"Project Manager\",\"Sales\",\"Marketing\",\"Marketing\",\"Sales\",\"Data Scientist\",\"Project Manager\",\"Software Engineer\",\"HR\",\"Software Engineer\",\"Data Scientist\",\"Data Scientist\",\"Sales\",\"Data Scientist\",\"Sales\",\"Designer\",\"Marketing\",\"HR\",\"Project Manager\",\"Project Manager\",\"Designer\",\"Software Engineer\",\"Software Engineer\",\"Designer\",\"Data Scientist\",\"Marketing\",\"Data Scientist\",\"Designer\",\"Data Scientist\",\"Software Engineer\",\"Project Manager\",\"Data Scientist\",\"Project Manager\",\"Project Manager\",\"Project Manager\",\"Designer\",\"Project Manager\",\"Data Scientist\",\"HR\",\"Data Scientist\",\"Sales\",\"Designer\",\"Sales\",\"Marketing\",\"Sales\",\"Designer\",\"Marketing\",\"Project Manager\",\"HR\",\"Designer\",\"HR\",\"Sales\",\"Sales\",\"Project Manager\",\"HR\",\"Sales\",\"Software Engineer\",\"Project Manager\",\"Designer\",\"Project Manager\",\"Software Engineer\",\"Project Manager\",\"Sales\",\"Project Manager\",\"Sales\",\"Sales\",\"Sales\",\"Data Scientist\",\"Designer\",\"Project Manager\",\"Project Manager\",\"Sales\",\"Marketing\",\"Data Scientist\",\"HR\",\"HR\",\"HR\",\"Designer\",\"Software Engineer\",\"Project Manager\",\"Marketing\",\"Sales\",\"Marketing\",\"Designer\",\"HR\",\"Sales\",\"Designer\",\"Project Manager\",\"HR\",\"Project Manager\",\"Project Manager\",\"Data Scientist\",\"Sales\",\"Data Scientist\",\"Marketing\",\"HR\",\"Project Manager\",\"Software Engineer\",\"Data Scientist\",\"Designer\",\"HR\",\"Software Engineer\",\"Project Manager\",\"Sales\",\"HR\",\"Project Manager\",\"Data Scientist\",\"Sales\",\"Project Manager\",\"Project Manager\",\"Project Manager\",\"HR\",\"HR\",\"HR\",\"Software Engineer\",\"Designer\",\"Project Manager\",\"Marketing\",\"Project Manager\",\"Software Engineer\",\"Sales\",\"HR\",\"Software Engineer\",\"Project Manager\",\"HR\",\"Marketing\",\"Project Manager\",\"Designer\",\"HR\",\"Marketing\",\"Software Engineer\",\"HR\",\"Marketing\",\"Data Scientist\",\"Software Engineer\",\"Data Scientist\",\"Data Scientist\",\"Designer\",\"Marketing\",\"HR\",\"HR\",\"Designer\",\"Software Engineer\",\"Sales\",\"Designer\",\"Data Scientist\",\"Data Scientist\",\"Marketing\",\"HR\",\"Marketing\",\"Project Manager\",\"Designer\",\"HR\",\"Sales\",\"Project Manager\",\"Designer\",\"Designer\",\"Project Manager\",\"HR\",\"Software Engineer\",\"Sales\",\"Project Manager\",\"Marketing\",\"HR\",\"HR\",\"HR\",\"Sales\",\"Sales\",\"Data Scientist\",\"Sales\",\"HR\",\"HR\",\"HR\",\"Software Engineer\",\"Project Manager\",\"Project Manager\",\"Sales\",\"Marketing\",\"Data Scientist\",\"Sales\",\"Sales\",\"Designer\",\"Software Engineer\",\"Designer\",\"Designer\",\"Designer\",\"Sales\",\"Designer\",\"Designer\",\"HR\",\"Marketing\",\"Sales\",\"HR\",\"Software Engineer\",\"Sales\",\"Marketing\",\"Project Manager\",\"Sales\",\"Project Manager\",\"Designer\",\"Designer\",\"Designer\",\"Designer\",\"Data Scientist\",\"Sales\",\"Designer\",\"Designer\",\"Project Manager\",\"HR\",\"Project Manager\",\"Sales\",\"Project Manager\",\"Software Engineer\",\"Designer\",\"Sales\",\"Marketing\",\"Software Engineer\",\"Project Manager\",\"Marketing\",\"Marketing\",\"Project Manager\",\"HR\",\"Sales\",\"Designer\",\"Sales\",\"Project Manager\",\"Marketing\",\"Data Scientist\",\"Sales\",\"HR\",\"Project Manager\",\"Data Scientist\",\"Marketing\",\"Designer\",\"Software Engineer\",\"Software Engineer\",\"Project Manager\",\"Designer\",\"Sales\",\"Project Manager\",\"Designer\",\"Project Manager\",\"Marketing\",\"Project Manager\",\"Software Engineer\",\"Data Scientist\",\"HR\",\"Sales\",\"Project Manager\",\"HR\",\"Software Engineer\",\"Designer\",\"Designer\",\"Project Manager\",\"HR\",\"Designer\",\"Project Manager\",\"Software Engineer\",\"Software Engineer\",\"Data Scientist\",\"Marketing\",\"Marketing\",\"Marketing\",\"Sales\",\"Project Manager\",\"Designer\",\"Project Manager\",\"HR\",\"Marketing\",\"HR\",\"Software Engineer\",\"Sales\",\"Sales\",\"Data Scientist\",\"Project Manager\",\"Marketing\",\"Project Manager\",\"Designer\",\"Software Engineer\",\"Software Engineer\",\"HR\",\"Software Engineer\",\"Designer\",\"Project Manager\",\"Sales\",\"Project Manager\",\"Software Engineer\",\"Designer\",\"Software Engineer\",\"HR\",\"Project Manager\",\"Project Manager\",\"Sales\",\"Marketing\",\"Data Scientist\",\"Project Manager\",\"Software Engineer\",\"Software Engineer\",\"HR\",\"Marketing\",\"Data Scientist\",\"Designer\",\"Data Scientist\",\"Data Scientist\",\"Data Scientist\",\"Marketing\",\"Project Manager\",\"Software Engineer\",\"Software Engineer\",\"Project Manager\",\"Data Scientist\",\"Software Engineer\",\"Designer\",\"Software Engineer\",\"Designer\",\"Sales\",\"Marketing\",\"Sales\",\"Sales\",\"Data Scientist\",\"Software Engineer\",\"Designer\",\"Data Scientist\",\"Sales\",\"Software Engineer\",\"Project Manager\",\"Marketing\",\"Designer\",\"Sales\",\"Designer\",\"HR\",\"Designer\",\"Marketing\",\"Designer\",\"HR\",\"Software Engineer\",\"Software Engineer\",\"Sales\",\"HR\",\"Data Scientist\",\"Project Manager\",\"Sales\",\"Designer\",\"Marketing\",\"Marketing\",\"Sales\",\"Sales\",\"HR\",\"Designer\",\"Software Engineer\",\"Designer\",\"Sales\",\"HR\",\"Project Manager\",\"Project Manager\",\"Marketing\",\"Designer\",\"Sales\",\"Data Scientist\",\"Data Scientist\",\"HR\",\"Marketing\",\"Sales\",\"Project Manager\",\"Project Manager\",\"Designer\",\"Data Scientist\",\"Software Engineer\",\"Designer\",\"HR\",\"Data Scientist\",\"Sales\",\"Project Manager\",\"Project Manager\",\"Sales\",\"Designer\",\"HR\",\"Marketing\",\"HR\",\"Marketing\",\"Sales\",\"HR\",\"Software Engineer\",\"Project Manager\",\"HR\",\"Software Engineer\",\"Data Scientist\",\"Sales\",\"HR\",\"Project Manager\",\"Software Engineer\",\"Designer\",\"Designer\",\"Marketing\",\"Sales\",\"Data Scientist\",\"Marketing\",\"HR\",\"Marketing\",\"Software Engineer\",\"Marketing\",\"Project Manager\",\"Data Scientist\",\"Designer\",\"Designer\",\"Marketing\",\"Designer\",\"Marketing\",\"Marketing\",\"HR\",\"Project Manager\",\"Designer\",\"Marketing\",\"Sales\",\"Software Engineer\",\"Software Engineer\",\"HR\",\"Marketing\",\"Data Scientist\",\"Designer\",\"Project Manager\",\"Project Manager\",\"Software Engineer\",\"Marketing\",\"HR\",\"Project Manager\",\"Project Manager\",\"Sales\",\"Sales\",\"Sales\",\"Sales\",\"Sales\",\"Project Manager\",\"Marketing\",\"Software Engineer\",\"HR\",\"HR\",\"Sales\",\"Project Manager\",\"Project Manager\",\"Project Manager\",\"Designer\",\"HR\",\"Designer\",\"Sales\",\"Software Engineer\",\"Data Scientist\",\"Marketing\",\"Software Engineer\",\"Designer\",\"Software Engineer\",\"Marketing\",\"Designer\",\"Sales\",\"Project Manager\",\"Sales\",\"Sales\",\"HR\"],\"yaxis\":\"y\",\"type\":\"bar\"}],                        {\"template\":{\"data\":{\"histogram2dcontour\":[{\"type\":\"histogram2dcontour\",\"colorbar\":{\"outlinewidth\":0,\"ticks\":\"\"},\"colorscale\":[[0.0,\"#0d0887\"],[0.1111111111111111,\"#46039f\"],[0.2222222222222222,\"#7201a8\"],[0.3333333333333333,\"#9c179e\"],[0.4444444444444444,\"#bd3786\"],[0.5555555555555556,\"#d8576b\"],[0.6666666666666666,\"#ed7953\"],[0.7777777777777778,\"#fb9f3a\"],[0.8888888888888888,\"#fdca26\"],[1.0,\"#f0f921\"]]}],\"choropleth\":[{\"type\":\"choropleth\",\"colorbar\":{\"outlinewidth\":0,\"ticks\":\"\"}}],\"histogram2d\":[{\"type\":\"histogram2d\",\"colorbar\":{\"outlinewidth\":0,\"ticks\":\"\"},\"colorscale\":[[0.0,\"#0d0887\"],[0.1111111111111111,\"#46039f\"],[0.2222222222222222,\"#7201a8\"],[0.3333333333333333,\"#9c179e\"],[0.4444444444444444,\"#bd3786\"],[0.5555555555555556,\"#d8576b\"],[0.6666666666666666,\"#ed7953\"],[0.7777777777777778,\"#fb9f3a\"],[0.8888888888888888,\"#fdca26\"],[1.0,\"#f0f921\"]]}],\"heatmap\":[{\"type\":\"heatmap\",\"colorbar\":{\"outlinewidth\":0,\"ticks\":\"\"},\"colorscale\":[[0.0,\"#0d0887\"],[0.1111111111111111,\"#46039f\"],[0.2222222222222222,\"#7201a8\"],[0.3333333333333333,\"#9c179e\"],[0.4444444444444444,\"#bd3786\"],[0.5555555555555556,\"#d8576b\"],[0.6666666666666666,\"#ed7953\"],[0.7777777777777778,\"#fb9f3a\"],[0.8888888888888888,\"#fdca26\"],[1.0,\"#f0f921\"]]}],\"heatmapgl\":[{\"type\":\"heatmapgl\",\"colorbar\":{\"outlinewidth\":0,\"ticks\":\"\"},\"colorscale\":[[0.0,\"#0d0887\"],[0.1111111111111111,\"#46039f\"],[0.2222222222222222,\"#7201a8\"],[0.3333333333333333,\"#9c179e\"],[0.4444444444444444,\"#bd3786\"],[0.5555555555555556,\"#d8576b\"],[0.6666666666666666,\"#ed7953\"],[0.7777777777777778,\"#fb9f3a\"],[0.8888888888888888,\"#fdca26\"],[1.0,\"#f0f921\"]]}],\"contourcarpet\":[{\"type\":\"contourcarpet\",\"colorbar\":{\"outlinewidth\":0,\"ticks\":\"\"}}],\"contour\":[{\"type\":\"contour\",\"colorbar\":{\"outlinewidth\":0,\"ticks\":\"\"},\"colorscale\":[[0.0,\"#0d0887\"],[0.1111111111111111,\"#46039f\"],[0.2222222222222222,\"#7201a8\"],[0.3333333333333333,\"#9c179e\"],[0.4444444444444444,\"#bd3786\"],[0.5555555555555556,\"#d8576b\"],[0.6666666666666666,\"#ed7953\"],[0.7777777777777778,\"#fb9f3a\"],[0.8888888888888888,\"#fdca26\"],[1.0,\"#f0f921\"]]}],\"surface\":[{\"type\":\"surface\",\"colorbar\":{\"outlinewidth\":0,\"ticks\":\"\"},\"colorscale\":[[0.0,\"#0d0887\"],[0.1111111111111111,\"#46039f\"],[0.2222222222222222,\"#7201a8\"],[0.3333333333333333,\"#9c179e\"],[0.4444444444444444,\"#bd3786\"],[0.5555555555555556,\"#d8576b\"],[0.6666666666666666,\"#ed7953\"],[0.7777777777777778,\"#fb9f3a\"],[0.8888888888888888,\"#fdca26\"],[1.0,\"#f0f921\"]]}],\"mesh3d\":[{\"type\":\"mesh3d\",\"colorbar\":{\"outlinewidth\":0,\"ticks\":\"\"}}],\"scatter\":[{\"fillpattern\":{\"fillmode\":\"overlay\",\"size\":10,\"solidity\":0.2},\"type\":\"scatter\"}],\"parcoords\":[{\"type\":\"parcoords\",\"line\":{\"colorbar\":{\"outlinewidth\":0,\"ticks\":\"\"}}}],\"scatterpolargl\":[{\"type\":\"scatterpolargl\",\"marker\":{\"colorbar\":{\"outlinewidth\":0,\"ticks\":\"\"}}}],\"bar\":[{\"error_x\":{\"color\":\"#2a3f5f\"},\"error_y\":{\"color\":\"#2a3f5f\"},\"marker\":{\"line\":{\"color\":\"#E5ECF6\",\"width\":0.5},\"pattern\":{\"fillmode\":\"overlay\",\"size\":10,\"solidity\":0.2}},\"type\":\"bar\"}],\"scattergeo\":[{\"type\":\"scattergeo\",\"marker\":{\"colorbar\":{\"outlinewidth\":0,\"ticks\":\"\"}}}],\"scatterpolar\":[{\"type\":\"scatterpolar\",\"marker\":{\"colorbar\":{\"outlinewidth\":0,\"ticks\":\"\"}}}],\"histogram\":[{\"marker\":{\"pattern\":{\"fillmode\":\"overlay\",\"size\":10,\"solidity\":0.2}},\"type\":\"histogram\"}],\"scattergl\":[{\"type\":\"scattergl\",\"marker\":{\"colorbar\":{\"outlinewidth\":0,\"ticks\":\"\"}}}],\"scatter3d\":[{\"type\":\"scatter3d\",\"line\":{\"colorbar\":{\"outlinewidth\":0,\"ticks\":\"\"}},\"marker\":{\"colorbar\":{\"outlinewidth\":0,\"ticks\":\"\"}}}],\"scattermapbox\":[{\"type\":\"scattermapbox\",\"marker\":{\"colorbar\":{\"outlinewidth\":0,\"ticks\":\"\"}}}],\"scatterternary\":[{\"type\":\"scatterternary\",\"marker\":{\"colorbar\":{\"outlinewidth\":0,\"ticks\":\"\"}}}],\"scattercarpet\":[{\"type\":\"scattercarpet\",\"marker\":{\"colorbar\":{\"outlinewidth\":0,\"ticks\":\"\"}}}],\"carpet\":[{\"aaxis\":{\"endlinecolor\":\"#2a3f5f\",\"gridcolor\":\"white\",\"linecolor\":\"white\",\"minorgridcolor\":\"white\",\"startlinecolor\":\"#2a3f5f\"},\"baxis\":{\"endlinecolor\":\"#2a3f5f\",\"gridcolor\":\"white\",\"linecolor\":\"white\",\"minorgridcolor\":\"white\",\"startlinecolor\":\"#2a3f5f\"},\"type\":\"carpet\"}],\"table\":[{\"cells\":{\"fill\":{\"color\":\"#EBF0F8\"},\"line\":{\"color\":\"white\"}},\"header\":{\"fill\":{\"color\":\"#C8D4E3\"},\"line\":{\"color\":\"white\"}},\"type\":\"table\"}],\"barpolar\":[{\"marker\":{\"line\":{\"color\":\"#E5ECF6\",\"width\":0.5},\"pattern\":{\"fillmode\":\"overlay\",\"size\":10,\"solidity\":0.2}},\"type\":\"barpolar\"}],\"pie\":[{\"automargin\":true,\"type\":\"pie\"}]},\"layout\":{\"autotypenumbers\":\"strict\",\"colorway\":[\"#636efa\",\"#EF553B\",\"#00cc96\",\"#ab63fa\",\"#FFA15A\",\"#19d3f3\",\"#FF6692\",\"#B6E880\",\"#FF97FF\",\"#FECB52\"],\"font\":{\"color\":\"#2a3f5f\"},\"hovermode\":\"closest\",\"hoverlabel\":{\"align\":\"left\"},\"paper_bgcolor\":\"white\",\"plot_bgcolor\":\"#E5ECF6\",\"polar\":{\"bgcolor\":\"#E5ECF6\",\"angularaxis\":{\"gridcolor\":\"white\",\"linecolor\":\"white\",\"ticks\":\"\"},\"radialaxis\":{\"gridcolor\":\"white\",\"linecolor\":\"white\",\"ticks\":\"\"}},\"ternary\":{\"bgcolor\":\"#E5ECF6\",\"aaxis\":{\"gridcolor\":\"white\",\"linecolor\":\"white\",\"ticks\":\"\"},\"baxis\":{\"gridcolor\":\"white\",\"linecolor\":\"white\",\"ticks\":\"\"},\"caxis\":{\"gridcolor\":\"white\",\"linecolor\":\"white\",\"ticks\":\"\"}},\"coloraxis\":{\"colorbar\":{\"outlinewidth\":0,\"ticks\":\"\"}},\"colorscale\":{\"sequential\":[[0.0,\"#0d0887\"],[0.1111111111111111,\"#46039f\"],[0.2222222222222222,\"#7201a8\"],[0.3333333333333333,\"#9c179e\"],[0.4444444444444444,\"#bd3786\"],[0.5555555555555556,\"#d8576b\"],[0.6666666666666666,\"#ed7953\"],[0.7777777777777778,\"#fb9f3a\"],[0.8888888888888888,\"#fdca26\"],[1.0,\"#f0f921\"]],\"sequentialminus\":[[0.0,\"#0d0887\"],[0.1111111111111111,\"#46039f\"],[0.2222222222222222,\"#7201a8\"],[0.3333333333333333,\"#9c179e\"],[0.4444444444444444,\"#bd3786\"],[0.5555555555555556,\"#d8576b\"],[0.6666666666666666,\"#ed7953\"],[0.7777777777777778,\"#fb9f3a\"],[0.8888888888888888,\"#fdca26\"],[1.0,\"#f0f921\"]],\"diverging\":[[0,\"#8e0152\"],[0.1,\"#c51b7d\"],[0.2,\"#de77ae\"],[0.3,\"#f1b6da\"],[0.4,\"#fde0ef\"],[0.5,\"#f7f7f7\"],[0.6,\"#e6f5d0\"],[0.7,\"#b8e186\"],[0.8,\"#7fbc41\"],[0.9,\"#4d9221\"],[1,\"#276419\"]]},\"xaxis\":{\"gridcolor\":\"white\",\"linecolor\":\"white\",\"ticks\":\"\",\"title\":{\"standoff\":15},\"zerolinecolor\":\"white\",\"automargin\":true,\"zerolinewidth\":2},\"yaxis\":{\"gridcolor\":\"white\",\"linecolor\":\"white\",\"ticks\":\"\",\"title\":{\"standoff\":15},\"zerolinecolor\":\"white\",\"automargin\":true,\"zerolinewidth\":2},\"scene\":{\"xaxis\":{\"backgroundcolor\":\"#E5ECF6\",\"gridcolor\":\"white\",\"linecolor\":\"white\",\"showbackground\":true,\"ticks\":\"\",\"zerolinecolor\":\"white\",\"gridwidth\":2},\"yaxis\":{\"backgroundcolor\":\"#E5ECF6\",\"gridcolor\":\"white\",\"linecolor\":\"white\",\"showbackground\":true,\"ticks\":\"\",\"zerolinecolor\":\"white\",\"gridwidth\":2},\"zaxis\":{\"backgroundcolor\":\"#E5ECF6\",\"gridcolor\":\"white\",\"linecolor\":\"white\",\"showbackground\":true,\"ticks\":\"\",\"zerolinecolor\":\"white\",\"gridwidth\":2}},\"shapedefaults\":{\"line\":{\"color\":\"#2a3f5f\"}},\"annotationdefaults\":{\"arrowcolor\":\"#2a3f5f\",\"arrowhead\":0,\"arrowwidth\":1},\"geo\":{\"bgcolor\":\"white\",\"landcolor\":\"#E5ECF6\",\"subunitcolor\":\"white\",\"showland\":true,\"showlakes\":true,\"lakecolor\":\"white\"},\"title\":{\"x\":0.05},\"mapbox\":{\"style\":\"light\"}}},\"xaxis\":{\"anchor\":\"y\",\"domain\":[0.0,1.0],\"title\":{\"text\":\"Number of people\"}},\"yaxis\":{\"anchor\":\"x\",\"domain\":[0.0,1.0],\"title\":{\"text\":\"Job Role\"},\"categoryorder\":\"array\",\"categoryarray\":[\"Marketing\",\"Data Scientist\",\"Software Engineer\",\"HR\",\"Designer\",\"Sales\",\"Project Manager\"]},\"legend\":{\"title\":{\"text\":\"Work_Location\"},\"tracegroupgap\":0},\"title\":{\"text\":\"Job Roles\"},\"barmode\":\"relative\"},                        {\"responsive\": true}                    ).then(function(){\n",
              "                            \n",
              "var gd = document.getElementById('a203eb61-ae8f-4641-91c1-c90be5b320f7');\n",
              "var x = new MutationObserver(function (mutations, observer) {{\n",
              "        var display = window.getComputedStyle(gd).display;\n",
              "        if (!display || display === 'none') {{\n",
              "            console.log([gd, 'removed!']);\n",
              "            Plotly.purge(gd);\n",
              "            observer.disconnect();\n",
              "        }}\n",
              "}});\n",
              "\n",
              "// Listen for the removal of the full notebook cells\n",
              "var notebookContainer = gd.closest('#notebook-container');\n",
              "if (notebookContainer) {{\n",
              "    x.observe(notebookContainer, {childList: true});\n",
              "}}\n",
              "\n",
              "// Listen for the clearing of the current output cell\n",
              "var outputEl = gd.closest('.output');\n",
              "if (outputEl) {{\n",
              "    x.observe(outputEl, {childList: true});\n",
              "}}\n",
              "\n",
              "                        })                };                            </script>        </div>\n",
              "</body>\n",
              "</html>"
            ]
          },
          "metadata": {}
        }
      ]
    },
    {
      "cell_type": "markdown",
      "source": [
        "## By Industry"
      ],
      "metadata": {
        "id": "ZaN-yejp1UkB"
      }
    },
    {
      "cell_type": "code",
      "source": [
        "fig = px.bar(pandas_df,\n",
        "             y='Industry',\n",
        "             title='Industries',\n",
        "             labels={'Industry': 'Industries', 'count': 'Number of people'},\n",
        "             category_orders={'Industry': pandas_df['Industry'].value_counts().index},\n",
        "             color='Work_Location'\n",
        "             #color_discrete_sequence=['#1f77b4'])  # Un color único para todas las barras\n",
        ")\n",
        "fig.show()"
      ],
      "metadata": {
        "colab": {
          "base_uri": "https://localhost:8080/",
          "height": 542
        },
        "id": "FNUZlsjGjEaR",
        "outputId": "bfe57623-46cc-40b3-9750-c836f8f35a80"
      },
      "execution_count": 30,
      "outputs": [
        {
          "output_type": "display_data",
          "data": {
            "text/html": [
              "<html>\n",
              "<head><meta charset=\"utf-8\" /></head>\n",
              "<body>\n",
              "    <div>            <script src=\"https://cdnjs.cloudflare.com/ajax/libs/mathjax/2.7.5/MathJax.js?config=TeX-AMS-MML_SVG\"></script><script type=\"text/javascript\">if (window.MathJax && window.MathJax.Hub && window.MathJax.Hub.Config) {window.MathJax.Hub.Config({SVG: {font: \"STIX-Web\"}});}</script>                <script type=\"text/javascript\">window.PlotlyConfig = {MathJaxConfig: 'local'};</script>\n",
              "        <script charset=\"utf-8\" src=\"https://cdn.plot.ly/plotly-2.35.2.min.js\"></script>                <div id=\"cafe4089-43f8-4610-830c-d116677bce02\" class=\"plotly-graph-div\" style=\"height:525px; width:100%;\"></div>            <script type=\"text/javascript\">                                    window.PLOTLYENV=window.PLOTLYENV || {};                                    if (document.getElementById(\"cafe4089-43f8-4610-830c-d116677bce02\")) {                    Plotly.newPlot(                        \"cafe4089-43f8-4610-830c-d116677bce02\",                        [{\"alignmentgroup\":\"True\",\"hovertemplate\":\"Work_Location=Hybrid\\u003cbr\\u003eNumber of people=%{x}\\u003cbr\\u003eIndustries=%{y}\\u003cextra\\u003e\\u003c\\u002fextra\\u003e\",\"legendgroup\":\"Hybrid\",\"marker\":{\"color\":\"#636efa\",\"pattern\":{\"shape\":\"\"}},\"name\":\"Hybrid\",\"offsetgroup\":\"Hybrid\",\"orientation\":\"h\",\"showlegend\":true,\"textposition\":\"auto\",\"x\":[1,1,1,1,1,1,1,1,1,1,1,1,1,1,1,1,1,1,1,1,1,1,1,1,1,1,1,1,1,1,1,1,1,1,1,1,1,1,1,1,1,1,1,1,1,1,1,1,1,1,1,1,1,1,1,1,1,1,1,1,1,1,1,1,1,1,1,1,1,1,1,1,1,1,1,1,1,1,1,1,1,1,1,1,1,1,1,1,1,1,1,1,1,1,1,1,1,1,1,1,1,1,1,1,1,1,1,1,1,1,1,1,1,1,1,1,1,1,1,1,1,1,1,1,1,1,1,1,1,1,1,1,1,1,1,1,1,1,1,1,1,1,1,1,1,1,1,1,1,1,1,1,1,1,1,1,1,1,1,1,1,1,1,1,1,1,1,1,1,1,1,1,1,1,1,1,1,1,1,1,1,1,1,1,1,1,1,1,1,1,1,1,1,1,1,1,1,1,1,1,1,1,1,1,1,1,1,1,1,1,1,1,1,1,1,1,1,1,1,1,1,1,1,1,1,1,1,1,1,1,1,1,1,1,1,1,1,1,1,1,1,1,1,1,1,1,1,1,1,1,1,1,1,1,1,1,1,1,1,1,1,1,1,1,1,1,1,1,1,1,1,1,1,1,1,1,1,1,1,1,1,1,1,1,1,1,1,1,1,1,1,1,1,1,1,1,1,1,1,1,1,1,1,1,1,1,1,1,1,1,1,1,1,1,1,1,1,1,1,1,1,1,1,1,1,1,1,1,1,1,1,1,1,1,1,1,1,1,1,1,1,1,1,1,1,1,1,1,1,1,1,1,1,1,1,1,1,1,1,1,1,1,1,1,1,1,1,1,1,1,1,1,1,1,1,1,1,1,1,1,1,1,1,1,1,1,1,1,1,1,1,1,1,1,1,1,1,1,1,1,1,1,1,1,1,1,1,1,1,1,1,1,1,1,1,1,1,1,1,1,1,1,1,1,1,1,1,1,1,1,1,1,1,1,1,1,1,1,1,1,1,1,1,1,1,1,1,1,1,1,1,1,1,1,1,1,1,1,1,1,1,1,1,1,1,1,1,1,1,1,1,1,1,1,1,1,1,1,1,1,1,1,1,1,1,1,1,1,1,1,1,1,1,1,1,1,1,1,1,1,1,1,1,1,1,1,1,1,1,1,1,1,1,1,1,1,1,1,1,1,1,1,1,1,1,1,1,1,1,1,1,1,1,1,1,1,1,1,1,1,1,1,1,1,1,1,1,1,1,1,1,1,1,1,1,1,1,1,1,1,1,1,1,1,1,1,1,1,1,1,1,1,1,1,1,1,1,1,1,1,1,1,1,1,1,1,1,1,1,1,1,1,1,1,1,1,1,1,1,1,1,1,1,1,1,1,1,1,1,1,1,1,1,1,1,1,1,1,1,1,1,1,1,1,1,1,1,1,1,1,1,1,1,1,1,1,1,1,1,1,1,1,1,1,1,1,1,1,1,1,1,1,1,1,1,1,1,1,1,1,1,1,1,1,1,1,1,1,1,1,1,1,1,1,1,1,1,1,1,1,1,1,1,1,1,1,1,1,1,1,1,1,1,1,1,1,1,1,1,1,1,1,1,1,1,1,1,1,1,1,1,1,1,1,1,1,1,1,1,1,1,1,1,1,1,1,1,1,1,1,1,1,1,1,1,1,1,1,1,1,1,1,1,1,1,1,1,1,1,1,1,1,1,1,1,1,1,1,1,1,1,1,1,1,1,1,1,1,1,1,1,1,1,1,1,1,1,1,1,1,1,1,1,1,1,1,1,1,1,1,1,1,1,1,1,1,1,1,1,1,1,1,1,1,1,1,1,1,1,1,1,1,1,1,1,1,1,1,1,1,1,1,1,1,1,1,1,1,1,1,1,1,1,1,1,1,1,1,1,1,1,1,1,1,1,1,1,1,1,1,1,1,1,1,1,1,1,1,1,1,1,1,1,1,1,1,1,1,1,1,1,1,1,1,1,1,1,1,1,1,1,1,1,1,1,1,1,1,1,1,1,1,1,1,1,1,1,1,1,1,1,1,1,1,1,1,1,1,1,1,1,1,1,1,1,1,1,1,1,1,1,1,1,1,1,1,1,1,1,1,1,1,1,1,1,1,1,1,1,1,1,1,1,1,1,1,1,1,1,1,1,1,1,1,1,1,1,1,1,1,1,1,1,1,1,1,1,1,1,1,1,1,1,1,1,1,1,1,1,1,1,1,1,1,1,1,1,1,1,1,1,1,1,1,1,1,1,1,1,1,1,1,1,1,1,1,1,1,1,1,1,1,1,1,1,1,1,1,1,1,1,1,1,1,1,1,1,1,1,1,1,1,1,1,1,1,1,1,1,1,1,1,1,1,1,1,1,1,1,1,1,1,1,1,1,1,1,1,1,1,1,1,1,1,1,1,1,1,1,1,1,1,1,1,1,1,1,1,1,1,1,1,1,1,1,1,1,1,1,1,1,1,1,1,1,1,1,1,1,1,1,1,1,1,1,1,1,1,1,1,1,1,1,1,1,1,1,1,1,1,1,1,1,1,1,1,1,1,1,1,1,1,1,1,1,1,1,1,1,1,1,1,1,1,1,1,1,1,1,1,1,1,1,1,1,1,1,1,1,1,1,1,1,1,1,1,1,1,1,1,1,1,1,1,1,1,1,1,1,1,1,1,1,1,1,1,1,1,1,1,1,1,1,1,1,1,1,1,1,1,1,1,1,1,1,1,1,1,1,1,1,1,1,1,1,1,1,1,1,1,1,1,1,1,1,1,1,1,1,1,1,1,1,1,1,1,1,1,1,1,1,1,1,1,1,1,1,1,1,1,1,1,1,1,1,1,1,1,1,1,1,1,1,1,1,1,1,1,1,1,1,1,1,1,1,1,1,1,1,1,1,1,1,1,1,1,1,1,1,1,1,1,1,1,1,1,1,1,1,1,1,1,1,1,1,1,1,1,1,1,1,1,1,1,1,1,1,1,1,1,1,1,1,1,1,1,1,1,1,1,1,1,1,1,1,1,1,1,1,1,1,1,1,1,1,1,1,1,1,1,1,1,1,1,1,1,1,1,1,1,1,1,1,1,1,1,1,1,1,1,1,1,1,1,1,1,1,1,1,1,1,1,1,1,1,1,1,1,1,1,1,1,1,1,1,1,1,1,1,1,1,1,1,1,1,1,1,1,1,1,1,1,1,1,1,1,1,1,1,1,1,1,1,1,1,1,1,1,1,1,1,1,1,1,1,1,1,1,1,1,1,1,1,1,1,1,1,1,1,1,1,1,1,1,1,1,1,1,1,1,1,1,1,1,1,1,1,1,1,1,1,1,1,1,1,1,1,1,1,1,1,1,1,1,1,1,1,1,1,1,1,1,1,1,1,1,1,1,1,1,1,1,1,1,1,1,1,1,1,1,1,1,1,1,1,1,1,1,1,1,1,1,1,1,1,1,1,1,1,1,1,1,1,1,1,1,1,1,1,1,1,1,1,1,1,1,1,1,1,1,1,1,1,1,1,1,1,1,1,1,1,1,1,1,1,1,1,1,1,1,1,1,1,1,1,1,1,1,1,1,1,1,1,1,1,1,1,1,1,1,1,1,1,1,1,1,1,1,1,1,1,1,1,1,1,1,1,1,1,1,1,1,1,1,1,1,1,1,1,1,1,1,1,1,1,1,1,1,1,1,1,1,1,1,1,1,1,1,1,1,1,1,1,1,1,1,1,1,1],\"xaxis\":\"x\",\"y\":[\"Healthcare\",\"Education\",\"IT\",\"Healthcare\",\"IT\",\"Consulting\",\"Manufacturing\",\"Retail\",\"Manufacturing\",\"IT\",\"Healthcare\",\"Consulting\",\"Education\",\"Education\",\"Consulting\",\"Finance\",\"Healthcare\",\"IT\",\"IT\",\"Consulting\",\"Education\",\"Education\",\"Healthcare\",\"Retail\",\"Finance\",\"Education\",\"Healthcare\",\"Healthcare\",\"IT\",\"IT\",\"Consulting\",\"IT\",\"Finance\",\"Education\",\"Healthcare\",\"Education\",\"Manufacturing\",\"Consulting\",\"Retail\",\"Finance\",\"Retail\",\"Manufacturing\",\"Finance\",\"Education\",\"Healthcare\",\"Manufacturing\",\"Healthcare\",\"Healthcare\",\"Finance\",\"Finance\",\"IT\",\"Education\",\"Consulting\",\"Manufacturing\",\"Manufacturing\",\"Manufacturing\",\"Finance\",\"Manufacturing\",\"Healthcare\",\"Education\",\"Manufacturing\",\"Manufacturing\",\"IT\",\"Finance\",\"Retail\",\"Manufacturing\",\"Education\",\"IT\",\"Consulting\",\"Consulting\",\"Healthcare\",\"Manufacturing\",\"Retail\",\"IT\",\"Retail\",\"Manufacturing\",\"Manufacturing\",\"Healthcare\",\"Manufacturing\",\"IT\",\"Manufacturing\",\"Manufacturing\",\"Education\",\"IT\",\"Education\",\"Education\",\"Healthcare\",\"Retail\",\"Manufacturing\",\"Education\",\"Finance\",\"Finance\",\"Healthcare\",\"Education\",\"Manufacturing\",\"Healthcare\",\"IT\",\"IT\",\"IT\",\"Education\",\"Healthcare\",\"Consulting\",\"IT\",\"Finance\",\"Retail\",\"Manufacturing\",\"Finance\",\"Retail\",\"Consulting\",\"Consulting\",\"Finance\",\"Consulting\",\"Education\",\"IT\",\"Consulting\",\"Finance\",\"Finance\",\"Healthcare\",\"Consulting\",\"Consulting\",\"Finance\",\"Consulting\",\"Consulting\",\"IT\",\"IT\",\"Healthcare\",\"IT\",\"IT\",\"Consulting\",\"Finance\",\"Consulting\",\"Finance\",\"Healthcare\",\"Consulting\",\"Retail\",\"Manufacturing\",\"Healthcare\",\"Manufacturing\",\"Retail\",\"Healthcare\",\"Healthcare\",\"IT\",\"Education\",\"Consulting\",\"IT\",\"Consulting\",\"Finance\",\"Consulting\",\"Finance\",\"Healthcare\",\"Retail\",\"Finance\",\"Consulting\",\"Retail\",\"Finance\",\"IT\",\"Finance\",\"Manufacturing\",\"IT\",\"Consulting\",\"IT\",\"IT\",\"Education\",\"Finance\",\"Consulting\",\"Retail\",\"Retail\",\"Manufacturing\",\"Finance\",\"Retail\",\"Education\",\"Retail\",\"Consulting\",\"Healthcare\",\"Education\",\"Retail\",\"Consulting\",\"Finance\",\"Finance\",\"Consulting\",\"Consulting\",\"Healthcare\",\"Retail\",\"Healthcare\",\"Education\",\"IT\",\"Retail\",\"Retail\",\"IT\",\"Education\",\"IT\",\"Healthcare\",\"IT\",\"Manufacturing\",\"Education\",\"Finance\",\"Manufacturing\",\"IT\",\"Finance\",\"Retail\",\"Healthcare\",\"Retail\",\"Retail\",\"Healthcare\",\"Manufacturing\",\"Retail\",\"Retail\",\"Education\",\"Healthcare\",\"Healthcare\",\"Manufacturing\",\"Consulting\",\"Retail\",\"IT\",\"Retail\",\"Retail\",\"Retail\",\"Education\",\"Finance\",\"Healthcare\",\"IT\",\"Finance\",\"Retail\",\"Education\",\"IT\",\"Manufacturing\",\"Retail\",\"Healthcare\",\"Finance\",\"Healthcare\",\"Finance\",\"Finance\",\"Manufacturing\",\"Finance\",\"IT\",\"Consulting\",\"Retail\",\"Education\",\"Retail\",\"Retail\",\"Education\",\"Manufacturing\",\"Manufacturing\",\"Consulting\",\"Finance\",\"Education\",\"Education\",\"Finance\",\"Retail\",\"Manufacturing\",\"Finance\",\"Retail\",\"Finance\",\"Healthcare\",\"Consulting\",\"Manufacturing\",\"IT\",\"Education\",\"Education\",\"Retail\",\"Finance\",\"Retail\",\"Finance\",\"Consulting\",\"IT\",\"Education\",\"Healthcare\",\"IT\",\"Education\",\"Retail\",\"Education\",\"Consulting\",\"Manufacturing\",\"Finance\",\"Manufacturing\",\"Healthcare\",\"Manufacturing\",\"IT\",\"IT\",\"Manufacturing\",\"Retail\",\"Manufacturing\",\"IT\",\"Healthcare\",\"Manufacturing\",\"Manufacturing\",\"Retail\",\"Retail\",\"Healthcare\",\"Consulting\",\"Finance\",\"Finance\",\"Education\",\"Finance\",\"Healthcare\",\"Manufacturing\",\"Retail\",\"Retail\",\"Consulting\",\"Education\",\"Education\",\"Healthcare\",\"Manufacturing\",\"Consulting\",\"Consulting\",\"Finance\",\"Manufacturing\",\"Consulting\",\"Retail\",\"IT\",\"Retail\",\"Consulting\",\"Manufacturing\",\"Finance\",\"Consulting\",\"Healthcare\",\"Finance\",\"Education\",\"Education\",\"Retail\",\"Retail\",\"Healthcare\",\"Finance\",\"Finance\",\"Finance\",\"Healthcare\",\"Finance\",\"Manufacturing\",\"IT\",\"Consulting\",\"Education\",\"Education\",\"Healthcare\",\"Education\",\"IT\",\"IT\",\"IT\",\"IT\",\"Manufacturing\",\"Finance\",\"Healthcare\",\"Healthcare\",\"Healthcare\",\"Healthcare\",\"Retail\",\"Finance\",\"Education\",\"Finance\",\"Finance\",\"Retail\",\"Finance\",\"Finance\",\"Consulting\",\"Consulting\",\"Consulting\",\"Retail\",\"Retail\",\"Manufacturing\",\"IT\",\"IT\",\"Education\",\"Finance\",\"Finance\",\"Manufacturing\",\"Consulting\",\"Education\",\"Manufacturing\",\"Consulting\",\"Healthcare\",\"Consulting\",\"Manufacturing\",\"Retail\",\"Education\",\"Retail\",\"Manufacturing\",\"Education\",\"Finance\",\"Consulting\",\"Retail\",\"Consulting\",\"Healthcare\",\"Healthcare\",\"IT\",\"Retail\",\"Retail\",\"IT\",\"Retail\",\"Retail\",\"Consulting\",\"Healthcare\",\"Consulting\",\"Manufacturing\",\"Healthcare\",\"Retail\",\"Finance\",\"Healthcare\",\"IT\",\"Finance\",\"Education\",\"Retail\",\"Manufacturing\",\"Consulting\",\"Finance\",\"Consulting\",\"Consulting\",\"IT\",\"IT\",\"Manufacturing\",\"Finance\",\"Manufacturing\",\"Education\",\"Consulting\",\"Education\",\"IT\",\"Healthcare\",\"Consulting\",\"Consulting\",\"Retail\",\"IT\",\"Retail\",\"Education\",\"Education\",\"Healthcare\",\"Retail\",\"IT\",\"Consulting\",\"Education\",\"Finance\",\"Finance\",\"Finance\",\"Manufacturing\",\"Retail\",\"IT\",\"Finance\",\"Education\",\"Education\",\"IT\",\"Healthcare\",\"Healthcare\",\"Retail\",\"Consulting\",\"IT\",\"Retail\",\"Consulting\",\"Retail\",\"Finance\",\"Healthcare\",\"Education\",\"Education\",\"Healthcare\",\"Retail\",\"IT\",\"Healthcare\",\"Consulting\",\"Retail\",\"Education\",\"Manufacturing\",\"Retail\",\"IT\",\"IT\",\"Consulting\",\"Finance\",\"IT\",\"IT\",\"Retail\",\"Retail\",\"IT\",\"Finance\",\"Education\",\"IT\",\"Consulting\",\"Healthcare\",\"Healthcare\",\"Finance\",\"IT\",\"Consulting\",\"Healthcare\",\"Retail\",\"IT\",\"Retail\",\"Manufacturing\",\"Manufacturing\",\"Retail\",\"Finance\",\"IT\",\"IT\",\"IT\",\"Finance\",\"IT\",\"Manufacturing\",\"Consulting\",\"Retail\",\"IT\",\"Retail\",\"Finance\",\"IT\",\"IT\",\"Healthcare\",\"Finance\",\"Finance\",\"Healthcare\",\"Manufacturing\",\"Finance\",\"Retail\",\"IT\",\"Manufacturing\",\"Healthcare\",\"Manufacturing\",\"Retail\",\"Consulting\",\"Retail\",\"Finance\",\"Consulting\",\"Manufacturing\",\"Manufacturing\",\"Education\",\"Finance\",\"Retail\",\"Manufacturing\",\"Consulting\",\"Retail\",\"Manufacturing\",\"Consulting\",\"IT\",\"IT\",\"Manufacturing\",\"IT\",\"Education\",\"Education\",\"Education\",\"Retail\",\"Finance\",\"Finance\",\"Finance\",\"Healthcare\",\"Retail\",\"Retail\",\"Manufacturing\",\"IT\",\"Finance\",\"Manufacturing\",\"IT\",\"Consulting\",\"IT\",\"Consulting\",\"IT\",\"IT\",\"IT\",\"Healthcare\",\"IT\",\"IT\",\"IT\",\"Healthcare\",\"Consulting\",\"Consulting\",\"Finance\",\"Healthcare\",\"Manufacturing\",\"IT\",\"Retail\",\"Manufacturing\",\"IT\",\"Consulting\",\"Manufacturing\",\"Healthcare\",\"Healthcare\",\"Finance\",\"Consulting\",\"IT\",\"Healthcare\",\"Education\",\"Manufacturing\",\"Finance\",\"Finance\",\"Healthcare\",\"Manufacturing\",\"Consulting\",\"Retail\",\"Manufacturing\",\"IT\",\"Retail\",\"Consulting\",\"Finance\",\"Manufacturing\",\"Education\",\"Finance\",\"IT\",\"Retail\",\"Manufacturing\",\"Education\",\"Retail\",\"Manufacturing\",\"Finance\",\"Consulting\",\"Education\",\"Manufacturing\",\"Education\",\"Consulting\",\"Education\",\"Manufacturing\",\"Consulting\",\"Healthcare\",\"Healthcare\",\"Consulting\",\"IT\",\"Education\",\"Healthcare\",\"Consulting\",\"Finance\",\"Education\",\"IT\",\"Consulting\",\"Healthcare\",\"Consulting\",\"Consulting\",\"Consulting\",\"Education\",\"Consulting\",\"Consulting\",\"Healthcare\",\"Finance\",\"IT\",\"Consulting\",\"Finance\",\"Finance\",\"Finance\",\"Healthcare\",\"Manufacturing\",\"IT\",\"IT\",\"IT\",\"Manufacturing\",\"IT\",\"Education\",\"Manufacturing\",\"IT\",\"Consulting\",\"Healthcare\",\"Finance\",\"Healthcare\",\"Education\",\"Manufacturing\",\"Finance\",\"Consulting\",\"Consulting\",\"Manufacturing\",\"IT\",\"Retail\",\"Healthcare\",\"Finance\",\"Manufacturing\",\"Retail\",\"Manufacturing\",\"Finance\",\"Education\",\"Finance\",\"Education\",\"Manufacturing\",\"Education\",\"Retail\",\"Consulting\",\"Consulting\",\"Retail\",\"Finance\",\"Education\",\"Education\",\"Retail\",\"Consulting\",\"Education\",\"Manufacturing\",\"Retail\",\"IT\",\"Finance\",\"IT\",\"Consulting\",\"Consulting\",\"Healthcare\",\"IT\",\"Retail\",\"Finance\",\"Manufacturing\",\"Healthcare\",\"Retail\",\"Consulting\",\"Healthcare\",\"IT\",\"Education\",\"IT\",\"Healthcare\",\"Retail\",\"Manufacturing\",\"Manufacturing\",\"IT\",\"IT\",\"Finance\",\"Manufacturing\",\"Manufacturing\",\"Retail\",\"Finance\",\"Healthcare\",\"Consulting\",\"Finance\",\"Finance\",\"Finance\",\"Manufacturing\",\"Education\",\"Consulting\",\"IT\",\"IT\",\"Finance\",\"Finance\",\"Education\",\"Finance\",\"IT\",\"IT\",\"Manufacturing\",\"Healthcare\",\"IT\",\"Consulting\",\"Consulting\",\"Finance\",\"Education\",\"Consulting\",\"Consulting\",\"Finance\",\"Manufacturing\",\"Retail\",\"Retail\",\"Finance\",\"Finance\",\"Finance\",\"Education\",\"Manufacturing\",\"Manufacturing\",\"Retail\",\"Finance\",\"Finance\",\"Retail\",\"Education\",\"Finance\",\"Education\",\"Healthcare\",\"Finance\",\"Consulting\",\"Healthcare\",\"IT\",\"Consulting\",\"Healthcare\",\"Finance\",\"Consulting\",\"Finance\",\"IT\",\"Education\",\"Consulting\",\"Finance\",\"Retail\",\"Manufacturing\",\"Healthcare\",\"Healthcare\",\"Education\",\"Retail\",\"Healthcare\",\"IT\",\"IT\",\"IT\",\"Manufacturing\",\"IT\",\"Finance\",\"Consulting\",\"Healthcare\",\"Finance\",\"Finance\",\"Education\",\"IT\",\"Healthcare\",\"Consulting\",\"Manufacturing\",\"Finance\",\"Consulting\",\"Education\",\"Education\",\"Manufacturing\",\"Finance\",\"Finance\",\"Consulting\",\"Consulting\",\"Education\",\"Retail\",\"Retail\",\"Healthcare\",\"Retail\",\"Healthcare\",\"Education\",\"Finance\",\"Finance\",\"Education\",\"Healthcare\",\"Retail\",\"Education\",\"IT\",\"Finance\",\"Retail\",\"Retail\",\"Education\",\"Healthcare\",\"Consulting\",\"Consulting\",\"Consulting\",\"Finance\",\"IT\",\"Retail\",\"IT\",\"Finance\",\"Education\",\"IT\",\"Retail\",\"Consulting\",\"Healthcare\",\"Healthcare\",\"Healthcare\",\"Retail\",\"Retail\",\"Healthcare\",\"Finance\",\"IT\",\"IT\",\"Finance\",\"Healthcare\",\"IT\",\"IT\",\"Finance\",\"Education\",\"IT\",\"Finance\",\"Healthcare\",\"Consulting\",\"Consulting\",\"Healthcare\",\"Healthcare\",\"Finance\",\"Education\",\"Consulting\",\"Retail\",\"Manufacturing\",\"Healthcare\",\"Education\",\"IT\",\"Manufacturing\",\"Consulting\",\"Finance\",\"Manufacturing\",\"Finance\",\"Retail\",\"Retail\",\"Education\",\"Education\",\"Consulting\",\"Retail\",\"Consulting\",\"IT\",\"Healthcare\",\"Consulting\",\"Healthcare\",\"Retail\",\"Manufacturing\",\"Finance\",\"Consulting\",\"Finance\",\"Healthcare\",\"Healthcare\",\"Education\",\"IT\",\"Finance\",\"IT\",\"Retail\",\"Education\",\"Finance\",\"Healthcare\",\"Healthcare\",\"Consulting\",\"Healthcare\",\"Retail\",\"Retail\",\"Finance\",\"Healthcare\",\"Education\",\"Education\",\"Healthcare\",\"Finance\",\"Finance\",\"Consulting\",\"IT\",\"IT\",\"IT\",\"Education\",\"IT\",\"Consulting\",\"IT\",\"IT\",\"Education\",\"Finance\",\"Finance\",\"Manufacturing\",\"Retail\",\"Education\",\"Healthcare\",\"Manufacturing\",\"Manufacturing\",\"Consulting\",\"Education\",\"IT\",\"Consulting\",\"Retail\",\"Manufacturing\",\"Consulting\",\"Finance\",\"Retail\",\"Manufacturing\",\"Retail\",\"Healthcare\",\"Finance\",\"Retail\",\"Retail\",\"Education\",\"Education\",\"Retail\",\"IT\",\"Education\",\"Healthcare\",\"Manufacturing\",\"IT\",\"Consulting\",\"Retail\",\"Retail\",\"Finance\",\"Healthcare\",\"Retail\",\"Healthcare\",\"Finance\",\"Consulting\",\"Healthcare\",\"Finance\",\"Manufacturing\",\"Retail\",\"Healthcare\",\"Healthcare\",\"Manufacturing\",\"Consulting\",\"Healthcare\",\"Consulting\",\"Finance\",\"Retail\",\"Healthcare\",\"Finance\",\"Consulting\",\"IT\",\"Finance\",\"Healthcare\",\"Consulting\",\"Retail\",\"Education\",\"Finance\",\"Consulting\",\"IT\",\"Education\",\"Manufacturing\",\"Finance\",\"Retail\",\"Manufacturing\",\"Retail\",\"Healthcare\",\"Consulting\",\"Retail\",\"Consulting\",\"Healthcare\",\"Finance\",\"Consulting\",\"Education\",\"Retail\",\"Healthcare\",\"Finance\",\"IT\",\"Consulting\",\"Manufacturing\",\"Healthcare\",\"IT\",\"Education\",\"Manufacturing\",\"Retail\",\"Finance\",\"Healthcare\",\"Education\",\"Finance\",\"Healthcare\",\"Education\",\"Manufacturing\",\"Finance\",\"Education\",\"Education\",\"Manufacturing\",\"Education\",\"Retail\",\"IT\",\"Manufacturing\",\"Education\",\"Consulting\",\"Manufacturing\",\"Retail\",\"Manufacturing\",\"Finance\",\"Manufacturing\",\"Healthcare\",\"Manufacturing\",\"Manufacturing\",\"Retail\",\"Retail\",\"Consulting\",\"Consulting\",\"Healthcare\",\"Education\",\"Manufacturing\",\"Finance\",\"Finance\",\"Education\",\"Finance\",\"Education\",\"IT\",\"Consulting\",\"Consulting\",\"Consulting\",\"Retail\",\"Retail\",\"Manufacturing\",\"Finance\",\"Healthcare\",\"Retail\",\"Manufacturing\",\"IT\",\"IT\",\"Finance\",\"Education\",\"Education\",\"Consulting\",\"Healthcare\",\"IT\",\"Manufacturing\",\"Consulting\",\"Manufacturing\",\"Education\",\"Consulting\",\"Education\",\"Finance\",\"Finance\",\"Healthcare\",\"Consulting\",\"Healthcare\",\"Retail\",\"Retail\",\"Healthcare\",\"IT\",\"IT\",\"Healthcare\",\"IT\",\"Consulting\",\"Healthcare\",\"Healthcare\",\"Consulting\",\"Healthcare\",\"Consulting\",\"Education\",\"Finance\",\"Education\",\"Manufacturing\",\"Education\",\"Healthcare\",\"Healthcare\",\"IT\",\"Education\",\"Consulting\",\"Healthcare\",\"Finance\",\"IT\",\"IT\",\"Retail\",\"Healthcare\",\"Healthcare\",\"IT\",\"IT\",\"IT\",\"Finance\",\"Retail\",\"Education\",\"Education\",\"Education\",\"Finance\",\"Healthcare\",\"Healthcare\",\"Retail\",\"Manufacturing\",\"Finance\",\"Healthcare\",\"Manufacturing\",\"Healthcare\",\"Healthcare\",\"Education\",\"Manufacturing\",\"IT\",\"Finance\",\"Retail\",\"Consulting\",\"Consulting\",\"Finance\",\"Education\",\"Retail\",\"Manufacturing\",\"Retail\",\"Healthcare\",\"Retail\",\"Finance\",\"Retail\",\"Education\",\"Retail\",\"Manufacturing\",\"Manufacturing\",\"Retail\",\"Retail\",\"Finance\",\"Healthcare\",\"Education\",\"Healthcare\",\"Retail\",\"Manufacturing\",\"Healthcare\",\"IT\",\"Retail\",\"IT\",\"Retail\",\"Finance\",\"Education\",\"IT\",\"Healthcare\",\"Education\",\"Consulting\",\"Manufacturing\",\"Healthcare\",\"Consulting\",\"Healthcare\",\"Healthcare\",\"IT\",\"IT\",\"Manufacturing\",\"Manufacturing\",\"Consulting\",\"Finance\",\"Manufacturing\",\"Retail\",\"Healthcare\",\"Retail\",\"Finance\",\"Education\",\"Consulting\",\"Retail\",\"Healthcare\",\"Manufacturing\",\"Education\",\"Healthcare\",\"Finance\",\"Finance\",\"Retail\",\"Retail\",\"Manufacturing\",\"Retail\",\"Consulting\",\"Manufacturing\",\"Retail\",\"Retail\",\"IT\",\"Consulting\",\"Finance\",\"Healthcare\",\"Manufacturing\",\"Finance\",\"Education\",\"Finance\",\"IT\",\"Manufacturing\",\"IT\",\"Manufacturing\",\"IT\",\"Manufacturing\",\"Finance\",\"Finance\",\"Consulting\",\"Healthcare\",\"Manufacturing\",\"Healthcare\",\"IT\",\"IT\",\"Manufacturing\",\"Manufacturing\",\"Consulting\",\"IT\",\"Retail\",\"Education\",\"Manufacturing\",\"Education\",\"Consulting\",\"Healthcare\",\"Education\",\"Consulting\",\"IT\",\"IT\",\"Healthcare\",\"Education\",\"IT\",\"Manufacturing\",\"Consulting\",\"Education\",\"Healthcare\",\"Finance\",\"Consulting\",\"Education\",\"Finance\",\"Manufacturing\",\"Manufacturing\",\"Finance\",\"Healthcare\",\"Healthcare\",\"Manufacturing\",\"IT\",\"Retail\",\"Manufacturing\",\"Consulting\",\"Finance\",\"Retail\",\"Education\",\"Education\",\"Manufacturing\",\"Education\",\"IT\",\"Healthcare\",\"Retail\",\"IT\",\"Finance\",\"Manufacturing\",\"Finance\",\"Retail\",\"Consulting\",\"Consulting\",\"Consulting\",\"IT\",\"Healthcare\",\"Manufacturing\",\"Finance\",\"Manufacturing\",\"Education\",\"Healthcare\",\"Retail\",\"Manufacturing\",\"Manufacturing\",\"Education\",\"IT\",\"Finance\",\"Healthcare\",\"Healthcare\",\"Consulting\",\"IT\",\"Manufacturing\",\"Consulting\",\"Finance\",\"Consulting\",\"Retail\",\"IT\",\"IT\",\"IT\",\"IT\",\"Consulting\",\"Consulting\",\"Manufacturing\",\"Manufacturing\",\"Finance\",\"Retail\",\"Education\",\"Education\",\"Consulting\",\"Consulting\",\"Healthcare\",\"Manufacturing\",\"Consulting\",\"Healthcare\",\"Finance\",\"Education\",\"Healthcare\",\"Manufacturing\",\"Manufacturing\",\"IT\",\"IT\",\"Healthcare\",\"Education\",\"Finance\",\"IT\",\"IT\",\"Retail\",\"Healthcare\",\"Education\",\"Consulting\",\"Consulting\",\"Manufacturing\",\"Finance\",\"Consulting\",\"Finance\",\"Education\",\"Retail\",\"Manufacturing\",\"Finance\",\"Healthcare\",\"IT\",\"IT\",\"Education\",\"Finance\",\"Education\",\"Finance\",\"Healthcare\",\"Finance\",\"Healthcare\",\"Consulting\",\"IT\",\"Healthcare\",\"Retail\",\"Education\",\"Healthcare\",\"Healthcare\",\"Finance\",\"IT\",\"Consulting\",\"Healthcare\",\"Healthcare\",\"Finance\",\"Healthcare\",\"Healthcare\",\"Finance\",\"Retail\",\"Healthcare\",\"Retail\",\"Education\",\"Finance\",\"Education\",\"Education\",\"Retail\",\"IT\",\"Retail\",\"Manufacturing\",\"Retail\",\"Education\",\"Education\",\"Retail\",\"Finance\",\"Consulting\",\"Consulting\",\"IT\",\"Manufacturing\",\"Manufacturing\",\"Consulting\",\"Consulting\",\"Healthcare\",\"IT\",\"Retail\",\"IT\",\"Education\",\"IT\",\"Manufacturing\",\"Healthcare\",\"IT\",\"Manufacturing\",\"Retail\",\"IT\",\"Finance\",\"Consulting\",\"Education\",\"Education\",\"Finance\",\"Finance\",\"Retail\",\"Finance\",\"Healthcare\",\"Finance\",\"Healthcare\",\"Consulting\",\"Healthcare\",\"Healthcare\",\"IT\",\"Finance\",\"Retail\",\"Education\",\"Consulting\",\"Education\",\"Education\",\"Retail\",\"Retail\",\"Healthcare\",\"Consulting\",\"Consulting\",\"Finance\",\"Finance\",\"Education\",\"Healthcare\",\"IT\",\"Manufacturing\",\"Healthcare\",\"Consulting\",\"Manufacturing\",\"Education\",\"IT\",\"Manufacturing\",\"Healthcare\",\"Manufacturing\",\"IT\",\"Retail\",\"IT\",\"Manufacturing\",\"Manufacturing\",\"Finance\",\"Manufacturing\",\"IT\",\"Education\",\"Consulting\",\"Healthcare\",\"Manufacturing\",\"Education\",\"IT\",\"Healthcare\",\"Finance\",\"IT\",\"Manufacturing\",\"Consulting\",\"Education\",\"Healthcare\",\"Education\",\"Retail\",\"Manufacturing\",\"Finance\",\"Retail\",\"Manufacturing\",\"IT\",\"Healthcare\",\"Manufacturing\",\"Finance\",\"Retail\",\"Healthcare\",\"IT\",\"Consulting\",\"Healthcare\",\"Education\",\"Manufacturing\",\"Retail\",\"IT\",\"Consulting\",\"Finance\",\"Manufacturing\",\"Healthcare\",\"IT\",\"Healthcare\",\"Finance\",\"Healthcare\",\"Consulting\",\"Consulting\",\"Retail\",\"Retail\",\"Retail\",\"Healthcare\",\"Education\",\"Education\",\"Consulting\",\"Education\",\"IT\",\"IT\",\"Retail\",\"Healthcare\",\"Finance\",\"Retail\",\"Healthcare\",\"IT\",\"Manufacturing\",\"Finance\",\"Healthcare\",\"Healthcare\",\"Healthcare\",\"Retail\",\"IT\",\"IT\",\"Healthcare\",\"Consulting\",\"Education\",\"Healthcare\",\"Education\",\"Healthcare\",\"Healthcare\",\"Consulting\",\"Consulting\",\"Finance\",\"Finance\",\"Healthcare\",\"IT\",\"Consulting\",\"IT\",\"Manufacturing\",\"IT\",\"Manufacturing\",\"IT\",\"IT\",\"Manufacturing\",\"Education\",\"Healthcare\",\"Healthcare\",\"IT\",\"Healthcare\",\"Consulting\",\"Education\",\"IT\",\"Consulting\",\"Finance\",\"Retail\",\"IT\",\"Consulting\",\"Finance\",\"Healthcare\",\"Consulting\",\"Finance\",\"Retail\",\"IT\",\"Finance\",\"Healthcare\",\"Manufacturing\",\"IT\",\"Healthcare\",\"Retail\",\"IT\",\"Finance\",\"Healthcare\",\"IT\",\"Retail\",\"Manufacturing\",\"Finance\",\"Manufacturing\",\"Finance\",\"Retail\",\"Education\",\"IT\",\"Education\",\"Education\",\"Manufacturing\",\"IT\",\"Finance\",\"Education\",\"Manufacturing\",\"Consulting\",\"Consulting\",\"Healthcare\",\"Manufacturing\",\"IT\",\"Manufacturing\",\"Education\",\"Education\",\"Manufacturing\",\"Retail\",\"IT\",\"Manufacturing\",\"Finance\",\"Education\",\"Manufacturing\",\"Manufacturing\",\"Manufacturing\",\"Finance\",\"IT\",\"Education\",\"Healthcare\",\"Education\",\"Manufacturing\",\"Education\",\"Finance\",\"Education\",\"Manufacturing\",\"Manufacturing\",\"Retail\",\"Finance\",\"Healthcare\",\"Consulting\",\"Retail\",\"Finance\",\"IT\",\"Retail\",\"Retail\",\"IT\",\"Retail\",\"IT\",\"Manufacturing\",\"IT\",\"Finance\",\"Healthcare\",\"Finance\",\"Retail\",\"Manufacturing\",\"Finance\",\"Healthcare\",\"Consulting\",\"Finance\",\"Finance\",\"Manufacturing\",\"Education\",\"Healthcare\",\"Education\",\"Finance\",\"Retail\",\"IT\",\"Manufacturing\",\"Consulting\",\"Manufacturing\",\"Retail\",\"Manufacturing\",\"Education\",\"Finance\",\"Consulting\",\"Healthcare\",\"Retail\",\"Consulting\",\"IT\",\"IT\",\"Finance\",\"Finance\",\"IT\",\"Retail\",\"IT\",\"Education\",\"Finance\",\"Retail\",\"Retail\",\"Manufacturing\",\"Healthcare\",\"Retail\",\"Manufacturing\",\"IT\",\"Retail\",\"Education\",\"Retail\",\"IT\",\"Consulting\",\"Retail\",\"IT\",\"Healthcare\"],\"yaxis\":\"y\",\"type\":\"bar\"},{\"alignmentgroup\":\"True\",\"hovertemplate\":\"Work_Location=Remote\\u003cbr\\u003eNumber of people=%{x}\\u003cbr\\u003eIndustries=%{y}\\u003cextra\\u003e\\u003c\\u002fextra\\u003e\",\"legendgroup\":\"Remote\",\"marker\":{\"color\":\"#EF553B\",\"pattern\":{\"shape\":\"\"}},\"name\":\"Remote\",\"offsetgroup\":\"Remote\",\"orientation\":\"h\",\"showlegend\":true,\"textposition\":\"auto\",\"x\":[1,1,1,1,1,1,1,1,1,1,1,1,1,1,1,1,1,1,1,1,1,1,1,1,1,1,1,1,1,1,1,1,1,1,1,1,1,1,1,1,1,1,1,1,1,1,1,1,1,1,1,1,1,1,1,1,1,1,1,1,1,1,1,1,1,1,1,1,1,1,1,1,1,1,1,1,1,1,1,1,1,1,1,1,1,1,1,1,1,1,1,1,1,1,1,1,1,1,1,1,1,1,1,1,1,1,1,1,1,1,1,1,1,1,1,1,1,1,1,1,1,1,1,1,1,1,1,1,1,1,1,1,1,1,1,1,1,1,1,1,1,1,1,1,1,1,1,1,1,1,1,1,1,1,1,1,1,1,1,1,1,1,1,1,1,1,1,1,1,1,1,1,1,1,1,1,1,1,1,1,1,1,1,1,1,1,1,1,1,1,1,1,1,1,1,1,1,1,1,1,1,1,1,1,1,1,1,1,1,1,1,1,1,1,1,1,1,1,1,1,1,1,1,1,1,1,1,1,1,1,1,1,1,1,1,1,1,1,1,1,1,1,1,1,1,1,1,1,1,1,1,1,1,1,1,1,1,1,1,1,1,1,1,1,1,1,1,1,1,1,1,1,1,1,1,1,1,1,1,1,1,1,1,1,1,1,1,1,1,1,1,1,1,1,1,1,1,1,1,1,1,1,1,1,1,1,1,1,1,1,1,1,1,1,1,1,1,1,1,1,1,1,1,1,1,1,1,1,1,1,1,1,1,1,1,1,1,1,1,1,1,1,1,1,1,1,1,1,1,1,1,1,1,1,1,1,1,1,1,1,1,1,1,1,1,1,1,1,1,1,1,1,1,1,1,1,1,1,1,1,1,1,1,1,1,1,1,1,1,1,1,1,1,1,1,1,1,1,1,1,1,1,1,1,1,1,1,1,1,1,1,1,1,1,1,1,1,1,1,1,1,1,1,1,1,1,1,1,1,1,1,1,1,1,1,1,1,1,1,1,1,1,1,1,1,1,1,1,1,1,1,1,1,1,1,1,1,1,1,1,1,1,1,1,1,1,1,1,1,1,1,1,1,1,1,1,1,1,1,1,1,1,1,1,1,1,1,1,1,1,1,1,1,1,1,1,1,1,1,1,1,1,1,1,1,1,1,1,1,1,1,1,1,1,1,1,1,1,1,1,1,1,1,1,1,1,1,1,1,1,1,1,1,1,1,1,1,1,1,1,1,1,1,1,1,1,1,1,1,1,1,1,1,1,1,1,1,1,1,1,1,1,1,1,1,1,1,1,1,1,1,1,1,1,1,1,1,1,1,1,1,1,1,1,1,1,1,1,1,1,1,1,1,1,1,1,1,1,1,1,1,1,1,1,1,1,1,1,1,1,1,1,1,1,1,1,1,1,1,1,1,1,1,1,1,1,1,1,1,1,1,1,1,1,1,1,1,1,1,1,1,1,1,1,1,1,1,1,1,1,1,1,1,1,1,1,1,1,1,1,1,1,1,1,1,1,1,1,1,1,1,1,1,1,1,1,1,1,1,1,1,1,1,1,1,1,1,1,1,1,1,1,1,1,1,1,1,1,1,1,1,1,1,1,1,1,1,1,1,1,1,1,1,1,1,1,1,1,1,1,1,1,1,1,1,1,1,1,1,1,1,1,1,1,1,1,1,1,1,1,1,1,1,1,1,1,1,1,1,1,1,1,1,1,1,1,1,1,1,1,1,1,1,1,1,1,1,1,1,1,1,1,1,1,1,1,1,1,1,1,1,1,1,1,1,1,1,1,1,1,1,1,1,1,1,1,1,1,1,1,1,1,1,1,1,1,1,1,1,1,1,1,1,1,1,1,1,1,1,1,1,1,1,1,1,1,1,1,1,1,1,1,1,1,1,1,1,1,1,1,1,1,1,1,1,1,1,1,1,1,1,1,1,1,1,1,1,1,1,1,1,1,1,1,1,1,1,1,1,1,1,1,1,1,1,1,1,1,1,1,1,1,1,1,1,1,1,1,1,1,1,1,1,1,1,1,1,1,1,1,1,1,1,1,1,1,1,1,1,1,1,1,1,1,1,1,1,1,1,1,1,1,1,1,1,1,1,1,1,1,1,1,1,1,1,1,1,1,1,1,1,1,1,1,1,1,1,1,1,1,1,1,1,1,1,1,1,1,1,1,1,1,1,1,1,1,1,1,1,1,1,1,1,1,1,1,1,1,1,1,1,1,1,1,1,1,1,1,1,1,1,1,1,1,1,1,1,1,1,1,1,1,1,1,1,1,1,1,1,1,1,1,1,1,1,1,1,1,1,1,1,1,1,1,1,1,1,1,1,1,1,1,1,1,1,1,1,1,1,1,1,1,1,1,1,1,1,1,1,1,1,1,1,1,1,1,1,1,1,1,1,1,1,1,1,1,1,1,1,1,1,1,1,1,1,1,1,1,1,1,1,1,1,1,1,1,1,1,1,1,1,1,1,1,1,1,1,1,1,1,1,1,1,1,1,1,1,1,1,1,1,1,1,1,1,1,1,1,1,1,1,1,1,1,1,1,1,1,1,1,1,1,1,1,1,1,1,1,1,1,1,1,1,1,1,1,1,1,1,1,1,1,1,1,1,1,1,1,1,1,1,1,1,1,1,1,1,1,1,1,1,1,1,1,1,1,1,1,1,1,1,1,1,1,1,1,1,1,1,1,1,1,1,1,1,1,1,1,1,1,1,1,1,1,1,1,1,1,1,1,1,1,1,1,1,1,1,1,1,1,1,1,1,1,1,1,1,1,1,1,1,1,1,1,1,1,1,1,1,1,1,1,1,1,1,1,1,1,1,1,1,1,1,1,1,1,1,1,1,1,1,1,1,1,1,1,1,1,1,1,1,1,1,1,1,1,1,1,1,1,1,1,1,1,1,1,1,1,1,1,1,1,1,1,1,1,1,1,1,1,1,1,1,1,1,1,1,1,1,1,1,1,1,1,1,1,1,1,1,1,1,1,1,1,1,1,1,1,1,1,1,1,1,1,1,1,1,1,1,1,1,1,1,1,1,1,1,1,1,1,1,1,1,1,1,1,1,1,1,1,1,1,1,1,1,1,1,1,1,1,1,1,1,1,1,1,1,1,1,1,1,1,1,1,1,1,1,1,1,1,1,1,1,1,1,1,1,1,1,1,1,1,1,1,1,1,1,1,1,1,1,1,1,1,1,1,1,1,1,1,1,1,1,1,1,1,1,1,1,1,1,1,1,1,1,1,1,1,1,1,1,1,1,1,1,1,1,1,1,1,1,1,1,1,1,1,1,1,1,1,1,1,1,1,1,1,1,1,1,1,1,1,1,1,1,1,1,1,1,1,1,1,1,1,1,1,1,1,1,1,1,1,1,1,1,1,1,1,1,1,1,1,1,1,1,1,1,1,1,1,1,1,1,1,1,1,1,1,1,1,1,1,1,1,1,1,1,1,1,1,1,1,1,1,1,1,1,1,1,1,1,1,1,1,1,1,1,1,1,1,1,1,1,1,1,1,1,1,1,1,1,1,1,1,1,1,1,1,1,1,1,1,1,1,1,1,1,1,1,1,1,1,1,1,1,1,1,1,1,1,1,1,1,1,1,1,1,1,1,1,1,1,1,1,1,1,1,1,1,1,1,1,1,1,1,1,1,1,1,1,1,1,1,1,1,1,1,1,1,1,1,1,1,1,1,1,1,1,1,1,1,1,1,1,1,1,1,1,1,1,1,1,1,1,1,1,1,1,1,1,1,1,1,1,1,1,1,1,1,1,1,1,1,1,1,1,1,1,1,1,1,1,1,1,1,1,1,1,1,1,1,1,1,1,1,1,1,1,1,1,1,1,1,1,1,1,1,1,1,1,1,1,1,1],\"xaxis\":\"x\",\"y\":[\"IT\",\"IT\",\"Finance\",\"Consulting\",\"Retail\",\"Healthcare\",\"IT\",\"Consulting\",\"Finance\",\"Healthcare\",\"Manufacturing\",\"Healthcare\",\"Healthcare\",\"IT\",\"Finance\",\"Manufacturing\",\"Retail\",\"Retail\",\"Education\",\"Consulting\",\"Consulting\",\"IT\",\"Manufacturing\",\"IT\",\"IT\",\"Finance\",\"Education\",\"Finance\",\"Consulting\",\"Healthcare\",\"Manufacturing\",\"Consulting\",\"Education\",\"Manufacturing\",\"Healthcare\",\"Finance\",\"Finance\",\"Retail\",\"Healthcare\",\"Education\",\"Manufacturing\",\"Finance\",\"Education\",\"Manufacturing\",\"IT\",\"Healthcare\",\"IT\",\"Education\",\"Education\",\"Consulting\",\"Finance\",\"Consulting\",\"Consulting\",\"Consulting\",\"Consulting\",\"Retail\",\"Healthcare\",\"Retail\",\"Manufacturing\",\"Healthcare\",\"IT\",\"Consulting\",\"Consulting\",\"Education\",\"Education\",\"Retail\",\"Finance\",\"Retail\",\"Retail\",\"Manufacturing\",\"Consulting\",\"Manufacturing\",\"Education\",\"Manufacturing\",\"Healthcare\",\"Consulting\",\"Finance\",\"Manufacturing\",\"IT\",\"Education\",\"Retail\",\"Healthcare\",\"Manufacturing\",\"IT\",\"Education\",\"Education\",\"Manufacturing\",\"Healthcare\",\"Manufacturing\",\"Healthcare\",\"Education\",\"IT\",\"Healthcare\",\"Consulting\",\"Retail\",\"Healthcare\",\"Finance\",\"Retail\",\"IT\",\"Education\",\"Retail\",\"Education\",\"Education\",\"Manufacturing\",\"Education\",\"Healthcare\",\"Education\",\"Education\",\"Manufacturing\",\"Finance\",\"Education\",\"Education\",\"Manufacturing\",\"Education\",\"Healthcare\",\"Finance\",\"Manufacturing\",\"Manufacturing\",\"Manufacturing\",\"Education\",\"Education\",\"Healthcare\",\"Healthcare\",\"Healthcare\",\"Consulting\",\"Education\",\"Education\",\"Education\",\"IT\",\"Healthcare\",\"Consulting\",\"Retail\",\"Healthcare\",\"IT\",\"Consulting\",\"Consulting\",\"Retail\",\"Finance\",\"Consulting\",\"Healthcare\",\"Education\",\"IT\",\"Finance\",\"Finance\",\"Finance\",\"Consulting\",\"Healthcare\",\"Retail\",\"Healthcare\",\"Finance\",\"Education\",\"Manufacturing\",\"Retail\",\"Manufacturing\",\"IT\",\"Healthcare\",\"Manufacturing\",\"Manufacturing\",\"Education\",\"Retail\",\"Education\",\"Education\",\"Consulting\",\"Healthcare\",\"Finance\",\"Education\",\"Finance\",\"Retail\",\"Education\",\"Healthcare\",\"Consulting\",\"Finance\",\"Manufacturing\",\"Education\",\"IT\",\"Finance\",\"IT\",\"Finance\",\"Healthcare\",\"Education\",\"Healthcare\",\"IT\",\"Retail\",\"Healthcare\",\"IT\",\"Manufacturing\",\"Education\",\"Education\",\"Retail\",\"Healthcare\",\"Consulting\",\"Finance\",\"IT\",\"Finance\",\"Education\",\"Finance\",\"Retail\",\"IT\",\"Healthcare\",\"IT\",\"Finance\",\"Finance\",\"Education\",\"Consulting\",\"Finance\",\"Education\",\"IT\",\"Manufacturing\",\"Finance\",\"Consulting\",\"Finance\",\"Manufacturing\",\"IT\",\"Consulting\",\"Education\",\"IT\",\"Education\",\"Consulting\",\"Retail\",\"Retail\",\"Retail\",\"Finance\",\"Education\",\"Retail\",\"Manufacturing\",\"IT\",\"Healthcare\",\"Retail\",\"IT\",\"Healthcare\",\"IT\",\"Retail\",\"Healthcare\",\"Finance\",\"IT\",\"Retail\",\"Consulting\",\"Consulting\",\"IT\",\"Manufacturing\",\"Finance\",\"Consulting\",\"Healthcare\",\"Healthcare\",\"Finance\",\"IT\",\"Manufacturing\",\"Education\",\"Manufacturing\",\"Manufacturing\",\"Healthcare\",\"Finance\",\"IT\",\"Healthcare\",\"Healthcare\",\"Education\",\"Consulting\",\"Manufacturing\",\"Manufacturing\",\"Retail\",\"Consulting\",\"Healthcare\",\"Healthcare\",\"Education\",\"Healthcare\",\"Retail\",\"IT\",\"Healthcare\",\"Healthcare\",\"Consulting\",\"IT\",\"Manufacturing\",\"Healthcare\",\"Education\",\"Retail\",\"Retail\",\"Education\",\"IT\",\"Retail\",\"Manufacturing\",\"IT\",\"IT\",\"Finance\",\"IT\",\"Manufacturing\",\"IT\",\"Finance\",\"IT\",\"Manufacturing\",\"Healthcare\",\"Healthcare\",\"Healthcare\",\"Finance\",\"Retail\",\"Manufacturing\",\"Education\",\"Retail\",\"Consulting\",\"IT\",\"Consulting\",\"Education\",\"Consulting\",\"Retail\",\"Finance\",\"IT\",\"Healthcare\",\"IT\",\"Consulting\",\"IT\",\"Retail\",\"Education\",\"Education\",\"Healthcare\",\"Retail\",\"Healthcare\",\"Finance\",\"Education\",\"Retail\",\"Retail\",\"Manufacturing\",\"Manufacturing\",\"Healthcare\",\"Healthcare\",\"Manufacturing\",\"Healthcare\",\"Consulting\",\"Finance\",\"Finance\",\"Finance\",\"Retail\",\"Retail\",\"Education\",\"Consulting\",\"Finance\",\"Finance\",\"Manufacturing\",\"Consulting\",\"Finance\",\"Manufacturing\",\"IT\",\"Healthcare\",\"IT\",\"Healthcare\",\"Education\",\"Retail\",\"IT\",\"Retail\",\"Manufacturing\",\"Manufacturing\",\"IT\",\"Retail\",\"Education\",\"Consulting\",\"Finance\",\"Healthcare\",\"Finance\",\"Manufacturing\",\"Retail\",\"IT\",\"Manufacturing\",\"Healthcare\",\"Healthcare\",\"Retail\",\"IT\",\"IT\",\"Healthcare\",\"Consulting\",\"Retail\",\"Finance\",\"Finance\",\"Finance\",\"Education\",\"Healthcare\",\"Manufacturing\",\"Consulting\",\"Retail\",\"Manufacturing\",\"Retail\",\"IT\",\"Education\",\"Education\",\"Manufacturing\",\"Retail\",\"Healthcare\",\"Education\",\"Consulting\",\"IT\",\"Healthcare\",\"Healthcare\",\"Education\",\"Retail\",\"Retail\",\"IT\",\"Healthcare\",\"Retail\",\"Finance\",\"Education\",\"Healthcare\",\"IT\",\"Retail\",\"Retail\",\"Healthcare\",\"Manufacturing\",\"Manufacturing\",\"Healthcare\",\"Finance\",\"Retail\",\"Finance\",\"IT\",\"Education\",\"IT\",\"Finance\",\"Finance\",\"Consulting\",\"Retail\",\"Retail\",\"Education\",\"Healthcare\",\"Finance\",\"Manufacturing\",\"Finance\",\"Retail\",\"Retail\",\"IT\",\"Manufacturing\",\"Finance\",\"Finance\",\"Retail\",\"Finance\",\"Retail\",\"Finance\",\"Consulting\",\"Finance\",\"Healthcare\",\"Consulting\",\"Consulting\",\"Healthcare\",\"Retail\",\"Finance\",\"Finance\",\"Finance\",\"Education\",\"Education\",\"Finance\",\"Consulting\",\"Healthcare\",\"IT\",\"Healthcare\",\"Finance\",\"Finance\",\"Consulting\",\"Healthcare\",\"Consulting\",\"Retail\",\"Education\",\"Manufacturing\",\"Healthcare\",\"Finance\",\"Consulting\",\"Healthcare\",\"Finance\",\"Education\",\"IT\",\"IT\",\"IT\",\"IT\",\"Healthcare\",\"Manufacturing\",\"Finance\",\"Manufacturing\",\"Healthcare\",\"Education\",\"Retail\",\"Finance\",\"Healthcare\",\"Education\",\"Finance\",\"Education\",\"Finance\",\"Manufacturing\",\"Consulting\",\"IT\",\"Retail\",\"Education\",\"IT\",\"Healthcare\",\"Finance\",\"Manufacturing\",\"IT\",\"Education\",\"Healthcare\",\"Education\",\"Consulting\",\"IT\",\"Manufacturing\",\"Healthcare\",\"Manufacturing\",\"Consulting\",\"Retail\",\"Finance\",\"Manufacturing\",\"Healthcare\",\"Finance\",\"Retail\",\"Manufacturing\",\"IT\",\"Healthcare\",\"Retail\",\"Retail\",\"Retail\",\"Finance\",\"Retail\",\"Consulting\",\"Education\",\"Education\",\"Healthcare\",\"Consulting\",\"Consulting\",\"Healthcare\",\"Consulting\",\"Retail\",\"Manufacturing\",\"IT\",\"Retail\",\"Education\",\"IT\",\"Consulting\",\"Consulting\",\"Finance\",\"Finance\",\"Retail\",\"IT\",\"Healthcare\",\"Finance\",\"Manufacturing\",\"Manufacturing\",\"Finance\",\"IT\",\"Finance\",\"IT\",\"Retail\",\"Consulting\",\"Consulting\",\"Retail\",\"Education\",\"Education\",\"Consulting\",\"Finance\",\"Retail\",\"IT\",\"Retail\",\"Retail\",\"Education\",\"Education\",\"Finance\",\"Manufacturing\",\"Finance\",\"Finance\",\"IT\",\"Consulting\",\"Healthcare\",\"IT\",\"Manufacturing\",\"Education\",\"Retail\",\"Education\",\"Finance\",\"IT\",\"Education\",\"Manufacturing\",\"Manufacturing\",\"Manufacturing\",\"IT\",\"Manufacturing\",\"Finance\",\"Finance\",\"Consulting\",\"Manufacturing\",\"Consulting\",\"Consulting\",\"Retail\",\"Retail\",\"Finance\",\"Retail\",\"Manufacturing\",\"Consulting\",\"Finance\",\"Education\",\"Manufacturing\",\"Healthcare\",\"Manufacturing\",\"IT\",\"IT\",\"Retail\",\"Healthcare\",\"Manufacturing\",\"Healthcare\",\"Manufacturing\",\"Retail\",\"IT\",\"Healthcare\",\"Consulting\",\"Healthcare\",\"IT\",\"Finance\",\"Consulting\",\"IT\",\"Healthcare\",\"Finance\",\"Healthcare\",\"Education\",\"Finance\",\"Healthcare\",\"Consulting\",\"IT\",\"Finance\",\"Finance\",\"IT\",\"Manufacturing\",\"Retail\",\"Consulting\",\"Finance\",\"Healthcare\",\"IT\",\"Finance\",\"Healthcare\",\"Retail\",\"Consulting\",\"Manufacturing\",\"IT\",\"Healthcare\",\"Healthcare\",\"Education\",\"IT\",\"Manufacturing\",\"Finance\",\"Manufacturing\",\"Consulting\",\"Healthcare\",\"Healthcare\",\"Healthcare\",\"Manufacturing\",\"Consulting\",\"Consulting\",\"Healthcare\",\"Manufacturing\",\"Retail\",\"Manufacturing\",\"Manufacturing\",\"Education\",\"Retail\",\"Finance\",\"Education\",\"Manufacturing\",\"Healthcare\",\"Healthcare\",\"Manufacturing\",\"Retail\",\"IT\",\"Healthcare\",\"Manufacturing\",\"Consulting\",\"Manufacturing\",\"Retail\",\"IT\",\"Healthcare\",\"Manufacturing\",\"Consulting\",\"Education\",\"Education\",\"Healthcare\",\"Healthcare\",\"Retail\",\"Healthcare\",\"IT\",\"Education\",\"Retail\",\"Retail\",\"Manufacturing\",\"IT\",\"Education\",\"Finance\",\"Manufacturing\",\"IT\",\"Education\",\"IT\",\"IT\",\"Finance\",\"Retail\",\"Consulting\",\"Retail\",\"Education\",\"IT\",\"Education\",\"Finance\",\"Education\",\"IT\",\"Manufacturing\",\"Healthcare\",\"Consulting\",\"Finance\",\"Manufacturing\",\"Retail\",\"Finance\",\"Education\",\"Consulting\",\"Retail\",\"Manufacturing\",\"Education\",\"Education\",\"Retail\",\"Consulting\",\"Retail\",\"Retail\",\"Manufacturing\",\"Healthcare\",\"Retail\",\"Consulting\",\"Consulting\",\"Manufacturing\",\"Healthcare\",\"Retail\",\"IT\",\"Consulting\",\"Retail\",\"Finance\",\"Manufacturing\",\"IT\",\"Retail\",\"Healthcare\",\"Healthcare\",\"Consulting\",\"IT\",\"Healthcare\",\"Healthcare\",\"Finance\",\"Consulting\",\"Retail\",\"Education\",\"Manufacturing\",\"Education\",\"IT\",\"Education\",\"Retail\",\"Finance\",\"Consulting\",\"Manufacturing\",\"Education\",\"Manufacturing\",\"Finance\",\"Finance\",\"IT\",\"Healthcare\",\"Education\",\"Manufacturing\",\"Manufacturing\",\"Education\",\"Finance\",\"Education\",\"Consulting\",\"Retail\",\"Retail\",\"IT\",\"Consulting\",\"Retail\",\"Education\",\"Retail\",\"Education\",\"Consulting\",\"Consulting\",\"Education\",\"Finance\",\"IT\",\"Manufacturing\",\"Retail\",\"Manufacturing\",\"Finance\",\"Finance\",\"Consulting\",\"Finance\",\"Manufacturing\",\"Retail\",\"Manufacturing\",\"Healthcare\",\"Consulting\",\"Manufacturing\",\"Education\",\"IT\",\"Education\",\"Manufacturing\",\"Finance\",\"Retail\",\"Consulting\",\"Consulting\",\"Consulting\",\"Education\",\"Healthcare\",\"Retail\",\"Retail\",\"IT\",\"Consulting\",\"Finance\",\"Finance\",\"Finance\",\"Retail\",\"IT\",\"IT\",\"Finance\",\"Retail\",\"Consulting\",\"Consulting\",\"Manufacturing\",\"Retail\",\"Retail\",\"Finance\",\"Manufacturing\",\"Retail\",\"Manufacturing\",\"Consulting\",\"Consulting\",\"Manufacturing\",\"IT\",\"Finance\",\"Consulting\",\"Education\",\"Retail\",\"Consulting\",\"Consulting\",\"IT\",\"Retail\",\"IT\",\"Healthcare\",\"Finance\",\"Education\",\"Manufacturing\",\"IT\",\"Education\",\"Finance\",\"Finance\",\"Retail\",\"Finance\",\"Retail\",\"IT\",\"Consulting\",\"Healthcare\",\"Retail\",\"IT\",\"Finance\",\"Education\",\"IT\",\"Manufacturing\",\"Manufacturing\",\"Finance\",\"Healthcare\",\"Education\",\"Manufacturing\",\"Education\",\"Healthcare\",\"Retail\",\"Retail\",\"Manufacturing\",\"Healthcare\",\"Manufacturing\",\"Retail\",\"Retail\",\"Consulting\",\"Manufacturing\",\"Finance\",\"Finance\",\"Healthcare\",\"Retail\",\"Manufacturing\",\"Retail\",\"Manufacturing\",\"IT\",\"Consulting\",\"Finance\",\"Education\",\"Healthcare\",\"Healthcare\",\"Healthcare\",\"Healthcare\",\"Retail\",\"Education\",\"Healthcare\",\"Healthcare\",\"Consulting\",\"IT\",\"Education\",\"Retail\",\"Finance\",\"Healthcare\",\"Healthcare\",\"Finance\",\"Healthcare\",\"Retail\",\"IT\",\"Education\",\"Healthcare\",\"Education\",\"Retail\",\"Manufacturing\",\"Consulting\",\"Finance\",\"Education\",\"Healthcare\",\"Healthcare\",\"Manufacturing\",\"Manufacturing\",\"Manufacturing\",\"Retail\",\"Finance\",\"IT\",\"IT\",\"Finance\",\"Consulting\",\"Retail\",\"Education\",\"Healthcare\",\"Consulting\",\"Consulting\",\"Education\",\"Retail\",\"Consulting\",\"Finance\",\"Finance\",\"Finance\",\"Finance\",\"Consulting\",\"Consulting\",\"Manufacturing\",\"Retail\",\"Education\",\"Consulting\",\"Retail\",\"Healthcare\",\"Finance\",\"IT\",\"Healthcare\",\"IT\",\"Manufacturing\",\"Retail\",\"Retail\",\"Consulting\",\"Healthcare\",\"Finance\",\"Education\",\"IT\",\"IT\",\"Consulting\",\"IT\",\"Healthcare\",\"Manufacturing\",\"IT\",\"Healthcare\",\"IT\",\"Retail\",\"Consulting\",\"Finance\",\"Retail\",\"Education\",\"Consulting\",\"Finance\",\"Education\",\"Consulting\",\"Consulting\",\"Education\",\"Finance\",\"Retail\",\"IT\",\"Manufacturing\",\"Retail\",\"Healthcare\",\"Healthcare\",\"Healthcare\",\"Manufacturing\",\"Healthcare\",\"Consulting\",\"Healthcare\",\"Manufacturing\",\"Retail\",\"IT\",\"Finance\",\"IT\",\"Healthcare\",\"Manufacturing\",\"Consulting\",\"Education\",\"IT\",\"IT\",\"Healthcare\",\"Finance\",\"Consulting\",\"Retail\",\"Finance\",\"Retail\",\"Manufacturing\",\"Finance\",\"Education\",\"Consulting\",\"Manufacturing\",\"Consulting\",\"Finance\",\"Education\",\"Retail\",\"Manufacturing\",\"Retail\",\"Consulting\",\"Consulting\",\"Consulting\",\"Finance\",\"IT\",\"Finance\",\"Retail\",\"Retail\",\"IT\",\"IT\",\"Finance\",\"IT\",\"IT\",\"Consulting\",\"Retail\",\"Retail\",\"Retail\",\"Education\",\"Finance\",\"Finance\",\"IT\",\"Healthcare\",\"IT\",\"Consulting\",\"Healthcare\",\"Education\",\"IT\",\"Retail\",\"Finance\",\"Retail\",\"Education\",\"Finance\",\"IT\",\"IT\",\"Consulting\",\"IT\",\"Education\",\"Manufacturing\",\"IT\",\"Retail\",\"Finance\",\"IT\",\"Education\",\"Education\",\"Education\",\"IT\",\"Finance\",\"Finance\",\"Manufacturing\",\"Finance\",\"Healthcare\",\"Manufacturing\",\"Consulting\",\"Finance\",\"Manufacturing\",\"Consulting\",\"Manufacturing\",\"IT\",\"Manufacturing\",\"IT\",\"Healthcare\",\"Finance\",\"IT\",\"Education\",\"Education\",\"Manufacturing\",\"Healthcare\",\"Consulting\",\"Retail\",\"Manufacturing\",\"IT\",\"IT\",\"Manufacturing\",\"IT\",\"Consulting\",\"Manufacturing\",\"IT\",\"Consulting\",\"IT\",\"Manufacturing\",\"Manufacturing\",\"Education\",\"Retail\",\"Retail\",\"Education\",\"IT\",\"Education\",\"Finance\",\"Education\",\"Retail\",\"Healthcare\",\"Education\",\"Consulting\",\"IT\",\"Healthcare\",\"Education\",\"Retail\",\"Healthcare\",\"Retail\",\"Consulting\",\"IT\",\"Manufacturing\",\"Manufacturing\",\"Education\",\"Finance\",\"Finance\",\"IT\",\"Healthcare\",\"IT\",\"Finance\",\"Finance\",\"IT\",\"Retail\",\"Education\",\"Retail\",\"Manufacturing\",\"Healthcare\",\"Manufacturing\",\"Healthcare\",\"Education\",\"Healthcare\",\"Education\",\"Healthcare\",\"Education\",\"Manufacturing\",\"Healthcare\",\"IT\",\"Consulting\",\"Manufacturing\",\"Healthcare\",\"IT\",\"Manufacturing\",\"Retail\",\"Manufacturing\",\"Finance\",\"IT\",\"Retail\",\"Healthcare\",\"Manufacturing\",\"Retail\",\"Healthcare\",\"Education\",\"Consulting\",\"Retail\",\"Consulting\",\"Finance\",\"Retail\",\"Consulting\",\"Consulting\",\"Education\",\"Healthcare\",\"Education\",\"Consulting\",\"Healthcare\",\"Consulting\",\"Manufacturing\",\"Manufacturing\",\"Healthcare\",\"Education\",\"Finance\",\"Education\",\"Healthcare\",\"Consulting\",\"Education\",\"Finance\",\"Manufacturing\",\"Education\",\"Healthcare\",\"Education\",\"Consulting\",\"Consulting\",\"Healthcare\",\"Manufacturing\",\"Manufacturing\",\"Consulting\",\"IT\",\"Healthcare\",\"IT\",\"Manufacturing\",\"Education\",\"Manufacturing\",\"Education\",\"Retail\",\"IT\",\"Healthcare\",\"Retail\",\"Finance\",\"Education\",\"Finance\",\"Education\",\"Retail\",\"Manufacturing\",\"Finance\",\"Finance\",\"Finance\",\"Finance\",\"Education\",\"Consulting\",\"Retail\",\"Healthcare\",\"Finance\",\"Education\",\"Education\",\"IT\",\"Healthcare\",\"IT\",\"Consulting\",\"Finance\",\"Manufacturing\",\"Consulting\",\"Finance\",\"Healthcare\",\"Education\",\"Healthcare\",\"Retail\",\"Manufacturing\",\"IT\",\"Consulting\",\"Manufacturing\",\"Finance\",\"Retail\",\"Education\",\"Healthcare\",\"Retail\",\"Retail\",\"IT\",\"IT\",\"Education\",\"Consulting\",\"IT\",\"Manufacturing\",\"Manufacturing\",\"Education\",\"Consulting\",\"Consulting\",\"Consulting\",\"IT\",\"Manufacturing\",\"IT\",\"Manufacturing\",\"Finance\",\"Healthcare\",\"Education\",\"Healthcare\",\"Healthcare\",\"Finance\",\"Consulting\",\"Consulting\",\"Consulting\",\"Healthcare\",\"Manufacturing\",\"Education\",\"IT\",\"Healthcare\",\"Manufacturing\",\"IT\",\"Manufacturing\",\"Consulting\",\"Manufacturing\",\"Finance\",\"Consulting\",\"Manufacturing\",\"Consulting\",\"IT\",\"IT\",\"Retail\",\"IT\",\"Education\",\"Finance\",\"Manufacturing\",\"Manufacturing\",\"Manufacturing\",\"Education\",\"Consulting\",\"Finance\",\"Finance\",\"IT\",\"Manufacturing\",\"Education\",\"Consulting\",\"Manufacturing\",\"IT\",\"Manufacturing\",\"IT\",\"Education\",\"Finance\",\"Consulting\",\"Consulting\",\"Consulting\",\"Healthcare\",\"Finance\",\"Healthcare\",\"Retail\",\"Consulting\",\"Finance\",\"Retail\",\"Consulting\",\"IT\",\"Consulting\",\"Manufacturing\",\"Manufacturing\",\"Manufacturing\",\"Consulting\",\"IT\",\"Healthcare\",\"Education\",\"Consulting\",\"Retail\",\"Consulting\",\"Manufacturing\",\"Education\",\"Healthcare\",\"Consulting\",\"Retail\",\"Healthcare\",\"Healthcare\",\"Education\",\"IT\",\"Healthcare\",\"Education\",\"Healthcare\",\"IT\",\"Education\",\"Retail\",\"IT\",\"Retail\",\"Finance\",\"Retail\",\"Manufacturing\",\"Manufacturing\",\"Manufacturing\",\"Education\",\"Retail\",\"Healthcare\",\"Retail\",\"Retail\",\"IT\",\"Education\",\"IT\",\"IT\",\"Finance\",\"Finance\",\"Healthcare\",\"Retail\",\"Finance\",\"Education\",\"Manufacturing\",\"Education\",\"Consulting\",\"IT\",\"Consulting\",\"Healthcare\",\"Manufacturing\",\"Manufacturing\",\"Finance\",\"IT\",\"Consulting\",\"Healthcare\",\"IT\",\"Education\",\"Finance\",\"Consulting\",\"Retail\",\"Healthcare\",\"Healthcare\",\"Healthcare\",\"Consulting\",\"Retail\",\"Education\",\"Healthcare\",\"Healthcare\",\"IT\",\"Healthcare\",\"Manufacturing\",\"Finance\",\"Finance\",\"Retail\",\"Retail\",\"Retail\",\"IT\",\"Finance\",\"Finance\",\"Manufacturing\",\"Healthcare\",\"Consulting\",\"Retail\",\"Healthcare\",\"IT\",\"Manufacturing\",\"Finance\",\"Healthcare\",\"Education\",\"Education\",\"Consulting\",\"Healthcare\",\"Retail\",\"Manufacturing\",\"Retail\",\"Manufacturing\",\"Retail\",\"Finance\",\"IT\",\"Education\",\"Retail\",\"Consulting\",\"Education\",\"Finance\",\"Finance\",\"IT\",\"IT\",\"Finance\",\"Education\",\"Finance\",\"Education\",\"IT\",\"IT\",\"Retail\",\"Manufacturing\",\"Consulting\",\"Retail\",\"Retail\",\"Education\",\"Education\",\"Healthcare\",\"Education\",\"Manufacturing\",\"Consulting\",\"Retail\",\"Manufacturing\",\"Finance\",\"Manufacturing\",\"Manufacturing\",\"Retail\",\"IT\",\"Education\",\"Healthcare\",\"Education\",\"Healthcare\",\"IT\",\"IT\",\"Education\",\"Consulting\",\"IT\",\"Retail\",\"Retail\",\"Education\",\"IT\",\"Finance\",\"Education\",\"Retail\",\"Manufacturing\",\"Manufacturing\",\"IT\",\"Manufacturing\",\"Education\",\"Retail\",\"Retail\",\"Retail\",\"Education\",\"Finance\",\"Consulting\",\"Finance\",\"Finance\",\"Consulting\",\"Manufacturing\",\"IT\",\"Consulting\",\"Consulting\",\"Education\",\"Retail\",\"Manufacturing\",\"Consulting\",\"Education\",\"Manufacturing\",\"Retail\",\"Education\",\"Finance\",\"Healthcare\",\"Retail\",\"Healthcare\",\"Manufacturing\",\"Finance\",\"Manufacturing\",\"Healthcare\",\"Manufacturing\",\"Finance\",\"Finance\",\"Retail\",\"Education\",\"Finance\",\"Manufacturing\",\"Healthcare\",\"Manufacturing\",\"Healthcare\",\"Healthcare\",\"Finance\",\"Healthcare\",\"IT\",\"IT\",\"Manufacturing\",\"IT\",\"Finance\",\"Retail\",\"IT\",\"Consulting\",\"Healthcare\",\"Finance\",\"Retail\",\"Education\",\"Consulting\",\"Finance\",\"IT\",\"Finance\",\"Education\",\"Finance\",\"IT\",\"Education\",\"Finance\",\"Education\",\"Finance\",\"Finance\",\"Healthcare\",\"Healthcare\",\"Healthcare\",\"Manufacturing\",\"Healthcare\",\"Manufacturing\",\"IT\",\"Healthcare\",\"Healthcare\",\"Consulting\",\"Manufacturing\",\"Healthcare\",\"Healthcare\",\"Consulting\",\"Healthcare\",\"IT\",\"Manufacturing\",\"Retail\",\"Healthcare\",\"Finance\",\"Retail\",\"Finance\",\"Healthcare\",\"Retail\",\"Retail\",\"Consulting\",\"Manufacturing\",\"IT\",\"Finance\",\"Finance\",\"Manufacturing\",\"Manufacturing\",\"Finance\",\"Healthcare\",\"Retail\",\"Consulting\",\"Manufacturing\",\"Manufacturing\",\"Manufacturing\",\"IT\",\"IT\",\"IT\",\"IT\",\"Consulting\",\"Finance\",\"Manufacturing\",\"Finance\",\"Education\",\"Manufacturing\",\"Finance\",\"Consulting\",\"Education\",\"Manufacturing\",\"Retail\",\"Consulting\",\"Education\",\"Finance\",\"IT\",\"Retail\",\"Education\",\"Consulting\",\"Manufacturing\",\"Retail\",\"Education\",\"Retail\",\"Manufacturing\",\"Finance\",\"Healthcare\",\"Manufacturing\",\"IT\",\"Education\",\"Manufacturing\",\"Finance\",\"Retail\",\"Retail\",\"Healthcare\",\"Manufacturing\",\"Finance\",\"Manufacturing\",\"Education\",\"Healthcare\",\"IT\",\"Healthcare\",\"Finance\",\"Manufacturing\",\"Manufacturing\",\"Healthcare\",\"Education\",\"Consulting\",\"Manufacturing\",\"Manufacturing\",\"IT\",\"Manufacturing\",\"Manufacturing\",\"Consulting\",\"Finance\",\"Consulting\",\"Consulting\",\"Finance\",\"Consulting\",\"Education\",\"Consulting\",\"Healthcare\",\"Manufacturing\",\"IT\",\"Finance\",\"Education\",\"Consulting\",\"IT\",\"Finance\",\"Retail\",\"IT\",\"Education\",\"Education\",\"Manufacturing\",\"IT\",\"Consulting\",\"Finance\",\"IT\",\"IT\",\"Consulting\",\"Consulting\",\"Finance\",\"Education\",\"Manufacturing\",\"Retail\",\"Consulting\",\"Manufacturing\",\"Finance\",\"Manufacturing\",\"IT\",\"Healthcare\",\"Finance\",\"Retail\",\"Education\",\"Manufacturing\",\"Retail\",\"Education\",\"Consulting\",\"Manufacturing\",\"Manufacturing\",\"Healthcare\",\"Manufacturing\",\"Healthcare\",\"Manufacturing\",\"Finance\",\"Manufacturing\",\"Healthcare\",\"Manufacturing\",\"Retail\",\"Education\",\"Retail\",\"Healthcare\",\"Consulting\",\"IT\",\"Finance\",\"Retail\",\"Retail\",\"Education\",\"Healthcare\",\"Healthcare\",\"Healthcare\",\"Education\",\"Manufacturing\",\"Consulting\",\"Healthcare\",\"IT\",\"Education\",\"Manufacturing\",\"Education\",\"Retail\",\"Finance\",\"Retail\",\"Finance\",\"Finance\",\"IT\",\"Consulting\",\"Education\",\"Consulting\",\"Healthcare\",\"Consulting\",\"Finance\",\"Consulting\",\"Retail\",\"IT\",\"Healthcare\"],\"yaxis\":\"y\",\"type\":\"bar\"},{\"alignmentgroup\":\"True\",\"hovertemplate\":\"Work_Location=Onsite\\u003cbr\\u003eNumber of people=%{x}\\u003cbr\\u003eIndustries=%{y}\\u003cextra\\u003e\\u003c\\u002fextra\\u003e\",\"legendgroup\":\"Onsite\",\"marker\":{\"color\":\"#00cc96\",\"pattern\":{\"shape\":\"\"}},\"name\":\"Onsite\",\"offsetgroup\":\"Onsite\",\"orientation\":\"h\",\"showlegend\":true,\"textposition\":\"auto\",\"x\":[1,1,1,1,1,1,1,1,1,1,1,1,1,1,1,1,1,1,1,1,1,1,1,1,1,1,1,1,1,1,1,1,1,1,1,1,1,1,1,1,1,1,1,1,1,1,1,1,1,1,1,1,1,1,1,1,1,1,1,1,1,1,1,1,1,1,1,1,1,1,1,1,1,1,1,1,1,1,1,1,1,1,1,1,1,1,1,1,1,1,1,1,1,1,1,1,1,1,1,1,1,1,1,1,1,1,1,1,1,1,1,1,1,1,1,1,1,1,1,1,1,1,1,1,1,1,1,1,1,1,1,1,1,1,1,1,1,1,1,1,1,1,1,1,1,1,1,1,1,1,1,1,1,1,1,1,1,1,1,1,1,1,1,1,1,1,1,1,1,1,1,1,1,1,1,1,1,1,1,1,1,1,1,1,1,1,1,1,1,1,1,1,1,1,1,1,1,1,1,1,1,1,1,1,1,1,1,1,1,1,1,1,1,1,1,1,1,1,1,1,1,1,1,1,1,1,1,1,1,1,1,1,1,1,1,1,1,1,1,1,1,1,1,1,1,1,1,1,1,1,1,1,1,1,1,1,1,1,1,1,1,1,1,1,1,1,1,1,1,1,1,1,1,1,1,1,1,1,1,1,1,1,1,1,1,1,1,1,1,1,1,1,1,1,1,1,1,1,1,1,1,1,1,1,1,1,1,1,1,1,1,1,1,1,1,1,1,1,1,1,1,1,1,1,1,1,1,1,1,1,1,1,1,1,1,1,1,1,1,1,1,1,1,1,1,1,1,1,1,1,1,1,1,1,1,1,1,1,1,1,1,1,1,1,1,1,1,1,1,1,1,1,1,1,1,1,1,1,1,1,1,1,1,1,1,1,1,1,1,1,1,1,1,1,1,1,1,1,1,1,1,1,1,1,1,1,1,1,1,1,1,1,1,1,1,1,1,1,1,1,1,1,1,1,1,1,1,1,1,1,1,1,1,1,1,1,1,1,1,1,1,1,1,1,1,1,1,1,1,1,1,1,1,1,1,1,1,1,1,1,1,1,1,1,1,1,1,1,1,1,1,1,1,1,1,1,1,1,1,1,1,1,1,1,1,1,1,1,1,1,1,1,1,1,1,1,1,1,1,1,1,1,1,1,1,1,1,1,1,1,1,1,1,1,1,1,1,1,1,1,1,1,1,1,1,1,1,1,1,1,1,1,1,1,1,1,1,1,1,1,1,1,1,1,1,1,1,1,1,1,1,1,1,1,1,1,1,1,1,1,1,1,1,1,1,1,1,1,1,1,1,1,1,1,1,1,1,1,1,1,1,1,1,1,1,1,1,1,1,1,1,1,1,1,1,1,1,1,1,1,1,1,1,1,1,1,1,1,1,1,1,1,1,1,1,1,1,1,1,1,1,1,1,1,1,1,1,1,1,1,1,1,1,1,1,1,1,1,1,1,1,1,1,1,1,1,1,1,1,1,1,1,1,1,1,1,1,1,1,1,1,1,1,1,1,1,1,1,1,1,1,1,1,1,1,1,1,1,1,1,1,1,1,1,1,1,1,1,1,1,1,1,1,1,1,1,1,1,1,1,1,1,1,1,1,1,1,1,1,1,1,1,1,1,1,1,1,1,1,1,1,1,1,1,1,1,1,1,1,1,1,1,1,1,1,1,1,1,1,1,1,1,1,1,1,1,1,1,1,1,1,1,1,1,1,1,1,1,1,1,1,1,1,1,1,1,1,1,1,1,1,1,1,1,1,1,1,1,1,1,1,1,1,1,1,1,1,1,1,1,1,1,1,1,1,1,1,1,1,1,1,1,1,1,1,1,1,1,1,1,1,1,1,1,1,1,1,1,1,1,1,1,1,1,1,1,1,1,1,1,1,1,1,1,1,1,1,1,1,1,1,1,1,1,1,1,1,1,1,1,1,1,1,1,1,1,1,1,1,1,1,1,1,1,1,1,1,1,1,1,1,1,1,1,1,1,1,1,1,1,1,1,1,1,1,1,1,1,1,1,1,1,1,1,1,1,1,1,1,1,1,1,1,1,1,1,1,1,1,1,1,1,1,1,1,1,1,1,1,1,1,1,1,1,1,1,1,1,1,1,1,1,1,1,1,1,1,1,1,1,1,1,1,1,1,1,1,1,1,1,1,1,1,1,1,1,1,1,1,1,1,1,1,1,1,1,1,1,1,1,1,1,1,1,1,1,1,1,1,1,1,1,1,1,1,1,1,1,1,1,1,1,1,1,1,1,1,1,1,1,1,1,1,1,1,1,1,1,1,1,1,1,1,1,1,1,1,1,1,1,1,1,1,1,1,1,1,1,1,1,1,1,1,1,1,1,1,1,1,1,1,1,1,1,1,1,1,1,1,1,1,1,1,1,1,1,1,1,1,1,1,1,1,1,1,1,1,1,1,1,1,1,1,1,1,1,1,1,1,1,1,1,1,1,1,1,1,1,1,1,1,1,1,1,1,1,1,1,1,1,1,1,1,1,1,1,1,1,1,1,1,1,1,1,1,1,1,1,1,1,1,1,1,1,1,1,1,1,1,1,1,1,1,1,1,1,1,1,1,1,1,1,1,1,1,1,1,1,1,1,1,1,1,1,1,1,1,1,1,1,1,1,1,1,1,1,1,1,1,1,1,1,1,1,1,1,1,1,1,1,1,1,1,1,1,1,1,1,1,1,1,1,1,1,1,1,1,1,1,1,1,1,1,1,1,1,1,1,1,1,1,1,1,1,1,1,1,1,1,1,1,1,1,1,1,1,1,1,1,1,1,1,1,1,1,1,1,1,1,1,1,1,1,1,1,1,1,1,1,1,1,1,1,1,1,1,1,1,1,1,1,1,1,1,1,1,1,1,1,1,1,1,1,1,1,1,1,1,1,1,1,1,1,1,1,1,1,1,1,1,1,1,1,1,1,1,1,1,1,1,1,1,1,1,1,1,1,1,1,1,1,1,1,1,1,1,1,1,1,1,1,1,1,1,1,1,1,1,1,1,1,1,1,1,1,1,1,1,1,1,1,1,1,1,1,1,1,1,1,1,1,1,1,1,1,1,1,1,1,1,1,1,1,1,1,1,1,1,1,1,1,1,1,1,1,1,1,1,1,1,1,1,1,1,1,1,1,1,1,1,1,1,1,1,1,1,1,1,1,1,1,1,1,1,1,1,1,1,1,1,1,1,1,1,1,1,1,1,1,1,1,1,1,1,1,1,1,1,1,1,1,1,1,1,1,1,1,1,1,1,1,1,1,1,1,1,1,1,1,1,1,1,1,1,1,1,1,1,1,1,1,1,1,1,1,1,1,1,1,1,1,1,1,1,1,1,1,1,1,1,1,1,1,1,1,1,1,1,1,1,1,1,1,1,1,1,1,1,1,1,1,1,1,1,1,1,1,1,1,1,1,1,1,1,1,1,1,1,1,1,1,1,1,1,1,1,1,1,1,1,1,1,1,1,1,1,1,1,1,1,1,1,1,1,1,1,1,1,1,1,1,1,1,1,1,1,1,1,1,1,1,1,1,1,1,1,1,1,1,1,1,1,1,1,1,1,1,1,1,1,1,1,1,1,1,1,1,1,1,1,1,1,1,1,1,1,1,1,1,1,1,1,1,1,1,1,1,1,1,1,1,1,1,1,1,1,1,1,1,1,1,1,1,1,1,1,1,1,1,1,1,1,1,1,1,1,1],\"xaxis\":\"x\",\"y\":[\"Finance\",\"Consulting\",\"Manufacturing\",\"Education\",\"Consulting\",\"Education\",\"Finance\",\"Consulting\",\"Healthcare\",\"Retail\",\"Retail\",\"IT\",\"IT\",\"Finance\",\"IT\",\"IT\",\"Healthcare\",\"Retail\",\"Manufacturing\",\"Retail\",\"Healthcare\",\"IT\",\"Healthcare\",\"Manufacturing\",\"Consulting\",\"Retail\",\"Consulting\",\"Retail\",\"Consulting\",\"Finance\",\"Manufacturing\",\"Retail\",\"Manufacturing\",\"IT\",\"Education\",\"Healthcare\",\"Manufacturing\",\"Healthcare\",\"IT\",\"Retail\",\"Education\",\"Finance\",\"Manufacturing\",\"Healthcare\",\"Consulting\",\"Retail\",\"Consulting\",\"Retail\",\"Education\",\"Finance\",\"IT\",\"Consulting\",\"Healthcare\",\"Manufacturing\",\"Healthcare\",\"Healthcare\",\"Education\",\"Retail\",\"Education\",\"Finance\",\"Healthcare\",\"IT\",\"Consulting\",\"Healthcare\",\"IT\",\"Education\",\"Healthcare\",\"IT\",\"Finance\",\"IT\",\"Manufacturing\",\"Manufacturing\",\"Manufacturing\",\"Education\",\"Education\",\"Consulting\",\"Retail\",\"IT\",\"Consulting\",\"Retail\",\"Healthcare\",\"Retail\",\"Education\",\"Manufacturing\",\"Finance\",\"Manufacturing\",\"Retail\",\"Manufacturing\",\"Finance\",\"Education\",\"Retail\",\"Consulting\",\"Retail\",\"Finance\",\"Consulting\",\"Finance\",\"Finance\",\"Finance\",\"Healthcare\",\"Finance\",\"Consulting\",\"IT\",\"Finance\",\"IT\",\"Retail\",\"IT\",\"Education\",\"Education\",\"Education\",\"Manufacturing\",\"Healthcare\",\"Consulting\",\"Manufacturing\",\"IT\",\"IT\",\"IT\",\"Finance\",\"Finance\",\"Manufacturing\",\"Healthcare\",\"Retail\",\"Retail\",\"Manufacturing\",\"IT\",\"Manufacturing\",\"Healthcare\",\"Healthcare\",\"Consulting\",\"Retail\",\"Retail\",\"Healthcare\",\"Finance\",\"Healthcare\",\"Education\",\"Manufacturing\",\"Manufacturing\",\"Consulting\",\"Consulting\",\"IT\",\"Consulting\",\"Education\",\"Manufacturing\",\"Retail\",\"Healthcare\",\"Retail\",\"Manufacturing\",\"Healthcare\",\"Consulting\",\"Retail\",\"Finance\",\"IT\",\"Retail\",\"Manufacturing\",\"Finance\",\"Retail\",\"Finance\",\"Healthcare\",\"Healthcare\",\"IT\",\"Education\",\"Retail\",\"Retail\",\"Consulting\",\"Education\",\"IT\",\"Healthcare\",\"Retail\",\"Retail\",\"IT\",\"Retail\",\"Retail\",\"IT\",\"Healthcare\",\"Retail\",\"Finance\",\"Retail\",\"Manufacturing\",\"Manufacturing\",\"Education\",\"Retail\",\"Retail\",\"Manufacturing\",\"Education\",\"Manufacturing\",\"Education\",\"Retail\",\"Healthcare\",\"Healthcare\",\"Healthcare\",\"Retail\",\"Consulting\",\"Finance\",\"Healthcare\",\"Healthcare\",\"Retail\",\"Retail\",\"Retail\",\"Education\",\"Consulting\",\"Finance\",\"Consulting\",\"Retail\",\"Retail\",\"IT\",\"Consulting\",\"Retail\",\"IT\",\"IT\",\"IT\",\"Consulting\",\"Manufacturing\",\"Finance\",\"Finance\",\"Retail\",\"IT\",\"Retail\",\"Consulting\",\"Healthcare\",\"Manufacturing\",\"Education\",\"IT\",\"Education\",\"Consulting\",\"Healthcare\",\"Healthcare\",\"Finance\",\"Manufacturing\",\"Consulting\",\"Retail\",\"Healthcare\",\"Healthcare\",\"Finance\",\"IT\",\"Retail\",\"IT\",\"Finance\",\"Retail\",\"IT\",\"Healthcare\",\"Manufacturing\",\"Finance\",\"IT\",\"Consulting\",\"Education\",\"Healthcare\",\"Finance\",\"Education\",\"Finance\",\"Education\",\"Consulting\",\"Education\",\"IT\",\"Retail\",\"Retail\",\"Consulting\",\"Healthcare\",\"Manufacturing\",\"Healthcare\",\"Retail\",\"Healthcare\",\"IT\",\"Healthcare\",\"IT\",\"Manufacturing\",\"Retail\",\"Retail\",\"Manufacturing\",\"Education\",\"Healthcare\",\"Retail\",\"Consulting\",\"Finance\",\"IT\",\"Healthcare\",\"Finance\",\"Healthcare\",\"Consulting\",\"Manufacturing\",\"Finance\",\"Retail\",\"Education\",\"IT\",\"Retail\",\"Consulting\",\"Retail\",\"Healthcare\",\"Healthcare\",\"Retail\",\"IT\",\"Finance\",\"Manufacturing\",\"Retail\",\"IT\",\"Manufacturing\",\"IT\",\"Manufacturing\",\"IT\",\"Manufacturing\",\"Retail\",\"Consulting\",\"IT\",\"Healthcare\",\"Education\",\"Education\",\"IT\",\"IT\",\"Healthcare\",\"Education\",\"Consulting\",\"Finance\",\"Manufacturing\",\"Finance\",\"Healthcare\",\"Retail\",\"Education\",\"Consulting\",\"Consulting\",\"Healthcare\",\"IT\",\"Healthcare\",\"Consulting\",\"Manufacturing\",\"IT\",\"Finance\",\"Education\",\"Education\",\"Education\",\"Healthcare\",\"Manufacturing\",\"Education\",\"Manufacturing\",\"Retail\",\"Manufacturing\",\"IT\",\"IT\",\"Consulting\",\"Manufacturing\",\"Consulting\",\"Consulting\",\"Education\",\"IT\",\"Healthcare\",\"IT\",\"IT\",\"Finance\",\"Education\",\"Finance\",\"Manufacturing\",\"Manufacturing\",\"Finance\",\"Finance\",\"IT\",\"Education\",\"Healthcare\",\"Consulting\",\"Education\",\"Healthcare\",\"Education\",\"Education\",\"Consulting\",\"Education\",\"Finance\",\"Consulting\",\"Manufacturing\",\"Healthcare\",\"Consulting\",\"Finance\",\"IT\",\"Retail\",\"Healthcare\",\"Consulting\",\"Retail\",\"IT\",\"Consulting\",\"Education\",\"IT\",\"Retail\",\"Healthcare\",\"Finance\",\"Finance\",\"IT\",\"Healthcare\",\"Finance\",\"Education\",\"Education\",\"Education\",\"Finance\",\"Education\",\"Manufacturing\",\"Retail\",\"Manufacturing\",\"Healthcare\",\"Retail\",\"Healthcare\",\"Finance\",\"Manufacturing\",\"IT\",\"Finance\",\"Healthcare\",\"Manufacturing\",\"Consulting\",\"Finance\",\"IT\",\"Healthcare\",\"Consulting\",\"Education\",\"Healthcare\",\"Consulting\",\"Manufacturing\",\"Retail\",\"Consulting\",\"Retail\",\"Finance\",\"IT\",\"Healthcare\",\"Finance\",\"Finance\",\"Healthcare\",\"Manufacturing\",\"Manufacturing\",\"Finance\",\"Consulting\",\"Manufacturing\",\"IT\",\"Education\",\"Finance\",\"IT\",\"IT\",\"Healthcare\",\"Healthcare\",\"Manufacturing\",\"Consulting\",\"Consulting\",\"Consulting\",\"Manufacturing\",\"Retail\",\"Healthcare\",\"Healthcare\",\"Healthcare\",\"Education\",\"Healthcare\",\"Education\",\"Finance\",\"Manufacturing\",\"IT\",\"Consulting\",\"Finance\",\"Finance\",\"IT\",\"Manufacturing\",\"IT\",\"IT\",\"Finance\",\"Finance\",\"Retail\",\"Education\",\"Consulting\",\"Finance\",\"Consulting\",\"Consulting\",\"Healthcare\",\"IT\",\"Retail\",\"Healthcare\",\"Healthcare\",\"Retail\",\"Manufacturing\",\"Education\",\"Retail\",\"Healthcare\",\"Finance\",\"Education\",\"Retail\",\"Consulting\",\"Consulting\",\"IT\",\"Manufacturing\",\"Consulting\",\"Manufacturing\",\"IT\",\"Retail\",\"IT\",\"IT\",\"Consulting\",\"IT\",\"Retail\",\"Consulting\",\"Finance\",\"Consulting\",\"IT\",\"Consulting\",\"Consulting\",\"Manufacturing\",\"IT\",\"IT\",\"Retail\",\"Manufacturing\",\"Education\",\"Consulting\",\"Finance\",\"Education\",\"Finance\",\"Education\",\"Consulting\",\"Education\",\"Finance\",\"Healthcare\",\"Healthcare\",\"Finance\",\"Finance\",\"Healthcare\",\"IT\",\"Healthcare\",\"Retail\",\"Education\",\"Consulting\",\"Healthcare\",\"Finance\",\"Manufacturing\",\"Manufacturing\",\"Retail\",\"Consulting\",\"Manufacturing\",\"IT\",\"Education\",\"Consulting\",\"Retail\",\"IT\",\"Education\",\"Retail\",\"Education\",\"Retail\",\"Manufacturing\",\"Healthcare\",\"Manufacturing\",\"Education\",\"Healthcare\",\"Manufacturing\",\"Retail\",\"Healthcare\",\"Education\",\"Manufacturing\",\"Retail\",\"Healthcare\",\"Finance\",\"Retail\",\"Healthcare\",\"Healthcare\",\"Manufacturing\",\"Healthcare\",\"Finance\",\"Retail\",\"Retail\",\"Education\",\"Finance\",\"IT\",\"Retail\",\"Finance\",\"Education\",\"Healthcare\",\"Consulting\",\"Retail\",\"Healthcare\",\"Healthcare\",\"IT\",\"Education\",\"Education\",\"Finance\",\"Education\",\"Education\",\"Finance\",\"Healthcare\",\"Retail\",\"Manufacturing\",\"Finance\",\"Education\",\"Consulting\",\"Consulting\",\"Finance\",\"Education\",\"Healthcare\",\"Retail\",\"IT\",\"Retail\",\"Finance\",\"Manufacturing\",\"Consulting\",\"Consulting\",\"Consulting\",\"Education\",\"Healthcare\",\"Consulting\",\"IT\",\"Healthcare\",\"Healthcare\",\"Consulting\",\"Manufacturing\",\"Finance\",\"Healthcare\",\"IT\",\"Consulting\",\"Healthcare\",\"Finance\",\"Manufacturing\",\"IT\",\"Retail\",\"IT\",\"Finance\",\"Education\",\"Consulting\",\"Healthcare\",\"Retail\",\"Consulting\",\"Manufacturing\",\"Manufacturing\",\"IT\",\"Consulting\",\"Education\",\"Manufacturing\",\"Healthcare\",\"IT\",\"Retail\",\"IT\",\"Finance\",\"Education\",\"Finance\",\"Finance\",\"Retail\",\"Education\",\"Education\",\"Finance\",\"Finance\",\"Retail\",\"Manufacturing\",\"Finance\",\"Education\",\"IT\",\"Education\",\"Consulting\",\"Retail\",\"Finance\",\"Healthcare\",\"Healthcare\",\"Manufacturing\",\"Manufacturing\",\"Finance\",\"Finance\",\"Healthcare\",\"Consulting\",\"Consulting\",\"Consulting\",\"Manufacturing\",\"Healthcare\",\"Finance\",\"Finance\",\"IT\",\"Education\",\"Education\",\"Retail\",\"Finance\",\"Education\",\"Finance\",\"Education\",\"Consulting\",\"Education\",\"Education\",\"Education\",\"Finance\",\"Retail\",\"Finance\",\"Retail\",\"Healthcare\",\"Manufacturing\",\"Consulting\",\"Consulting\",\"IT\",\"Education\",\"Retail\",\"Consulting\",\"Healthcare\",\"Retail\",\"Retail\",\"IT\",\"Finance\",\"Healthcare\",\"Healthcare\",\"Finance\",\"Healthcare\",\"Consulting\",\"Retail\",\"Consulting\",\"IT\",\"Healthcare\",\"Retail\",\"Consulting\",\"Finance\",\"Manufacturing\",\"Retail\",\"Consulting\",\"IT\",\"Education\",\"Retail\",\"Education\",\"Finance\",\"Manufacturing\",\"Consulting\",\"IT\",\"Consulting\",\"IT\",\"IT\",\"Consulting\",\"IT\",\"Consulting\",\"Healthcare\",\"Consulting\",\"Retail\",\"Retail\",\"Healthcare\",\"Manufacturing\",\"Finance\",\"Consulting\",\"Education\",\"IT\",\"Retail\",\"Manufacturing\",\"Education\",\"Retail\",\"Finance\",\"Consulting\",\"Healthcare\",\"Finance\",\"Education\",\"Retail\",\"Consulting\",\"Healthcare\",\"Retail\",\"IT\",\"Healthcare\",\"Manufacturing\",\"IT\",\"IT\",\"Retail\",\"IT\",\"Retail\",\"Finance\",\"Consulting\",\"IT\",\"IT\",\"Manufacturing\",\"Education\",\"IT\",\"IT\",\"Education\",\"Healthcare\",\"Retail\",\"Education\",\"Finance\",\"Education\",\"Manufacturing\",\"Healthcare\",\"Manufacturing\",\"Finance\",\"Finance\",\"Retail\",\"IT\",\"Education\",\"Manufacturing\",\"Manufacturing\",\"IT\",\"Finance\",\"Retail\",\"Healthcare\",\"Finance\",\"Finance\",\"Education\",\"IT\",\"Education\",\"IT\",\"IT\",\"IT\",\"IT\",\"Retail\",\"Consulting\",\"Manufacturing\",\"Manufacturing\",\"IT\",\"Healthcare\",\"Education\",\"Retail\",\"Manufacturing\",\"Education\",\"Retail\",\"Education\",\"Manufacturing\",\"Manufacturing\",\"IT\",\"IT\",\"Finance\",\"Retail\",\"Consulting\",\"Consulting\",\"IT\",\"IT\",\"Finance\",\"IT\",\"Retail\",\"Manufacturing\",\"Consulting\",\"Finance\",\"Retail\",\"Education\",\"Education\",\"Education\",\"IT\",\"Manufacturing\",\"Retail\",\"Manufacturing\",\"Healthcare\",\"Consulting\",\"Consulting\",\"Healthcare\",\"Consulting\",\"Manufacturing\",\"Retail\",\"IT\",\"Education\",\"Education\",\"Consulting\",\"Manufacturing\",\"IT\",\"Retail\",\"IT\",\"IT\",\"Manufacturing\",\"Consulting\",\"Retail\",\"Education\",\"Finance\",\"Retail\",\"Education\",\"IT\",\"Consulting\",\"IT\",\"Retail\",\"Retail\",\"IT\",\"Manufacturing\",\"Retail\",\"Healthcare\",\"IT\",\"Finance\",\"Education\",\"Manufacturing\",\"IT\",\"Education\",\"IT\",\"Finance\",\"Manufacturing\",\"Manufacturing\",\"Retail\",\"Retail\",\"Healthcare\",\"Manufacturing\",\"Healthcare\",\"Manufacturing\",\"IT\",\"Consulting\",\"Consulting\",\"Finance\",\"Manufacturing\",\"Finance\",\"Education\",\"Finance\",\"Education\",\"Education\",\"Consulting\",\"Healthcare\",\"Consulting\",\"Education\",\"Retail\",\"Healthcare\",\"Education\",\"Education\",\"Finance\",\"Healthcare\",\"IT\",\"Healthcare\",\"Consulting\",\"Healthcare\",\"Consulting\",\"Consulting\",\"Consulting\",\"Consulting\",\"Education\",\"Manufacturing\",\"Consulting\",\"Manufacturing\",\"Education\",\"Healthcare\",\"Finance\",\"Education\",\"Healthcare\",\"IT\",\"Education\",\"IT\",\"Healthcare\",\"IT\",\"Education\",\"IT\",\"IT\",\"Manufacturing\",\"Consulting\",\"Retail\",\"Retail\",\"Retail\",\"Education\",\"Consulting\",\"Healthcare\",\"Manufacturing\",\"IT\",\"Retail\",\"Healthcare\",\"Finance\",\"Healthcare\",\"Healthcare\",\"Finance\",\"Retail\",\"Education\",\"Consulting\",\"Manufacturing\",\"Retail\",\"Retail\",\"Education\",\"IT\",\"Education\",\"IT\",\"Manufacturing\",\"Consulting\",\"Retail\",\"IT\",\"Healthcare\",\"IT\",\"Education\",\"Healthcare\",\"Manufacturing\",\"Healthcare\",\"Education\",\"Manufacturing\",\"Consulting\",\"Healthcare\",\"Consulting\",\"Healthcare\",\"Healthcare\",\"Finance\",\"Finance\",\"Consulting\",\"Finance\",\"Manufacturing\",\"Retail\",\"Consulting\",\"Manufacturing\",\"Healthcare\",\"Retail\",\"Education\",\"Finance\",\"Education\",\"Retail\",\"Healthcare\",\"Consulting\",\"Retail\",\"Education\",\"Manufacturing\",\"Manufacturing\",\"Healthcare\",\"Finance\",\"Retail\",\"IT\",\"Retail\",\"Retail\",\"Retail\",\"Manufacturing\",\"Finance\",\"Education\",\"Healthcare\",\"Consulting\",\"IT\",\"Finance\",\"Education\",\"Retail\",\"Finance\",\"IT\",\"Education\",\"Education\",\"Manufacturing\",\"Education\",\"Retail\",\"Healthcare\",\"Healthcare\",\"Retail\",\"IT\",\"Healthcare\",\"Consulting\",\"Consulting\",\"Consulting\",\"Retail\",\"IT\",\"Consulting\",\"Education\",\"Education\",\"IT\",\"IT\",\"Retail\",\"Education\",\"Healthcare\",\"IT\",\"Retail\",\"Healthcare\",\"Healthcare\",\"IT\",\"Education\",\"Finance\",\"Healthcare\",\"Consulting\",\"Retail\",\"Retail\",\"IT\",\"Finance\",\"Manufacturing\",\"Education\",\"Consulting\",\"IT\",\"IT\",\"Consulting\",\"Manufacturing\",\"Education\",\"Manufacturing\",\"Retail\",\"IT\",\"Consulting\",\"Education\",\"Healthcare\",\"IT\",\"IT\",\"Retail\",\"Education\",\"Retail\",\"Manufacturing\",\"Finance\",\"Education\",\"Education\",\"Retail\",\"Retail\",\"Retail\",\"Retail\",\"Education\",\"Manufacturing\",\"Manufacturing\",\"IT\",\"Retail\",\"Education\",\"Consulting\",\"Education\",\"Healthcare\",\"Manufacturing\",\"Healthcare\",\"Manufacturing\",\"Consulting\",\"Healthcare\",\"Consulting\",\"Manufacturing\",\"Education\",\"Education\",\"Finance\",\"Manufacturing\",\"Finance\",\"Healthcare\",\"Healthcare\",\"Education\",\"Retail\",\"Manufacturing\",\"Consulting\",\"Manufacturing\",\"Finance\",\"Finance\",\"Healthcare\",\"Education\",\"Finance\",\"Manufacturing\",\"Finance\",\"Consulting\",\"Consulting\",\"Finance\",\"Consulting\",\"Manufacturing\",\"Retail\",\"Education\",\"IT\",\"Manufacturing\",\"Finance\",\"IT\",\"Education\",\"Education\",\"Manufacturing\",\"Healthcare\",\"Manufacturing\",\"Consulting\",\"Healthcare\",\"Finance\",\"Healthcare\",\"Consulting\",\"Education\",\"Education\",\"Healthcare\",\"IT\",\"Manufacturing\",\"Education\",\"Manufacturing\",\"Consulting\",\"Consulting\",\"Healthcare\",\"Consulting\",\"Finance\",\"IT\",\"Manufacturing\",\"IT\",\"Manufacturing\",\"Healthcare\",\"Education\",\"IT\",\"Finance\",\"Education\",\"Consulting\",\"IT\",\"Consulting\",\"Consulting\",\"Retail\",\"Education\",\"IT\",\"IT\",\"Healthcare\",\"Consulting\",\"Retail\",\"IT\",\"Retail\",\"Consulting\",\"Healthcare\",\"Education\",\"Finance\",\"IT\",\"IT\",\"Education\",\"Healthcare\",\"IT\",\"IT\",\"Consulting\",\"Retail\",\"Education\",\"Finance\",\"Consulting\",\"Healthcare\",\"Consulting\",\"Manufacturing\",\"Healthcare\",\"IT\",\"Finance\",\"Finance\",\"IT\",\"Healthcare\",\"Healthcare\",\"Finance\",\"Consulting\",\"Consulting\",\"Education\",\"Manufacturing\",\"Retail\",\"IT\",\"Manufacturing\",\"Consulting\",\"IT\",\"Finance\",\"Manufacturing\",\"Finance\",\"Education\",\"IT\",\"Consulting\",\"Healthcare\",\"Education\",\"Retail\",\"Manufacturing\",\"Consulting\",\"Retail\",\"Education\",\"Consulting\",\"Education\",\"IT\",\"IT\",\"IT\",\"Healthcare\",\"Finance\",\"Healthcare\",\"Retail\",\"Retail\",\"Finance\",\"Education\",\"Healthcare\",\"Retail\",\"Manufacturing\",\"Education\",\"Education\",\"Manufacturing\",\"Education\",\"Manufacturing\",\"Retail\",\"Finance\",\"IT\",\"IT\",\"Consulting\",\"Consulting\",\"Manufacturing\",\"Healthcare\",\"Manufacturing\",\"IT\",\"Finance\",\"Retail\",\"Education\",\"Finance\",\"Finance\",\"Consulting\",\"IT\",\"Finance\",\"Finance\",\"IT\",\"Finance\",\"Finance\",\"Retail\",\"Healthcare\",\"Healthcare\",\"Consulting\",\"Education\",\"Retail\",\"IT\",\"Education\",\"Finance\",\"IT\",\"Manufacturing\",\"Manufacturing\",\"Education\",\"Retail\",\"Healthcare\",\"Finance\",\"Finance\",\"Healthcare\",\"Education\",\"Healthcare\",\"IT\",\"Manufacturing\",\"Finance\",\"Retail\",\"Healthcare\",\"Education\",\"IT\",\"Healthcare\",\"IT\",\"Manufacturing\",\"Finance\",\"Retail\",\"Consulting\",\"Consulting\",\"Healthcare\",\"Manufacturing\",\"Finance\",\"Retail\",\"Manufacturing\",\"IT\",\"IT\",\"Consulting\",\"Manufacturing\",\"Education\",\"Retail\",\"Manufacturing\",\"Healthcare\",\"Finance\",\"Finance\",\"Consulting\",\"Retail\",\"Consulting\",\"Healthcare\",\"IT\",\"Healthcare\",\"Education\",\"Education\",\"Education\",\"Retail\",\"Healthcare\",\"Finance\",\"Retail\",\"IT\",\"Healthcare\",\"Finance\",\"Consulting\",\"Healthcare\",\"IT\",\"Finance\",\"Education\",\"IT\",\"Manufacturing\",\"Retail\",\"IT\",\"Consulting\",\"Consulting\",\"Education\",\"Consulting\",\"Retail\",\"Finance\",\"Manufacturing\",\"Finance\",\"Finance\",\"Manufacturing\",\"Education\",\"Manufacturing\",\"IT\",\"Consulting\",\"Healthcare\",\"Finance\",\"Education\",\"Finance\",\"Manufacturing\",\"Manufacturing\",\"Retail\",\"Finance\",\"Education\",\"Retail\",\"Consulting\",\"Healthcare\",\"Education\",\"Retail\",\"Education\",\"IT\",\"Healthcare\",\"IT\",\"Retail\",\"Consulting\",\"Healthcare\",\"Consulting\",\"Education\",\"Education\",\"Retail\",\"IT\",\"IT\",\"Finance\",\"IT\",\"Education\",\"Consulting\",\"Retail\",\"Healthcare\",\"Consulting\",\"Education\",\"Finance\",\"IT\",\"Finance\",\"Healthcare\",\"Education\",\"Finance\",\"Retail\",\"IT\",\"IT\",\"Retail\",\"Healthcare\",\"Retail\",\"Consulting\",\"Education\",\"Healthcare\",\"Finance\",\"IT\",\"Finance\",\"Retail\",\"Education\",\"Finance\",\"Education\",\"Retail\",\"IT\",\"Education\",\"Retail\",\"Finance\",\"Finance\",\"Healthcare\",\"Finance\",\"Finance\",\"IT\",\"Retail\",\"Education\",\"Education\",\"Finance\",\"Consulting\",\"Consulting\",\"Consulting\",\"IT\",\"IT\",\"IT\",\"Education\",\"Consulting\",\"Consulting\",\"Finance\",\"Consulting\",\"Retail\",\"Manufacturing\",\"Retail\",\"IT\",\"Manufacturing\",\"Education\",\"Retail\",\"IT\",\"Manufacturing\",\"Education\",\"Consulting\",\"Education\",\"Education\",\"Retail\",\"Manufacturing\",\"Education\",\"Finance\",\"Healthcare\",\"Retail\",\"Finance\",\"Manufacturing\",\"Healthcare\",\"Manufacturing\",\"Education\",\"IT\",\"Finance\",\"Healthcare\",\"Retail\",\"Healthcare\",\"Consulting\",\"Education\",\"Finance\",\"Retail\",\"IT\",\"Manufacturing\",\"Finance\",\"Finance\",\"IT\",\"IT\",\"Manufacturing\",\"Manufacturing\",\"Education\",\"Retail\",\"Consulting\",\"Finance\",\"IT\",\"Consulting\",\"IT\",\"Consulting\",\"IT\",\"Healthcare\",\"IT\",\"Retail\",\"Consulting\",\"Manufacturing\",\"Manufacturing\",\"IT\",\"Finance\",\"Education\",\"Finance\",\"Education\",\"Finance\",\"Manufacturing\",\"Finance\",\"IT\",\"Education\",\"Finance\",\"Manufacturing\",\"Finance\",\"Consulting\",\"Healthcare\",\"Healthcare\",\"Retail\",\"Healthcare\",\"Education\",\"IT\",\"Retail\",\"Education\",\"Healthcare\",\"Healthcare\",\"Healthcare\",\"Retail\",\"Retail\",\"Retail\",\"Consulting\",\"IT\",\"Retail\",\"Healthcare\",\"Consulting\",\"Finance\",\"Manufacturing\",\"Healthcare\",\"IT\",\"Retail\",\"Healthcare\",\"Finance\",\"Education\",\"Retail\",\"Education\",\"Retail\",\"Retail\",\"Education\",\"Retail\",\"Consulting\",\"Consulting\",\"IT\",\"Retail\",\"Manufacturing\",\"Retail\",\"Consulting\",\"Manufacturing\",\"Retail\",\"Consulting\",\"Consulting\",\"Finance\",\"Consulting\",\"Consulting\",\"IT\",\"Finance\",\"Manufacturing\",\"Retail\",\"Healthcare\",\"Finance\",\"Finance\",\"IT\",\"Healthcare\",\"Education\",\"Retail\",\"Healthcare\",\"IT\",\"Finance\",\"Education\",\"Retail\",\"Education\",\"Retail\",\"Retail\",\"Finance\",\"Education\",\"Finance\",\"Consulting\",\"Retail\",\"Finance\",\"Consulting\",\"Consulting\",\"Finance\",\"Consulting\",\"Education\",\"Consulting\",\"Retail\",\"Healthcare\",\"Education\",\"Consulting\",\"Finance\",\"Manufacturing\",\"Retail\",\"Finance\",\"Manufacturing\",\"Healthcare\",\"Retail\",\"IT\",\"Consulting\",\"Manufacturing\",\"IT\",\"Retail\",\"IT\",\"Retail\",\"Manufacturing\",\"Healthcare\",\"Retail\",\"Healthcare\",\"IT\",\"Retail\",\"Finance\",\"IT\",\"Consulting\",\"Manufacturing\",\"Education\",\"Finance\",\"IT\",\"IT\",\"IT\",\"IT\",\"Healthcare\",\"Education\",\"Finance\",\"Consulting\",\"Manufacturing\",\"Consulting\",\"Manufacturing\",\"Consulting\",\"Retail\",\"Manufacturing\",\"IT\",\"Education\",\"IT\",\"Finance\",\"Consulting\",\"IT\",\"IT\",\"Education\",\"Consulting\",\"Finance\",\"Education\",\"Finance\",\"Healthcare\",\"IT\",\"Healthcare\",\"Finance\",\"Education\",\"IT\",\"Consulting\",\"Finance\",\"IT\",\"Education\",\"Education\",\"Healthcare\",\"Finance\",\"Finance\",\"Manufacturing\",\"Manufacturing\",\"Education\",\"Manufacturing\",\"Retail\",\"IT\",\"Education\",\"Retail\",\"Consulting\",\"IT\",\"Manufacturing\",\"Consulting\",\"Consulting\",\"Healthcare\",\"IT\"],\"yaxis\":\"y\",\"type\":\"bar\"}],                        {\"template\":{\"data\":{\"histogram2dcontour\":[{\"type\":\"histogram2dcontour\",\"colorbar\":{\"outlinewidth\":0,\"ticks\":\"\"},\"colorscale\":[[0.0,\"#0d0887\"],[0.1111111111111111,\"#46039f\"],[0.2222222222222222,\"#7201a8\"],[0.3333333333333333,\"#9c179e\"],[0.4444444444444444,\"#bd3786\"],[0.5555555555555556,\"#d8576b\"],[0.6666666666666666,\"#ed7953\"],[0.7777777777777778,\"#fb9f3a\"],[0.8888888888888888,\"#fdca26\"],[1.0,\"#f0f921\"]]}],\"choropleth\":[{\"type\":\"choropleth\",\"colorbar\":{\"outlinewidth\":0,\"ticks\":\"\"}}],\"histogram2d\":[{\"type\":\"histogram2d\",\"colorbar\":{\"outlinewidth\":0,\"ticks\":\"\"},\"colorscale\":[[0.0,\"#0d0887\"],[0.1111111111111111,\"#46039f\"],[0.2222222222222222,\"#7201a8\"],[0.3333333333333333,\"#9c179e\"],[0.4444444444444444,\"#bd3786\"],[0.5555555555555556,\"#d8576b\"],[0.6666666666666666,\"#ed7953\"],[0.7777777777777778,\"#fb9f3a\"],[0.8888888888888888,\"#fdca26\"],[1.0,\"#f0f921\"]]}],\"heatmap\":[{\"type\":\"heatmap\",\"colorbar\":{\"outlinewidth\":0,\"ticks\":\"\"},\"colorscale\":[[0.0,\"#0d0887\"],[0.1111111111111111,\"#46039f\"],[0.2222222222222222,\"#7201a8\"],[0.3333333333333333,\"#9c179e\"],[0.4444444444444444,\"#bd3786\"],[0.5555555555555556,\"#d8576b\"],[0.6666666666666666,\"#ed7953\"],[0.7777777777777778,\"#fb9f3a\"],[0.8888888888888888,\"#fdca26\"],[1.0,\"#f0f921\"]]}],\"heatmapgl\":[{\"type\":\"heatmapgl\",\"colorbar\":{\"outlinewidth\":0,\"ticks\":\"\"},\"colorscale\":[[0.0,\"#0d0887\"],[0.1111111111111111,\"#46039f\"],[0.2222222222222222,\"#7201a8\"],[0.3333333333333333,\"#9c179e\"],[0.4444444444444444,\"#bd3786\"],[0.5555555555555556,\"#d8576b\"],[0.6666666666666666,\"#ed7953\"],[0.7777777777777778,\"#fb9f3a\"],[0.8888888888888888,\"#fdca26\"],[1.0,\"#f0f921\"]]}],\"contourcarpet\":[{\"type\":\"contourcarpet\",\"colorbar\":{\"outlinewidth\":0,\"ticks\":\"\"}}],\"contour\":[{\"type\":\"contour\",\"colorbar\":{\"outlinewidth\":0,\"ticks\":\"\"},\"colorscale\":[[0.0,\"#0d0887\"],[0.1111111111111111,\"#46039f\"],[0.2222222222222222,\"#7201a8\"],[0.3333333333333333,\"#9c179e\"],[0.4444444444444444,\"#bd3786\"],[0.5555555555555556,\"#d8576b\"],[0.6666666666666666,\"#ed7953\"],[0.7777777777777778,\"#fb9f3a\"],[0.8888888888888888,\"#fdca26\"],[1.0,\"#f0f921\"]]}],\"surface\":[{\"type\":\"surface\",\"colorbar\":{\"outlinewidth\":0,\"ticks\":\"\"},\"colorscale\":[[0.0,\"#0d0887\"],[0.1111111111111111,\"#46039f\"],[0.2222222222222222,\"#7201a8\"],[0.3333333333333333,\"#9c179e\"],[0.4444444444444444,\"#bd3786\"],[0.5555555555555556,\"#d8576b\"],[0.6666666666666666,\"#ed7953\"],[0.7777777777777778,\"#fb9f3a\"],[0.8888888888888888,\"#fdca26\"],[1.0,\"#f0f921\"]]}],\"mesh3d\":[{\"type\":\"mesh3d\",\"colorbar\":{\"outlinewidth\":0,\"ticks\":\"\"}}],\"scatter\":[{\"fillpattern\":{\"fillmode\":\"overlay\",\"size\":10,\"solidity\":0.2},\"type\":\"scatter\"}],\"parcoords\":[{\"type\":\"parcoords\",\"line\":{\"colorbar\":{\"outlinewidth\":0,\"ticks\":\"\"}}}],\"scatterpolargl\":[{\"type\":\"scatterpolargl\",\"marker\":{\"colorbar\":{\"outlinewidth\":0,\"ticks\":\"\"}}}],\"bar\":[{\"error_x\":{\"color\":\"#2a3f5f\"},\"error_y\":{\"color\":\"#2a3f5f\"},\"marker\":{\"line\":{\"color\":\"#E5ECF6\",\"width\":0.5},\"pattern\":{\"fillmode\":\"overlay\",\"size\":10,\"solidity\":0.2}},\"type\":\"bar\"}],\"scattergeo\":[{\"type\":\"scattergeo\",\"marker\":{\"colorbar\":{\"outlinewidth\":0,\"ticks\":\"\"}}}],\"scatterpolar\":[{\"type\":\"scatterpolar\",\"marker\":{\"colorbar\":{\"outlinewidth\":0,\"ticks\":\"\"}}}],\"histogram\":[{\"marker\":{\"pattern\":{\"fillmode\":\"overlay\",\"size\":10,\"solidity\":0.2}},\"type\":\"histogram\"}],\"scattergl\":[{\"type\":\"scattergl\",\"marker\":{\"colorbar\":{\"outlinewidth\":0,\"ticks\":\"\"}}}],\"scatter3d\":[{\"type\":\"scatter3d\",\"line\":{\"colorbar\":{\"outlinewidth\":0,\"ticks\":\"\"}},\"marker\":{\"colorbar\":{\"outlinewidth\":0,\"ticks\":\"\"}}}],\"scattermapbox\":[{\"type\":\"scattermapbox\",\"marker\":{\"colorbar\":{\"outlinewidth\":0,\"ticks\":\"\"}}}],\"scatterternary\":[{\"type\":\"scatterternary\",\"marker\":{\"colorbar\":{\"outlinewidth\":0,\"ticks\":\"\"}}}],\"scattercarpet\":[{\"type\":\"scattercarpet\",\"marker\":{\"colorbar\":{\"outlinewidth\":0,\"ticks\":\"\"}}}],\"carpet\":[{\"aaxis\":{\"endlinecolor\":\"#2a3f5f\",\"gridcolor\":\"white\",\"linecolor\":\"white\",\"minorgridcolor\":\"white\",\"startlinecolor\":\"#2a3f5f\"},\"baxis\":{\"endlinecolor\":\"#2a3f5f\",\"gridcolor\":\"white\",\"linecolor\":\"white\",\"minorgridcolor\":\"white\",\"startlinecolor\":\"#2a3f5f\"},\"type\":\"carpet\"}],\"table\":[{\"cells\":{\"fill\":{\"color\":\"#EBF0F8\"},\"line\":{\"color\":\"white\"}},\"header\":{\"fill\":{\"color\":\"#C8D4E3\"},\"line\":{\"color\":\"white\"}},\"type\":\"table\"}],\"barpolar\":[{\"marker\":{\"line\":{\"color\":\"#E5ECF6\",\"width\":0.5},\"pattern\":{\"fillmode\":\"overlay\",\"size\":10,\"solidity\":0.2}},\"type\":\"barpolar\"}],\"pie\":[{\"automargin\":true,\"type\":\"pie\"}]},\"layout\":{\"autotypenumbers\":\"strict\",\"colorway\":[\"#636efa\",\"#EF553B\",\"#00cc96\",\"#ab63fa\",\"#FFA15A\",\"#19d3f3\",\"#FF6692\",\"#B6E880\",\"#FF97FF\",\"#FECB52\"],\"font\":{\"color\":\"#2a3f5f\"},\"hovermode\":\"closest\",\"hoverlabel\":{\"align\":\"left\"},\"paper_bgcolor\":\"white\",\"plot_bgcolor\":\"#E5ECF6\",\"polar\":{\"bgcolor\":\"#E5ECF6\",\"angularaxis\":{\"gridcolor\":\"white\",\"linecolor\":\"white\",\"ticks\":\"\"},\"radialaxis\":{\"gridcolor\":\"white\",\"linecolor\":\"white\",\"ticks\":\"\"}},\"ternary\":{\"bgcolor\":\"#E5ECF6\",\"aaxis\":{\"gridcolor\":\"white\",\"linecolor\":\"white\",\"ticks\":\"\"},\"baxis\":{\"gridcolor\":\"white\",\"linecolor\":\"white\",\"ticks\":\"\"},\"caxis\":{\"gridcolor\":\"white\",\"linecolor\":\"white\",\"ticks\":\"\"}},\"coloraxis\":{\"colorbar\":{\"outlinewidth\":0,\"ticks\":\"\"}},\"colorscale\":{\"sequential\":[[0.0,\"#0d0887\"],[0.1111111111111111,\"#46039f\"],[0.2222222222222222,\"#7201a8\"],[0.3333333333333333,\"#9c179e\"],[0.4444444444444444,\"#bd3786\"],[0.5555555555555556,\"#d8576b\"],[0.6666666666666666,\"#ed7953\"],[0.7777777777777778,\"#fb9f3a\"],[0.8888888888888888,\"#fdca26\"],[1.0,\"#f0f921\"]],\"sequentialminus\":[[0.0,\"#0d0887\"],[0.1111111111111111,\"#46039f\"],[0.2222222222222222,\"#7201a8\"],[0.3333333333333333,\"#9c179e\"],[0.4444444444444444,\"#bd3786\"],[0.5555555555555556,\"#d8576b\"],[0.6666666666666666,\"#ed7953\"],[0.7777777777777778,\"#fb9f3a\"],[0.8888888888888888,\"#fdca26\"],[1.0,\"#f0f921\"]],\"diverging\":[[0,\"#8e0152\"],[0.1,\"#c51b7d\"],[0.2,\"#de77ae\"],[0.3,\"#f1b6da\"],[0.4,\"#fde0ef\"],[0.5,\"#f7f7f7\"],[0.6,\"#e6f5d0\"],[0.7,\"#b8e186\"],[0.8,\"#7fbc41\"],[0.9,\"#4d9221\"],[1,\"#276419\"]]},\"xaxis\":{\"gridcolor\":\"white\",\"linecolor\":\"white\",\"ticks\":\"\",\"title\":{\"standoff\":15},\"zerolinecolor\":\"white\",\"automargin\":true,\"zerolinewidth\":2},\"yaxis\":{\"gridcolor\":\"white\",\"linecolor\":\"white\",\"ticks\":\"\",\"title\":{\"standoff\":15},\"zerolinecolor\":\"white\",\"automargin\":true,\"zerolinewidth\":2},\"scene\":{\"xaxis\":{\"backgroundcolor\":\"#E5ECF6\",\"gridcolor\":\"white\",\"linecolor\":\"white\",\"showbackground\":true,\"ticks\":\"\",\"zerolinecolor\":\"white\",\"gridwidth\":2},\"yaxis\":{\"backgroundcolor\":\"#E5ECF6\",\"gridcolor\":\"white\",\"linecolor\":\"white\",\"showbackground\":true,\"ticks\":\"\",\"zerolinecolor\":\"white\",\"gridwidth\":2},\"zaxis\":{\"backgroundcolor\":\"#E5ECF6\",\"gridcolor\":\"white\",\"linecolor\":\"white\",\"showbackground\":true,\"ticks\":\"\",\"zerolinecolor\":\"white\",\"gridwidth\":2}},\"shapedefaults\":{\"line\":{\"color\":\"#2a3f5f\"}},\"annotationdefaults\":{\"arrowcolor\":\"#2a3f5f\",\"arrowhead\":0,\"arrowwidth\":1},\"geo\":{\"bgcolor\":\"white\",\"landcolor\":\"#E5ECF6\",\"subunitcolor\":\"white\",\"showland\":true,\"showlakes\":true,\"lakecolor\":\"white\"},\"title\":{\"x\":0.05},\"mapbox\":{\"style\":\"light\"}}},\"xaxis\":{\"anchor\":\"y\",\"domain\":[0.0,1.0],\"title\":{\"text\":\"Number of people\"}},\"yaxis\":{\"anchor\":\"x\",\"domain\":[0.0,1.0],\"title\":{\"text\":\"Industries\"},\"categoryorder\":\"array\",\"categoryarray\":[\"Consulting\",\"Manufacturing\",\"Education\",\"Retail\",\"Healthcare\",\"IT\",\"Finance\"]},\"legend\":{\"title\":{\"text\":\"Work_Location\"},\"tracegroupgap\":0},\"title\":{\"text\":\"Industries\"},\"barmode\":\"relative\"},                        {\"responsive\": true}                    ).then(function(){\n",
              "                            \n",
              "var gd = document.getElementById('cafe4089-43f8-4610-830c-d116677bce02');\n",
              "var x = new MutationObserver(function (mutations, observer) {{\n",
              "        var display = window.getComputedStyle(gd).display;\n",
              "        if (!display || display === 'none') {{\n",
              "            console.log([gd, 'removed!']);\n",
              "            Plotly.purge(gd);\n",
              "            observer.disconnect();\n",
              "        }}\n",
              "}});\n",
              "\n",
              "// Listen for the removal of the full notebook cells\n",
              "var notebookContainer = gd.closest('#notebook-container');\n",
              "if (notebookContainer) {{\n",
              "    x.observe(notebookContainer, {childList: true});\n",
              "}}\n",
              "\n",
              "// Listen for the clearing of the current output cell\n",
              "var outputEl = gd.closest('.output');\n",
              "if (outputEl) {{\n",
              "    x.observe(outputEl, {childList: true});\n",
              "}}\n",
              "\n",
              "                        })                };                            </script>        </div>\n",
              "</body>\n",
              "</html>"
            ]
          },
          "metadata": {}
        }
      ]
    },
    {
      "cell_type": "markdown",
      "source": [],
      "metadata": {
        "id": "PDAQ4aFAZ-sZ"
      }
    }
  ]
}